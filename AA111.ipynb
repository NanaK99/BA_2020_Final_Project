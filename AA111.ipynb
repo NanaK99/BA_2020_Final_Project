{
 "cells": [
  {
   "cell_type": "code",
   "execution_count": 1,
   "metadata": {},
   "outputs": [],
   "source": [
    "import numpy as np\n",
    "import pandas as pd\n",
    "import matplotlib.pyplot as plt\n",
    "import seaborn as sns\n",
    "from sklearn.tree import DecisionTreeClassifier,export_graphviz \n",
    "from sklearn.model_selection import train_test_split\n",
    "from statsmodels.discrete.discrete_model import Logit\n",
    "from sklearn.linear_model import LogisticRegression\n",
    "from sklearn.metrics import confusion_matrix, classification_report\n",
    "from sklearn.model_selection import GridSearchCV\n",
    "from sklearn.metrics import recall_score, roc_auc_score, roc_curve\n",
    "from sklearn.preprocessing import StandardScaler"
   ]
  },
  {
   "cell_type": "markdown",
   "metadata": {},
   "source": [
    "# 1 Formulate Problem\n"
   ]
  },
  {
   "cell_type": "code",
   "execution_count": 2,
   "metadata": {},
   "outputs": [],
   "source": [
    "data=pd.read_csv('turnover.csv')"
   ]
  },
  {
   "cell_type": "markdown",
   "metadata": {},
   "source": [
    "# 2 Summary statistics and visualisation"
   ]
  },
  {
   "cell_type": "code",
   "execution_count": 3,
   "metadata": {},
   "outputs": [
    {
     "data": {
      "text/html": [
       "<div>\n",
       "<style scoped>\n",
       "    .dataframe tbody tr th:only-of-type {\n",
       "        vertical-align: middle;\n",
       "    }\n",
       "\n",
       "    .dataframe tbody tr th {\n",
       "        vertical-align: top;\n",
       "    }\n",
       "\n",
       "    .dataframe thead th {\n",
       "        text-align: right;\n",
       "    }\n",
       "</style>\n",
       "<table border=\"1\" class=\"dataframe\">\n",
       "  <thead>\n",
       "    <tr style=\"text-align: right;\">\n",
       "      <th></th>\n",
       "      <th>satisfaction_level</th>\n",
       "      <th>last_evaluation</th>\n",
       "      <th>number_project</th>\n",
       "      <th>average_montly_hours</th>\n",
       "      <th>time_spend_company</th>\n",
       "      <th>work_accident</th>\n",
       "      <th>churn</th>\n",
       "      <th>promotion_last_5years</th>\n",
       "      <th>department</th>\n",
       "      <th>salary</th>\n",
       "    </tr>\n",
       "  </thead>\n",
       "  <tbody>\n",
       "    <tr>\n",
       "      <th>0</th>\n",
       "      <td>0.38</td>\n",
       "      <td>0.53</td>\n",
       "      <td>2</td>\n",
       "      <td>157</td>\n",
       "      <td>3</td>\n",
       "      <td>0</td>\n",
       "      <td>1</td>\n",
       "      <td>0</td>\n",
       "      <td>sales</td>\n",
       "      <td>low</td>\n",
       "    </tr>\n",
       "    <tr>\n",
       "      <th>1</th>\n",
       "      <td>0.80</td>\n",
       "      <td>0.86</td>\n",
       "      <td>5</td>\n",
       "      <td>262</td>\n",
       "      <td>6</td>\n",
       "      <td>0</td>\n",
       "      <td>1</td>\n",
       "      <td>0</td>\n",
       "      <td>sales</td>\n",
       "      <td>medium</td>\n",
       "    </tr>\n",
       "    <tr>\n",
       "      <th>2</th>\n",
       "      <td>0.11</td>\n",
       "      <td>0.88</td>\n",
       "      <td>7</td>\n",
       "      <td>272</td>\n",
       "      <td>4</td>\n",
       "      <td>0</td>\n",
       "      <td>1</td>\n",
       "      <td>0</td>\n",
       "      <td>sales</td>\n",
       "      <td>medium</td>\n",
       "    </tr>\n",
       "    <tr>\n",
       "      <th>3</th>\n",
       "      <td>0.72</td>\n",
       "      <td>0.87</td>\n",
       "      <td>5</td>\n",
       "      <td>223</td>\n",
       "      <td>5</td>\n",
       "      <td>0</td>\n",
       "      <td>1</td>\n",
       "      <td>0</td>\n",
       "      <td>sales</td>\n",
       "      <td>low</td>\n",
       "    </tr>\n",
       "    <tr>\n",
       "      <th>4</th>\n",
       "      <td>0.37</td>\n",
       "      <td>0.52</td>\n",
       "      <td>2</td>\n",
       "      <td>159</td>\n",
       "      <td>3</td>\n",
       "      <td>0</td>\n",
       "      <td>1</td>\n",
       "      <td>0</td>\n",
       "      <td>sales</td>\n",
       "      <td>low</td>\n",
       "    </tr>\n",
       "  </tbody>\n",
       "</table>\n",
       "</div>"
      ],
      "text/plain": [
       "   satisfaction_level  last_evaluation  number_project  average_montly_hours  \\\n",
       "0                0.38             0.53               2                   157   \n",
       "1                0.80             0.86               5                   262   \n",
       "2                0.11             0.88               7                   272   \n",
       "3                0.72             0.87               5                   223   \n",
       "4                0.37             0.52               2                   159   \n",
       "\n",
       "   time_spend_company  work_accident  churn  promotion_last_5years department  \\\n",
       "0                   3              0      1                      0      sales   \n",
       "1                   6              0      1                      0      sales   \n",
       "2                   4              0      1                      0      sales   \n",
       "3                   5              0      1                      0      sales   \n",
       "4                   3              0      1                      0      sales   \n",
       "\n",
       "   salary  \n",
       "0     low  \n",
       "1  medium  \n",
       "2  medium  \n",
       "3     low  \n",
       "4     low  "
      ]
     },
     "execution_count": 3,
     "metadata": {},
     "output_type": "execute_result"
    }
   ],
   "source": [
    "data.head()"
   ]
  },
  {
   "cell_type": "markdown",
   "metadata": {},
   "source": [
    "## Dependent variable is dividend: 1-pays dividend, 0-does not pay dividend."
   ]
  },
  {
   "cell_type": "code",
   "execution_count": 4,
   "metadata": {
    "scrolled": true
   },
   "outputs": [
    {
     "name": "stdout",
     "output_type": "stream",
     "text": [
      "<class 'pandas.core.frame.DataFrame'>\n",
      "RangeIndex: 14999 entries, 0 to 14998\n",
      "Data columns (total 10 columns):\n",
      "satisfaction_level       14999 non-null float64\n",
      "last_evaluation          14999 non-null float64\n",
      "number_project           14999 non-null int64\n",
      "average_montly_hours     14999 non-null int64\n",
      "time_spend_company       14999 non-null int64\n",
      "work_accident            14999 non-null int64\n",
      "churn                    14999 non-null int64\n",
      "promotion_last_5years    14999 non-null int64\n",
      "department               14999 non-null object\n",
      "salary                   14999 non-null object\n",
      "dtypes: float64(2), int64(6), object(2)\n",
      "memory usage: 1.1+ MB\n"
     ]
    }
   ],
   "source": [
    "data.info()"
   ]
  },
  {
   "cell_type": "markdown",
   "metadata": {},
   "source": [
    "## We see that there are missing values"
   ]
  },
  {
   "cell_type": "code",
   "execution_count": 5,
   "metadata": {},
   "outputs": [
    {
     "name": "stdout",
     "output_type": "stream",
     "text": [
      "<class 'pandas.core.frame.DataFrame'>\n",
      "Int64Index: 14999 entries, 0 to 14998\n",
      "Data columns (total 10 columns):\n",
      "satisfaction_level       14999 non-null float64\n",
      "last_evaluation          14999 non-null float64\n",
      "number_project           14999 non-null int64\n",
      "average_montly_hours     14999 non-null int64\n",
      "time_spend_company       14999 non-null int64\n",
      "work_accident            14999 non-null int64\n",
      "churn                    14999 non-null int64\n",
      "promotion_last_5years    14999 non-null int64\n",
      "department               14999 non-null object\n",
      "salary                   14999 non-null object\n",
      "dtypes: float64(2), int64(6), object(2)\n",
      "memory usage: 1.3+ MB\n"
     ]
    }
   ],
   "source": [
    "data=data.dropna()\n",
    "data.info()"
   ]
  },
  {
   "cell_type": "code",
   "execution_count": 6,
   "metadata": {},
   "outputs": [
    {
     "data": {
      "text/html": [
       "<div>\n",
       "<style scoped>\n",
       "    .dataframe tbody tr th:only-of-type {\n",
       "        vertical-align: middle;\n",
       "    }\n",
       "\n",
       "    .dataframe tbody tr th {\n",
       "        vertical-align: top;\n",
       "    }\n",
       "\n",
       "    .dataframe thead th {\n",
       "        text-align: right;\n",
       "    }\n",
       "</style>\n",
       "<table border=\"1\" class=\"dataframe\">\n",
       "  <thead>\n",
       "    <tr style=\"text-align: right;\">\n",
       "      <th></th>\n",
       "      <th>satisfaction_level</th>\n",
       "      <th>last_evaluation</th>\n",
       "      <th>number_project</th>\n",
       "      <th>average_montly_hours</th>\n",
       "      <th>time_spend_company</th>\n",
       "      <th>work_accident</th>\n",
       "      <th>churn</th>\n",
       "      <th>promotion_last_5years</th>\n",
       "    </tr>\n",
       "  </thead>\n",
       "  <tbody>\n",
       "    <tr>\n",
       "      <th>count</th>\n",
       "      <td>14999.000000</td>\n",
       "      <td>14999.000000</td>\n",
       "      <td>14999.000000</td>\n",
       "      <td>14999.000000</td>\n",
       "      <td>14999.000000</td>\n",
       "      <td>14999.000000</td>\n",
       "      <td>14999.000000</td>\n",
       "      <td>14999.000000</td>\n",
       "    </tr>\n",
       "    <tr>\n",
       "      <th>mean</th>\n",
       "      <td>0.612834</td>\n",
       "      <td>0.716102</td>\n",
       "      <td>3.803054</td>\n",
       "      <td>201.050337</td>\n",
       "      <td>3.498233</td>\n",
       "      <td>0.144610</td>\n",
       "      <td>0.238083</td>\n",
       "      <td>0.021268</td>\n",
       "    </tr>\n",
       "    <tr>\n",
       "      <th>std</th>\n",
       "      <td>0.248631</td>\n",
       "      <td>0.171169</td>\n",
       "      <td>1.232592</td>\n",
       "      <td>49.943099</td>\n",
       "      <td>1.460136</td>\n",
       "      <td>0.351719</td>\n",
       "      <td>0.425924</td>\n",
       "      <td>0.144281</td>\n",
       "    </tr>\n",
       "    <tr>\n",
       "      <th>min</th>\n",
       "      <td>0.090000</td>\n",
       "      <td>0.360000</td>\n",
       "      <td>2.000000</td>\n",
       "      <td>96.000000</td>\n",
       "      <td>2.000000</td>\n",
       "      <td>0.000000</td>\n",
       "      <td>0.000000</td>\n",
       "      <td>0.000000</td>\n",
       "    </tr>\n",
       "    <tr>\n",
       "      <th>25%</th>\n",
       "      <td>0.440000</td>\n",
       "      <td>0.560000</td>\n",
       "      <td>3.000000</td>\n",
       "      <td>156.000000</td>\n",
       "      <td>3.000000</td>\n",
       "      <td>0.000000</td>\n",
       "      <td>0.000000</td>\n",
       "      <td>0.000000</td>\n",
       "    </tr>\n",
       "    <tr>\n",
       "      <th>50%</th>\n",
       "      <td>0.640000</td>\n",
       "      <td>0.720000</td>\n",
       "      <td>4.000000</td>\n",
       "      <td>200.000000</td>\n",
       "      <td>3.000000</td>\n",
       "      <td>0.000000</td>\n",
       "      <td>0.000000</td>\n",
       "      <td>0.000000</td>\n",
       "    </tr>\n",
       "    <tr>\n",
       "      <th>75%</th>\n",
       "      <td>0.820000</td>\n",
       "      <td>0.870000</td>\n",
       "      <td>5.000000</td>\n",
       "      <td>245.000000</td>\n",
       "      <td>4.000000</td>\n",
       "      <td>0.000000</td>\n",
       "      <td>0.000000</td>\n",
       "      <td>0.000000</td>\n",
       "    </tr>\n",
       "    <tr>\n",
       "      <th>max</th>\n",
       "      <td>1.000000</td>\n",
       "      <td>1.000000</td>\n",
       "      <td>7.000000</td>\n",
       "      <td>310.000000</td>\n",
       "      <td>10.000000</td>\n",
       "      <td>1.000000</td>\n",
       "      <td>1.000000</td>\n",
       "      <td>1.000000</td>\n",
       "    </tr>\n",
       "  </tbody>\n",
       "</table>\n",
       "</div>"
      ],
      "text/plain": [
       "       satisfaction_level  last_evaluation  number_project  \\\n",
       "count        14999.000000     14999.000000    14999.000000   \n",
       "mean             0.612834         0.716102        3.803054   \n",
       "std              0.248631         0.171169        1.232592   \n",
       "min              0.090000         0.360000        2.000000   \n",
       "25%              0.440000         0.560000        3.000000   \n",
       "50%              0.640000         0.720000        4.000000   \n",
       "75%              0.820000         0.870000        5.000000   \n",
       "max              1.000000         1.000000        7.000000   \n",
       "\n",
       "       average_montly_hours  time_spend_company  work_accident         churn  \\\n",
       "count          14999.000000        14999.000000   14999.000000  14999.000000   \n",
       "mean             201.050337            3.498233       0.144610      0.238083   \n",
       "std               49.943099            1.460136       0.351719      0.425924   \n",
       "min               96.000000            2.000000       0.000000      0.000000   \n",
       "25%              156.000000            3.000000       0.000000      0.000000   \n",
       "50%              200.000000            3.000000       0.000000      0.000000   \n",
       "75%              245.000000            4.000000       0.000000      0.000000   \n",
       "max              310.000000           10.000000       1.000000      1.000000   \n",
       "\n",
       "       promotion_last_5years  \n",
       "count           14999.000000  \n",
       "mean                0.021268  \n",
       "std                 0.144281  \n",
       "min                 0.000000  \n",
       "25%                 0.000000  \n",
       "50%                 0.000000  \n",
       "75%                 0.000000  \n",
       "max                 1.000000  "
      ]
     },
     "execution_count": 6,
     "metadata": {},
     "output_type": "execute_result"
    }
   ],
   "source": [
    "data.describe()"
   ]
  },
  {
   "cell_type": "code",
   "execution_count": 6,
   "metadata": {},
   "outputs": [
    {
     "data": {
      "image/png": "[encoded data removed]",
      "text/plain": [
       "<Figure size 432x288 with 1 Axes>"
      ]
     },
     "metadata": {},
     "output_type": "display_data"
    },
    {
     "name": "stdout",
     "output_type": "stream",
     "text": [
      "0    76.19\n",
      "1    23.81\n",
      "Name: churn, dtype: float64\n"
     ]
    }
   ],
   "source": [
    "sns.countplot(data.churn)\n",
    "plt.show()\n",
    "print((data.churn.value_counts()/len(data)*100).round(2))"
   ]
  },
  {
   "cell_type": "code",
   "execution_count": 27,
   "metadata": {},
   "outputs": [],
   "source": [
    "# data.churn=data.churn.apply(lambda x:0 if x==1 else 1) if we want to change 0 and 1 "
   ]
  },
  {
   "cell_type": "code",
   "execution_count": 26,
   "metadata": {},
   "outputs": [
    {
     "name": "stdout",
     "output_type": "stream",
     "text": [
      "0    76.19\n",
      "1    23.81\n",
      "Name: churn, dtype: float64\n"
     ]
    }
   ],
   "source": [
    "print((data.churn.value_counts()/len(data)*100).round(2))"
   ]
  },
  {
   "cell_type": "code",
   "execution_count": 8,
   "metadata": {},
   "outputs": [
    {
     "data": {
      "image/png": "[encoded data removed]",
      "text/plain": [
       "<Figure size 432x288 with 1 Axes>"
      ]
     },
     "metadata": {},
     "output_type": "display_data"
    },
    {
     "data": {
      "image/png": "[encoded data removed]",
      "text/plain": [
       "<Figure size 432x288 with 1 Axes>"
      ]
     },
     "metadata": {},
     "output_type": "display_data"
    },
    {
     "data": {
      "image/png": "[encoded data removed]",
      "text/plain": [
       "<Figure size 432x288 with 1 Axes>"
      ]
     },
     "metadata": {},
     "output_type": "display_data"
    },
    {
     "data": {
      "image/png": "[encoded data removed]",
      "text/plain": [
       "<Figure size 432x288 with 1 Axes>"
      ]
     },
     "metadata": {},
     "output_type": "display_data"
    },
    {
     "data": {
      "image/png": "[encoded data removed]",
      "text/plain": [
       "<Figure size 432x288 with 1 Axes>"
      ]
     },
     "metadata": {},
     "output_type": "display_data"
    },
    {
     "data": {
      "image/png": "[encoded data removed]",
      "text/plain": [
       "<Figure size 432x288 with 1 Axes>"
      ]
     },
     "metadata": {},
     "output_type": "display_data"
    },
    {
     "data": {
      "image/png": "[encoded data removed]",
      "text/plain": [
       "<Figure size 432x288 with 1 Axes>"
      ]
     },
     "metadata": {},
     "output_type": "display_data"
    }
   ],
   "source": [
    "for i in data.iloc[:,1:8]:\n",
    "    sns.boxplot(x=data[i])\n",
    "    plt.show()"
   ]
  },
  {
   "cell_type": "markdown",
   "metadata": {},
   "source": [
    "we have outliers"
   ]
  },
  {
   "cell_type": "code",
   "execution_count": 9,
   "metadata": {},
   "outputs": [
    {
     "data": {
      "image/png": "[encoded data removed]",
      "text/plain": [
       "<Figure size 432x288 with 1 Axes>"
      ]
     },
     "metadata": {},
     "output_type": "display_data"
    }
   ],
   "source": [
    "# let's see wheter there is difference in distribution of average of monthly income which affects on worker churn.\n",
    "sns.set_style(\"darkgrid\")\n",
    "sns.boxplot(data.churn,data.average_montly_hours,showmeans=True)\n",
    "plt.show()"
   ]
  },
  {
   "cell_type": "code",
   "execution_count": 10,
   "metadata": {},
   "outputs": [
    {
     "data": {
      "image/png": "[encoded data removed]",
      "text/plain": [
       "<Figure size 432x288 with 1 Axes>"
      ]
     },
     "metadata": {},
     "output_type": "display_data"
    }
   ],
   "source": [
    "# let's see wheter there is difference in distribution of satisfaction level  which affects on worker churn.\n",
    "sns.set_style(\"darkgrid\")\n",
    "sns.boxplot(data.churn,data.satisfaction_level,showmeans=True)\n",
    "plt.show()"
   ]
  },
  {
   "cell_type": "markdown",
   "metadata": {},
   "source": [
    "### We saw that in 2nd  case there is a quite visibe difference of mean and median values of satidfaction level of worker and he's churn,but which we can not say about average monthly income."
   ]
  },
  {
   "cell_type": "code",
   "execution_count": 11,
   "metadata": {},
   "outputs": [
    {
     "name": "stderr",
     "output_type": "stream",
     "text": [
      "C:\\Users\\arman\\Anaconda3\\lib\\site-packages\\matplotlib\\axes\\_axes.py:6462: UserWarning: The 'normed' kwarg is deprecated, and has been replaced by the 'density' kwarg.\n",
      "  warnings.warn(\"The 'normed' kwarg is deprecated, and has been \"\n"
     ]
    },
    {
     "data": {
      "image/png": "[encoded data removed]",
      "text/plain": [
       "<Figure size 432x288 with 1 Axes>"
      ]
     },
     "metadata": {},
     "output_type": "display_data"
    }
   ],
   "source": [
    "#plot the distribution using seaborn\n",
    "sns.distplot(data.satisfaction_level)\n",
    "plt.show()"
   ]
  },
  {
   "cell_type": "code",
   "execution_count": 12,
   "metadata": {},
   "outputs": [
    {
     "data": {
      "image/png": "[encoded data removed]",
      "text/plain": [
       "<Figure size 432x288 with 1 Axes>"
      ]
     },
     "metadata": {},
     "output_type": "display_data"
    }
   ],
   "source": [
    "#kernel density estimation\n",
    "for col in [data.average_montly_hours,data.churn]:\n",
    "    sns.kdeplot(col, shade=True)"
   ]
  },
  {
   "cell_type": "code",
   "execution_count": 13,
   "metadata": {},
   "outputs": [
    {
     "data": {
      "image/png": "[encoded data removed]",
      "text/plain": [
       "<Figure size 432x288 with 2 Axes>"
      ]
     },
     "metadata": {},
     "output_type": "display_data"
    }
   ],
   "source": [
    "#Lets check for correlations\n",
    "sns.heatmap(data.corr().abs().round(2),annot=True)\n",
    "plt.show()\n",
    "#we can see that there are many correlated variables\n",
    "#plt.figure(figsize=(15, 7)) \n",
    "#sns.heatmap(data_numeric.corr().abs().round(2)>0.75, annot=True)\n",
    "#plt.show()"
   ]
  },
  {
   "cell_type": "markdown",
   "metadata": {},
   "source": [
    "# 3 Transform data\n"
   ]
  },
  {
   "cell_type": "markdown",
   "metadata": {},
   "source": [
    "## As we saw above that we have NAs, let's drop them.\n"
   ]
  },
  {
   "cell_type": "code",
   "execution_count": 14,
   "metadata": {},
   "outputs": [],
   "source": [
    "#deviding into object and numeric datasets\n",
    "data_object=data.select_dtypes(include=\"object\")\n",
    "data_numeric=data.select_dtypes(exclude=\"object\")"
   ]
  },
  {
   "cell_type": "code",
   "execution_count": 15,
   "metadata": {},
   "outputs": [
    {
     "name": "stdout",
     "output_type": "stream",
     "text": [
      "[sales          4140\n",
      "technical      2720\n",
      "support        2229\n",
      "IT             1227\n",
      "product_mng     902\n",
      "marketing       858\n",
      "RandD           787\n",
      "accounting      767\n",
      "hr              739\n",
      "management      630\n",
      "Name: department, dtype: int64, low       7316\n",
      "medium    6446\n",
      "high      1237\n",
      "Name: salary, dtype: int64]\n"
     ]
    }
   ],
   "source": [
    "#let's check number of uniques values of object variables\n",
    "print([data_object[i].value_counts() for i in data_object.columns])"
   ]
  },
  {
   "cell_type": "code",
   "execution_count": 16,
   "metadata": {},
   "outputs": [
    {
     "name": "stdout",
     "output_type": "stream",
     "text": [
      "satisfaction_level       False\n",
      "last_evaluation          False\n",
      "number_project           False\n",
      "average_montly_hours     False\n",
      "time_spend_company       False\n",
      "work_accident            False\n",
      "churn                    False\n",
      "promotion_last_5years    False\n",
      "dtype: bool\n"
     ]
    }
   ],
   "source": [
    "#let's check for 0 variance of numeric variables\n",
    "print(data_numeric.var()==0)"
   ]
  },
  {
   "cell_type": "code",
   "execution_count": 17,
   "metadata": {},
   "outputs": [
    {
     "name": "stdout",
     "output_type": "stream",
     "text": [
      "['sales' 'accounting' 'hr' 'technical' 'support' 'management' 'IT'\n",
      " 'product_mng' 'marketing' 'RandD']\n",
      "['low' 'medium' 'high']\n"
     ]
    }
   ],
   "source": [
    "for i in data_object.columns:\n",
    "    print(data_object[i].unique())"
   ]
  },
  {
   "cell_type": "code",
   "execution_count": 71,
   "metadata": {},
   "outputs": [],
   "source": [
    "# data_numeric.drop([\"ID\",\"age\"],axis=1,inplace=True) if we want to drop something"
   ]
  },
  {
   "cell_type": "code",
   "execution_count": 18,
   "metadata": {},
   "outputs": [],
   "source": [
    "#making object variables into dummies, join back datasets\n",
    "data_dummies=pd.get_dummies(data_object,drop_first=True)\n",
    "data_final=data_dummies.join(data_numeric)\n",
    "X=data_final.drop(\"churn\",axis=1)\n",
    "Y=data_final.churn\n",
    "x_train,x_test,y_train,y_test=train_test_split(X,Y,test_size=0.25,random_state=42)# train-test split"
   ]
  },
  {
   "cell_type": "markdown",
   "metadata": {},
   "source": [
    "#  4 Modeling\n"
   ]
  },
  {
   "cell_type": "markdown",
   "metadata": {},
   "source": [
    "##  Lets create 3 models:\n",
    "\n",
    "Model 1-Logistic Regression from statsmodel\n",
    "\n",
    "Model 2-Logistic Regression from sklearn\n",
    "\n",
    "Model 3-Decision Tree Classification"
   ]
  },
  {
   "cell_type": "markdown",
   "metadata": {},
   "source": [
    "# Model 1.Logistic Regression from statsmodel"
   ]
  },
  {
   "cell_type": "code",
   "execution_count": 19,
   "metadata": {},
   "outputs": [
    {
     "data": {
      "text/plain": [
       "'churn~department_RandD+department_accounting+department_hr+department_management+department_marketing+department_product_mng+department_sales+department_support+department_technical+salary_low+salary_medium+satisfaction_level+last_evaluation+number_project+average_montly_hours+time_spend_company+work_accident+promotion_last_5years'"
      ]
     },
     "execution_count": 19,
     "metadata": {},
     "output_type": "execute_result"
    }
   ],
   "source": [
    "formula=\"churn~\"+\"+\".join(X.columns)\n",
    "formula"
   ]
  },
  {
   "cell_type": "code",
   "execution_count": 20,
   "metadata": {},
   "outputs": [
    {
     "name": "stdout",
     "output_type": "stream",
     "text": [
      "Optimization terminated successfully.\n",
      "         Current function value: 0.428358\n",
      "         Iterations 7\n"
     ]
    },
    {
     "data": {
      "text/html": [
       "<table class=\"simpletable\">\n",
       "<caption>Logit Regression Results</caption>\n",
       "<tr>\n",
       "  <th>Dep. Variable:</th>       <td>churn</td>      <th>  No. Observations:  </th>  <td> 14999</td> \n",
       "</tr>\n",
       "<tr>\n",
       "  <th>Model:</th>               <td>Logit</td>      <th>  Df Residuals:      </th>  <td> 14980</td> \n",
       "</tr>\n",
       "<tr>\n",
       "  <th>Method:</th>               <td>MLE</td>       <th>  Df Model:          </th>  <td>    18</td> \n",
       "</tr>\n",
       "<tr>\n",
       "  <th>Date:</th>          <td>Thu, 29 Nov 2018</td> <th>  Pseudo R-squ.:     </th>  <td>0.2195</td> \n",
       "</tr>\n",
       "<tr>\n",
       "  <th>Time:</th>              <td>23:45:10</td>     <th>  Log-Likelihood:    </th> <td> -6424.9</td>\n",
       "</tr>\n",
       "<tr>\n",
       "  <th>converged:</th>           <td>True</td>       <th>  LL-Null:           </th> <td> -8232.3</td>\n",
       "</tr>\n",
       "<tr>\n",
       "  <th> </th>                      <td> </td>        <th>  LLR p-value:       </th>  <td> 0.000</td> \n",
       "</tr>\n",
       "</table>\n",
       "<table class=\"simpletable\">\n",
       "<tr>\n",
       "             <td></td>               <th>coef</th>     <th>std err</th>      <th>z</th>      <th>P>|z|</th>  <th>[0.025</th>    <th>0.975]</th>  \n",
       "</tr>\n",
       "<tr>\n",
       "  <th>Intercept</th>              <td>   -1.6570</td> <td>    0.189</td> <td>   -8.784</td> <td> 0.000</td> <td>   -2.027</td> <td>   -1.287</td>\n",
       "</tr>\n",
       "<tr>\n",
       "  <th>department_RandD</th>       <td>   -0.4016</td> <td>    0.136</td> <td>   -2.962</td> <td> 0.003</td> <td>   -0.667</td> <td>   -0.136</td>\n",
       "</tr>\n",
       "<tr>\n",
       "  <th>department_accounting</th>  <td>    0.1807</td> <td>    0.122</td> <td>    1.480</td> <td> 0.139</td> <td>   -0.059</td> <td>    0.420</td>\n",
       "</tr>\n",
       "<tr>\n",
       "  <th>department_hr</th>          <td>    0.4131</td> <td>    0.121</td> <td>    3.415</td> <td> 0.001</td> <td>    0.176</td> <td>    0.650</td>\n",
       "</tr>\n",
       "<tr>\n",
       "  <th>department_management</th>  <td>   -0.2677</td> <td>    0.152</td> <td>   -1.765</td> <td> 0.078</td> <td>   -0.565</td> <td>    0.030</td>\n",
       "</tr>\n",
       "<tr>\n",
       "  <th>department_marketing</th>   <td>    0.1686</td> <td>    0.122</td> <td>    1.386</td> <td> 0.166</td> <td>   -0.070</td> <td>    0.407</td>\n",
       "</tr>\n",
       "<tr>\n",
       "  <th>department_product_mng</th> <td>    0.0275</td> <td>    0.120</td> <td>    0.230</td> <td> 0.818</td> <td>   -0.207</td> <td>    0.262</td>\n",
       "</tr>\n",
       "<tr>\n",
       "  <th>department_sales</th>       <td>    0.1419</td> <td>    0.089</td> <td>    1.601</td> <td> 0.109</td> <td>   -0.032</td> <td>    0.316</td>\n",
       "</tr>\n",
       "<tr>\n",
       "  <th>department_support</th>     <td>    0.2307</td> <td>    0.097</td> <td>    2.391</td> <td> 0.017</td> <td>    0.042</td> <td>    0.420</td>\n",
       "</tr>\n",
       "<tr>\n",
       "  <th>department_technical</th>   <td>    0.2509</td> <td>    0.093</td> <td>    2.685</td> <td> 0.007</td> <td>    0.068</td> <td>    0.434</td>\n",
       "</tr>\n",
       "<tr>\n",
       "  <th>salary_low</th>             <td>    1.9441</td> <td>    0.129</td> <td>   15.111</td> <td> 0.000</td> <td>    1.692</td> <td>    2.196</td>\n",
       "</tr>\n",
       "<tr>\n",
       "  <th>salary_medium</th>          <td>    1.4132</td> <td>    0.129</td> <td>   10.924</td> <td> 0.000</td> <td>    1.160</td> <td>    1.667</td>\n",
       "</tr>\n",
       "<tr>\n",
       "  <th>satisfaction_level</th>     <td>   -4.1357</td> <td>    0.098</td> <td>  -42.177</td> <td> 0.000</td> <td>   -4.328</td> <td>   -3.944</td>\n",
       "</tr>\n",
       "<tr>\n",
       "  <th>last_evaluation</th>        <td>    0.7309</td> <td>    0.149</td> <td>    4.899</td> <td> 0.000</td> <td>    0.439</td> <td>    1.023</td>\n",
       "</tr>\n",
       "<tr>\n",
       "  <th>number_project</th>         <td>   -0.3151</td> <td>    0.021</td> <td>  -14.775</td> <td> 0.000</td> <td>   -0.357</td> <td>   -0.273</td>\n",
       "</tr>\n",
       "<tr>\n",
       "  <th>average_montly_hours</th>   <td>    0.0045</td> <td>    0.001</td> <td>    8.643</td> <td> 0.000</td> <td>    0.003</td> <td>    0.005</td>\n",
       "</tr>\n",
       "<tr>\n",
       "  <th>time_spend_company</th>     <td>    0.2678</td> <td>    0.016</td> <td>   17.192</td> <td> 0.000</td> <td>    0.237</td> <td>    0.298</td>\n",
       "</tr>\n",
       "<tr>\n",
       "  <th>work_accident</th>          <td>   -1.5298</td> <td>    0.090</td> <td>  -17.083</td> <td> 0.000</td> <td>   -1.705</td> <td>   -1.354</td>\n",
       "</tr>\n",
       "<tr>\n",
       "  <th>promotion_last_5years</th>  <td>   -1.4301</td> <td>    0.258</td> <td>   -5.552</td> <td> 0.000</td> <td>   -1.935</td> <td>   -0.925</td>\n",
       "</tr>\n",
       "</table>"
      ],
      "text/plain": [
       "<class 'statsmodels.iolib.summary.Summary'>\n",
       "\"\"\"\n",
       "                           Logit Regression Results                           \n",
       "==============================================================================\n",
       "Dep. Variable:                  churn   No. Observations:                14999\n",
       "Model:                          Logit   Df Residuals:                    14980\n",
       "Method:                           MLE   Df Model:                           18\n",
       "Date:                Thu, 29 Nov 2018   Pseudo R-squ.:                  0.2195\n",
       "Time:                        23:45:10   Log-Likelihood:                -6424.9\n",
       "converged:                       True   LL-Null:                       -8232.3\n",
       "                                        LLR p-value:                     0.000\n",
       "==========================================================================================\n",
       "                             coef    std err          z      P>|z|      [0.025      0.975]\n",
       "------------------------------------------------------------------------------------------\n",
       "Intercept                 -1.6570      0.189     -8.784      0.000      -2.027      -1.287\n",
       "department_RandD          -0.4016      0.136     -2.962      0.003      -0.667      -0.136\n",
       "department_accounting      0.1807      0.122      1.480      0.139      -0.059       0.420\n",
       "department_hr              0.4131      0.121      3.415      0.001       0.176       0.650\n",
       "department_management     -0.2677      0.152     -1.765      0.078      -0.565       0.030\n",
       "department_marketing       0.1686      0.122      1.386      0.166      -0.070       0.407\n",
       "department_product_mng     0.0275      0.120      0.230      0.818      -0.207       0.262\n",
       "department_sales           0.1419      0.089      1.601      0.109      -0.032       0.316\n",
       "department_support         0.2307      0.097      2.391      0.017       0.042       0.420\n",
       "department_technical       0.2509      0.093      2.685      0.007       0.068       0.434\n",
       "salary_low                 1.9441      0.129     15.111      0.000       1.692       2.196\n",
       "salary_medium              1.4132      0.129     10.924      0.000       1.160       1.667\n",
       "satisfaction_level        -4.1357      0.098    -42.177      0.000      -4.328      -3.944\n",
       "last_evaluation            0.7309      0.149      4.899      0.000       0.439       1.023\n",
       "number_project            -0.3151      0.021    -14.775      0.000      -0.357      -0.273\n",
       "average_montly_hours       0.0045      0.001      8.643      0.000       0.003       0.005\n",
       "time_spend_company         0.2678      0.016     17.192      0.000       0.237       0.298\n",
       "work_accident             -1.5298      0.090    -17.083      0.000      -1.705      -1.354\n",
       "promotion_last_5years     -1.4301      0.258     -5.552      0.000      -1.935      -0.925\n",
       "==========================================================================================\n",
       "\"\"\""
      ]
     },
     "execution_count": 20,
     "metadata": {},
     "output_type": "execute_result"
    }
   ],
   "source": [
    "model1=Logit.from_formula(formula=formula,data=data_final).fit()\n",
    "model1.summary()"
   ]
  },
  {
   "cell_type": "code",
   "execution_count": 21,
   "metadata": {},
   "outputs": [
    {
     "name": "stdout",
     "output_type": "stream",
     "text": [
      "Intercept                  True\n",
      "department_RandD           True\n",
      "department_accounting     False\n",
      "department_hr              True\n",
      "department_management     False\n",
      "department_marketing      False\n",
      "department_product_mng    False\n",
      "department_sales          False\n",
      "department_support         True\n",
      "department_technical       True\n",
      "salary_low                 True\n",
      "salary_medium              True\n",
      "satisfaction_level         True\n",
      "last_evaluation            True\n",
      "number_project             True\n",
      "average_montly_hours       True\n",
      "time_spend_company         True\n",
      "work_accident              True\n",
      "promotion_last_5years      True\n",
      "dtype: bool\n"
     ]
    }
   ],
   "source": [
    "print(model1.pvalues<=0.05)"
   ]
  },
  {
   "cell_type": "code",
   "execution_count": 22,
   "metadata": {},
   "outputs": [
    {
     "data": {
      "text/html": [
       "<div>\n",
       "<style scoped>\n",
       "    .dataframe tbody tr th:only-of-type {\n",
       "        vertical-align: middle;\n",
       "    }\n",
       "\n",
       "    .dataframe tbody tr th {\n",
       "        vertical-align: top;\n",
       "    }\n",
       "\n",
       "    .dataframe thead th {\n",
       "        text-align: right;\n",
       "    }\n",
       "</style>\n",
       "<table border=\"1\" class=\"dataframe\">\n",
       "  <thead>\n",
       "    <tr style=\"text-align: right;\">\n",
       "      <th></th>\n",
       "      <th>Parameter</th>\n",
       "      <th>coef</th>\n",
       "    </tr>\n",
       "  </thead>\n",
       "  <tbody>\n",
       "    <tr>\n",
       "      <th>0</th>\n",
       "      <td>Intercept</td>\n",
       "      <td>-1.6570</td>\n",
       "    </tr>\n",
       "    <tr>\n",
       "      <th>1</th>\n",
       "      <td>department_RandD</td>\n",
       "      <td>-0.4016</td>\n",
       "    </tr>\n",
       "    <tr>\n",
       "      <th>3</th>\n",
       "      <td>department_hr</td>\n",
       "      <td>0.4131</td>\n",
       "    </tr>\n",
       "    <tr>\n",
       "      <th>8</th>\n",
       "      <td>department_support</td>\n",
       "      <td>0.2307</td>\n",
       "    </tr>\n",
       "    <tr>\n",
       "      <th>9</th>\n",
       "      <td>department_technical</td>\n",
       "      <td>0.2509</td>\n",
       "    </tr>\n",
       "    <tr>\n",
       "      <th>10</th>\n",
       "      <td>salary_low</td>\n",
       "      <td>1.9441</td>\n",
       "    </tr>\n",
       "    <tr>\n",
       "      <th>11</th>\n",
       "      <td>salary_medium</td>\n",
       "      <td>1.4132</td>\n",
       "    </tr>\n",
       "    <tr>\n",
       "      <th>12</th>\n",
       "      <td>satisfaction_level</td>\n",
       "      <td>-4.1357</td>\n",
       "    </tr>\n",
       "    <tr>\n",
       "      <th>13</th>\n",
       "      <td>last_evaluation</td>\n",
       "      <td>0.7309</td>\n",
       "    </tr>\n",
       "    <tr>\n",
       "      <th>14</th>\n",
       "      <td>number_project</td>\n",
       "      <td>-0.3151</td>\n",
       "    </tr>\n",
       "    <tr>\n",
       "      <th>15</th>\n",
       "      <td>average_montly_hours</td>\n",
       "      <td>0.0045</td>\n",
       "    </tr>\n",
       "    <tr>\n",
       "      <th>16</th>\n",
       "      <td>time_spend_company</td>\n",
       "      <td>0.2678</td>\n",
       "    </tr>\n",
       "    <tr>\n",
       "      <th>17</th>\n",
       "      <td>work_accident</td>\n",
       "      <td>-1.5298</td>\n",
       "    </tr>\n",
       "    <tr>\n",
       "      <th>18</th>\n",
       "      <td>promotion_last_5years</td>\n",
       "      <td>-1.4301</td>\n",
       "    </tr>\n",
       "  </tbody>\n",
       "</table>\n",
       "</div>"
      ],
      "text/plain": [
       "                Parameter    coef\n",
       "0               Intercept -1.6570\n",
       "1        department_RandD -0.4016\n",
       "3           department_hr  0.4131\n",
       "8      department_support  0.2307\n",
       "9    department_technical  0.2509\n",
       "10             salary_low  1.9441\n",
       "11          salary_medium  1.4132\n",
       "12     satisfaction_level -4.1357\n",
       "13        last_evaluation  0.7309\n",
       "14         number_project -0.3151\n",
       "15   average_montly_hours  0.0045\n",
       "16     time_spend_company  0.2678\n",
       "17          work_accident -1.5298\n",
       "18  promotion_last_5years -1.4301"
      ]
     },
     "execution_count": 22,
     "metadata": {},
     "output_type": "execute_result"
    }
   ],
   "source": [
    "#making summary as dataframe to manipulate easily\n",
    "log_summary=pd.read_html(model1.summary().tables[1].as_html(),header=0)[0]\n",
    "log_summary=log_summary.rename(columns={\"Unnamed: 0\":\"Parameter\"})\n",
    "log_summary[[\"Parameter\",\"coef\"]][(log_summary[\"P>|z|\"]<=0.05)] "
   ]
  },
  {
   "cell_type": "markdown",
   "metadata": {},
   "source": [
    "## Let's get marginal effects to be able to interpret how much each variable changes the probability of churning."
   ]
  },
  {
   "cell_type": "code",
   "execution_count": 23,
   "metadata": {},
   "outputs": [
    {
     "data": {
      "text/html": [
       "<table class=\"simpletable\">\n",
       "<caption>Logit Marginal Effects</caption>\n",
       "<tr>\n",
       "  <th>Dep. Variable:</th>  <td>churn</td> \n",
       "</tr>\n",
       "<tr>\n",
       "  <th>Method:</th>         <td>dydx</td>  \n",
       "</tr>\n",
       "<tr>\n",
       "  <th>At:</th>            <td>overall</td>\n",
       "</tr>\n",
       "</table>\n",
       "<table class=\"simpletable\">\n",
       "<tr>\n",
       "             <th></th>               <th>dy/dx</th>    <th>std err</th>      <th>z</th>      <th>P>|z|</th>  <th>[0.025</th>    <th>0.975]</th>  \n",
       "</tr>\n",
       "<tr>\n",
       "  <th>department_RandD</th>       <td>   -0.0554</td> <td>    0.019</td> <td>   -2.965</td> <td> 0.003</td> <td>   -0.092</td> <td>   -0.019</td>\n",
       "</tr>\n",
       "<tr>\n",
       "  <th>department_accounting</th>  <td>    0.0249</td> <td>    0.017</td> <td>    1.480</td> <td> 0.139</td> <td>   -0.008</td> <td>    0.058</td>\n",
       "</tr>\n",
       "<tr>\n",
       "  <th>department_hr</th>          <td>    0.0569</td> <td>    0.017</td> <td>    3.419</td> <td> 0.001</td> <td>    0.024</td> <td>    0.090</td>\n",
       "</tr>\n",
       "<tr>\n",
       "  <th>department_management</th>  <td>   -0.0369</td> <td>    0.021</td> <td>   -1.765</td> <td> 0.078</td> <td>   -0.078</td> <td>    0.004</td>\n",
       "</tr>\n",
       "<tr>\n",
       "  <th>department_marketing</th>   <td>    0.0232</td> <td>    0.017</td> <td>    1.386</td> <td> 0.166</td> <td>   -0.010</td> <td>    0.056</td>\n",
       "</tr>\n",
       "<tr>\n",
       "  <th>department_product_mng</th> <td>    0.0038</td> <td>    0.016</td> <td>    0.230</td> <td> 0.818</td> <td>   -0.029</td> <td>    0.036</td>\n",
       "</tr>\n",
       "<tr>\n",
       "  <th>department_sales</th>       <td>    0.0196</td> <td>    0.012</td> <td>    1.601</td> <td> 0.109</td> <td>   -0.004</td> <td>    0.044</td>\n",
       "</tr>\n",
       "<tr>\n",
       "  <th>department_support</th>     <td>    0.0318</td> <td>    0.013</td> <td>    2.392</td> <td> 0.017</td> <td>    0.006</td> <td>    0.058</td>\n",
       "</tr>\n",
       "<tr>\n",
       "  <th>department_technical</th>   <td>    0.0346</td> <td>    0.013</td> <td>    2.687</td> <td> 0.007</td> <td>    0.009</td> <td>    0.060</td>\n",
       "</tr>\n",
       "<tr>\n",
       "  <th>salary_low</th>             <td>    0.2679</td> <td>    0.017</td> <td>   15.426</td> <td> 0.000</td> <td>    0.234</td> <td>    0.302</td>\n",
       "</tr>\n",
       "<tr>\n",
       "  <th>salary_medium</th>          <td>    0.1948</td> <td>    0.018</td> <td>   11.030</td> <td> 0.000</td> <td>    0.160</td> <td>    0.229</td>\n",
       "</tr>\n",
       "<tr>\n",
       "  <th>satisfaction_level</th>     <td>   -0.5700</td> <td>    0.010</td> <td>  -54.709</td> <td> 0.000</td> <td>   -0.590</td> <td>   -0.550</td>\n",
       "</tr>\n",
       "<tr>\n",
       "  <th>last_evaluation</th>        <td>    0.1007</td> <td>    0.021</td> <td>    4.911</td> <td> 0.000</td> <td>    0.061</td> <td>    0.141</td>\n",
       "</tr>\n",
       "<tr>\n",
       "  <th>number_project</th>         <td>   -0.0434</td> <td>    0.003</td> <td>  -15.071</td> <td> 0.000</td> <td>   -0.049</td> <td>   -0.038</td>\n",
       "</tr>\n",
       "<tr>\n",
       "  <th>average_montly_hours</th>   <td>    0.0006</td> <td> 7.05e-05</td> <td>    8.716</td> <td> 0.000</td> <td>    0.000</td> <td>    0.001</td>\n",
       "</tr>\n",
       "<tr>\n",
       "  <th>time_spend_company</th>     <td>    0.0369</td> <td>    0.002</td> <td>   17.744</td> <td> 0.000</td> <td>    0.033</td> <td>    0.041</td>\n",
       "</tr>\n",
       "<tr>\n",
       "  <th>work_accident</th>          <td>   -0.2108</td> <td>    0.012</td> <td>  -17.541</td> <td> 0.000</td> <td>   -0.234</td> <td>   -0.187</td>\n",
       "</tr>\n",
       "<tr>\n",
       "  <th>promotion_last_5years</th>  <td>   -0.1971</td> <td>    0.035</td> <td>   -5.566</td> <td> 0.000</td> <td>   -0.267</td> <td>   -0.128</td>\n",
       "</tr>\n",
       "</table>"
      ],
      "text/plain": [
       "<class 'statsmodels.iolib.summary.Summary'>\n",
       "\"\"\"\n",
       "        Logit Marginal Effects       \n",
       "=====================================\n",
       "Dep. Variable:                  churn\n",
       "Method:                          dydx\n",
       "At:                           overall\n",
       "==========================================================================================\n",
       "                            dy/dx    std err          z      P>|z|      [0.025      0.975]\n",
       "------------------------------------------------------------------------------------------\n",
       "department_RandD          -0.0554      0.019     -2.965      0.003      -0.092      -0.019\n",
       "department_accounting      0.0249      0.017      1.480      0.139      -0.008       0.058\n",
       "department_hr              0.0569      0.017      3.419      0.001       0.024       0.090\n",
       "department_management     -0.0369      0.021     -1.765      0.078      -0.078       0.004\n",
       "department_marketing       0.0232      0.017      1.386      0.166      -0.010       0.056\n",
       "department_product_mng     0.0038      0.016      0.230      0.818      -0.029       0.036\n",
       "department_sales           0.0196      0.012      1.601      0.109      -0.004       0.044\n",
       "department_support         0.0318      0.013      2.392      0.017       0.006       0.058\n",
       "department_technical       0.0346      0.013      2.687      0.007       0.009       0.060\n",
       "salary_low                 0.2679      0.017     15.426      0.000       0.234       0.302\n",
       "salary_medium              0.1948      0.018     11.030      0.000       0.160       0.229\n",
       "satisfaction_level        -0.5700      0.010    -54.709      0.000      -0.590      -0.550\n",
       "last_evaluation            0.1007      0.021      4.911      0.000       0.061       0.141\n",
       "number_project            -0.0434      0.003    -15.071      0.000      -0.049      -0.038\n",
       "average_montly_hours       0.0006   7.05e-05      8.716      0.000       0.000       0.001\n",
       "time_spend_company         0.0369      0.002     17.744      0.000       0.033       0.041\n",
       "work_accident             -0.2108      0.012    -17.541      0.000      -0.234      -0.187\n",
       "promotion_last_5years     -0.1971      0.035     -5.566      0.000      -0.267      -0.128\n",
       "==========================================================================================\n",
       "\"\"\""
      ]
     },
     "execution_count": 23,
     "metadata": {},
     "output_type": "execute_result"
    }
   ],
   "source": [
    "model1.get_margeff().summary() "
   ]
  },
  {
   "cell_type": "code",
   "execution_count": 24,
   "metadata": {},
   "outputs": [
    {
     "data": {
      "text/html": [
       "<div>\n",
       "<style scoped>\n",
       "    .dataframe tbody tr th:only-of-type {\n",
       "        vertical-align: middle;\n",
       "    }\n",
       "\n",
       "    .dataframe tbody tr th {\n",
       "        vertical-align: top;\n",
       "    }\n",
       "\n",
       "    .dataframe thead th {\n",
       "        text-align: right;\n",
       "    }\n",
       "</style>\n",
       "<table border=\"1\" class=\"dataframe\">\n",
       "  <thead>\n",
       "    <tr style=\"text-align: right;\">\n",
       "      <th></th>\n",
       "      <th>Parameter</th>\n",
       "      <th>dy/dx</th>\n",
       "    </tr>\n",
       "  </thead>\n",
       "  <tbody>\n",
       "    <tr>\n",
       "      <th>0</th>\n",
       "      <td>department_RandD</td>\n",
       "      <td>-0.0554</td>\n",
       "    </tr>\n",
       "    <tr>\n",
       "      <th>2</th>\n",
       "      <td>department_hr</td>\n",
       "      <td>0.0569</td>\n",
       "    </tr>\n",
       "    <tr>\n",
       "      <th>7</th>\n",
       "      <td>department_support</td>\n",
       "      <td>0.0318</td>\n",
       "    </tr>\n",
       "    <tr>\n",
       "      <th>8</th>\n",
       "      <td>department_technical</td>\n",
       "      <td>0.0346</td>\n",
       "    </tr>\n",
       "    <tr>\n",
       "      <th>9</th>\n",
       "      <td>salary_low</td>\n",
       "      <td>0.2679</td>\n",
       "    </tr>\n",
       "    <tr>\n",
       "      <th>10</th>\n",
       "      <td>salary_medium</td>\n",
       "      <td>0.1948</td>\n",
       "    </tr>\n",
       "    <tr>\n",
       "      <th>11</th>\n",
       "      <td>satisfaction_level</td>\n",
       "      <td>-0.5700</td>\n",
       "    </tr>\n",
       "    <tr>\n",
       "      <th>12</th>\n",
       "      <td>last_evaluation</td>\n",
       "      <td>0.1007</td>\n",
       "    </tr>\n",
       "    <tr>\n",
       "      <th>13</th>\n",
       "      <td>number_project</td>\n",
       "      <td>-0.0434</td>\n",
       "    </tr>\n",
       "    <tr>\n",
       "      <th>14</th>\n",
       "      <td>average_montly_hours</td>\n",
       "      <td>0.0006</td>\n",
       "    </tr>\n",
       "    <tr>\n",
       "      <th>15</th>\n",
       "      <td>time_spend_company</td>\n",
       "      <td>0.0369</td>\n",
       "    </tr>\n",
       "    <tr>\n",
       "      <th>16</th>\n",
       "      <td>work_accident</td>\n",
       "      <td>-0.2108</td>\n",
       "    </tr>\n",
       "    <tr>\n",
       "      <th>17</th>\n",
       "      <td>promotion_last_5years</td>\n",
       "      <td>-0.1971</td>\n",
       "    </tr>\n",
       "  </tbody>\n",
       "</table>\n",
       "</div>"
      ],
      "text/plain": [
       "                Parameter   dy/dx\n",
       "0        department_RandD -0.0554\n",
       "2           department_hr  0.0569\n",
       "7      department_support  0.0318\n",
       "8    department_technical  0.0346\n",
       "9              salary_low  0.2679\n",
       "10          salary_medium  0.1948\n",
       "11     satisfaction_level -0.5700\n",
       "12        last_evaluation  0.1007\n",
       "13         number_project -0.0434\n",
       "14   average_montly_hours  0.0006\n",
       "15     time_spend_company  0.0369\n",
       "16          work_accident -0.2108\n",
       "17  promotion_last_5years -0.1971"
      ]
     },
     "execution_count": 24,
     "metadata": {},
     "output_type": "execute_result"
    }
   ],
   "source": [
    "marg_summary=pd.read_html(model1.get_margeff().summary().tables[1].as_html(),header=0)[0]\n",
    "marg_summary=marg_summary.rename(columns={\"Unnamed: 0\":\"Parameter\"})\n",
    "marg_summary[[\"Parameter\",\"dy/dx\"]][(marg_summary[\"P>|z|\"]<=0.05)] "
   ]
  },
  {
   "cell_type": "markdown",
   "metadata": {},
   "source": [
    "## Interpreting for categorical variable: employee having low salary has on average 26.8% higher probability to churn copared employee who has high salary.\n",
    "\n",
    "\n",
    "## Interpreting for continous variable: Incremental increase in promotion last 5 years decreases the probability of being churn on average by 19.7% when other factors held constant.\n"
   ]
  },
  {
   "cell_type": "markdown",
   "metadata": {},
   "source": [
    "# Model Fitting\n"
   ]
  },
  {
   "cell_type": "code",
   "execution_count": 25,
   "metadata": {},
   "outputs": [
    {
     "data": {
      "text/plain": [
       "GridSearchCV(cv=5, error_score='raise',\n",
       "       estimator=LogisticRegression(C=1.0, class_weight='balanced', dual=False,\n",
       "          fit_intercept=True, intercept_scaling=1, max_iter=100,\n",
       "          multi_class='ovr', n_jobs=1, penalty='l2', random_state=42,\n",
       "          solver='liblinear', tol=0.0001, verbose=0, warm_start=False),\n",
       "       fit_params=None, iid=True, n_jobs=-1,\n",
       "       param_grid={'C': array([1.00000e-04, 4.17625e-02, 8.34250e-02, 1.25087e-01, 1.66750e-01,\n",
       "       2.08412e-01, 2.50075e-01, 2.91737e-01, 3.33400e-01, 3.75062e-01,\n",
       "       4.16725e-01, 4.58387e-01, 5.00050e-01, 5.41712e-01, 5.83375e-01,\n",
       "       6.25037e-01, 6.66700e-01, 7.08363e-01, 7.50025e-01, 7.91687e-01,\n",
       "       8.33350e-01, 8.75012e-01, 9.16675e-01, 9.58337e-01, 1.00000e+00]), 'penalty': ['l1', 'l2']},\n",
       "       pre_dispatch='2*n_jobs', refit=True, return_train_score='warn',\n",
       "       scoring='roc_auc', verbose=0)"
      ]
     },
     "execution_count": 25,
     "metadata": {},
     "output_type": "execute_result"
    }
   ],
   "source": [
    "#getting best parameters for Logit \n",
    "\n",
    "\n",
    "grid_search1=GridSearchCV(LogisticRegression(random_state=42,class_weight=\"balanced\"),\n",
    "                          param_grid={\"C\":np.linspace(0.0001,1,25),\"penalty\":[\"l1\",\"l2\"]},scoring=\"roc_auc\",cv=5,n_jobs=-1)\n",
    "grid_search1.fit(X,Y)"
   ]
  },
  {
   "cell_type": "code",
   "execution_count": 26,
   "metadata": {},
   "outputs": [
    {
     "data": {
      "text/plain": [
       "LogisticRegression(C=1, class_weight='balanced', dual=False,\n",
       "          fit_intercept=True, intercept_scaling=1, max_iter=100,\n",
       "          multi_class='ovr', n_jobs=1, penalty='l2', random_state=42,\n",
       "          solver='liblinear', tol=0.0001, verbose=0, warm_start=False)"
      ]
     },
     "execution_count": 26,
     "metadata": {},
     "output_type": "execute_result"
    }
   ],
   "source": [
    "logit1=LogisticRegression(C=1,penalty='l2', random_state=42,class_weight=\"balanced\")\n",
    "logit1.fit(x_train,y_train)"
   ]
  },
  {
   "cell_type": "code",
   "execution_count": 30,
   "metadata": {},
   "outputs": [],
   "source": [
    "# gridsearch for decision tree\n",
    "gridsearch2=GridSearchCV(DecisionTreeClassifier(random_state=42),param_grid={\"max_depth\":(5,15),\"min_samples_leaf\":(20,100),\n",
    "                                                                             \"class_weight\":[\"balanced\"]},\n",
    "                                                                scoring=\"roc_auc\",\n",
    "                                                                cv=5,n_jobs=-1).fit(X,Y)"
   ]
  },
  {
   "cell_type": "code",
   "execution_count": 32,
   "metadata": {},
   "outputs": [
    {
     "name": "stdout",
     "output_type": "stream",
     "text": [
      "Best parameters: {'class_weight': 'balanced', 'max_depth': 15, 'min_samples_leaf': 20}\n",
      "Best score: 99.0\n"
     ]
    }
   ],
   "source": [
    "print(\"Best parameters:\",gridsearch2.best_params_)\n",
    "print(\"Best score:\",gridsearch2.best_score_.round(2)*100)"
   ]
  },
  {
   "cell_type": "code",
   "execution_count": 33,
   "metadata": {},
   "outputs": [],
   "source": [
    "tree1=DecisionTreeClassifier(class_weight='balanced',random_state=42,max_depth=15,min_samples_leaf=20).fit(x_train,y_train)"
   ]
  },
  {
   "cell_type": "markdown",
   "metadata": {},
   "source": [
    "# Model Evaluation\n"
   ]
  },
  {
   "cell_type": "markdown",
   "metadata": {},
   "source": [
    "### Confusion matrix\n"
   ]
  },
  {
   "cell_type": "code",
   "execution_count": 48,
   "metadata": {},
   "outputs": [
    {
     "data": {
      "image/png": "[encoded data removed]",
      "text/plain": [
       "<Figure size 432x288 with 2 Axes>"
      ]
     },
     "metadata": {},
     "output_type": "display_data"
    },
    {
     "data": {
      "image/png": "[encoded data removed]",
      "text/plain": [
       "<Figure size 432x288 with 2 Axes>"
      ]
     },
     "metadata": {},
     "output_type": "display_data"
    }
   ],
   "source": [
    "#let's print confusion matrix for logit and decision tree\n",
    "for i in [logit1,tree1]:\n",
    "    sns.heatmap(confusion_matrix(y_test,i.predict(x_test)).T,annot=True)\n",
    "    plt.xlabel(\"Real\")\n",
    "    plt.ylabel(\"predic\")\n",
    "    plt.show()"
   ]
  },
  {
   "cell_type": "markdown",
   "metadata": {},
   "source": [
    "## Classification report"
   ]
  },
  {
   "cell_type": "code",
   "execution_count": 49,
   "metadata": {},
   "outputs": [
    {
     "name": "stdout",
     "output_type": "stream",
     "text": [
      "             precision    recall  f1-score   support\n",
      "\n",
      "          0       0.93      0.75      0.83      2853\n",
      "          1       0.50      0.81      0.62       897\n",
      "\n",
      "avg / total       0.83      0.76      0.78      3750\n",
      "\n",
      "             precision    recall  f1-score   support\n",
      "\n",
      "          0       0.97      0.97      0.97      2853\n",
      "          1       0.91      0.92      0.91       897\n",
      "\n",
      "avg / total       0.96      0.96      0.96      3750\n",
      "\n"
     ]
    }
   ],
   "source": [
    "for i in [logit1,tree1]:\n",
    "    print(classification_report(y_test,i.predict(x_test)))"
   ]
  },
  {
   "cell_type": "markdown",
   "metadata": {},
   "source": [
    "## Roc_AUC, Accuracy, Recall\n"
   ]
  },
  {
   "cell_type": "code",
   "execution_count": 50,
   "metadata": {},
   "outputs": [
    {
     "name": "stdout",
     "output_type": "stream",
     "text": [
      "Train: 76.0\n",
      "Test: 76.0\n",
      "Recall for RF 1: 80.0\n",
      "Recall for RF 1: 81.0\n",
      "roc_auc:1 77.0\n",
      "roc_auc:1 78.0\n",
      "Train: 97.0\n",
      "Test: 96.0\n",
      "Recall for RF 1: 95.0\n",
      "Recall for RF 1: 92.0\n",
      "roc_auc:1 96.0\n",
      "roc_auc:1 94.0\n"
     ]
    }
   ],
   "source": [
    "#Logistic Regression\n",
    "print(\"Train:\",logit1.score(x_train,y_train).round(2)*100)\n",
    "print(\"Test:\",logit1.score(x_test,y_test).round(2)*100)\n",
    "ypred1=logit1.predict(x_train)\n",
    "ypred2=logit1.predict(x_test)\n",
    "print('Recall for RF 1:',recall_score(y_train,ypred1).round(2)*100)\n",
    "print(\"Recall for RF 1:\",recall_score(y_test,ypred2).round(2)*100)\n",
    "print('roc_auc:1',roc_auc_score(y_train,ypred1).round(2)*100)\n",
    "print('roc_auc:1',roc_auc_score(y_test,ypred2).round(2)*100)\n",
    "\n",
    "\n",
    "#Decision Tree\n",
    "print(\"Train:\",tree1.score(x_train,y_train).round(2)*100)\n",
    "print(\"Test:\",tree1.score(x_test,y_test).round(2)*100)\n",
    "ypred3=tree1.predict(x_train)\n",
    "ypred4=tree1.predict(x_test)\n",
    "print('Recall for RF 1:',recall_score(y_train,ypred3).round(2)*100)\n",
    "print(\"Recall for RF 1:\",recall_score(y_test,ypred4).round(2)*100)\n",
    "print('roc_auc:1',roc_auc_score(y_train,ypred3).round(2)*100)\n",
    "print('roc_auc:1',roc_auc_score(y_test,ypred4).round(2)*100)"
   ]
  },
  {
   "cell_type": "markdown",
   "metadata": {},
   "source": [
    "## Avereage cross validation roc_auc\n"
   ]
  },
  {
   "cell_type": "code",
   "execution_count": 59,
   "metadata": {},
   "outputs": [
    {
     "name": "stdout",
     "output_type": "stream",
     "text": [
      "Logit Avereage cross validation roc_auc: 0.8042688389241673\n",
      "Tree Avereage cross validation roc_auc: 0.9850817408844217\n"
     ]
    }
   ],
   "source": [
    "print(\"Logit Avereage cross validation roc_auc:\", grid_search1.best_score_)\n",
    "print(\"Tree Avereage cross validation roc_auc:\", gridsearch2.best_score_)"
   ]
  },
  {
   "cell_type": "markdown",
   "metadata": {},
   "source": [
    "# ROC Curve\n"
   ]
  },
  {
   "cell_type": "markdown",
   "metadata": {},
   "source": [
    "## Logit"
   ]
  },
  {
   "cell_type": "code",
   "execution_count": 61,
   "metadata": {},
   "outputs": [
    {
     "name": "stdout",
     "output_type": "stream",
     "text": [
      "[0.00000000e+00 7.01016474e-04 1.75254118e-03 ... 9.97546442e-01\n",
      " 9.98247459e-01 1.00000000e+00] [0. 0. 0. ... 1. 1. 1.] [1.99257891 0.99257891 0.98335521 ... 0.00600656 0.00554646 0.00302514]\n"
     ]
    }
   ],
   "source": [
    "FPR,TPR,tresholds=roc_curve(y_test,logit1.predict_proba(x_test)[:,1])\n",
    "print(FPR,TPR,tresholds)"
   ]
  },
  {
   "cell_type": "code",
   "execution_count": 63,
   "metadata": {},
   "outputs": [
    {
     "data": {
      "image/png": "[encoded data removed]",
      "text/plain": [
       "<Figure size 432x288 with 1 Axes>"
      ]
     },
     "metadata": {},
     "output_type": "display_data"
    }
   ],
   "source": [
    "plt.plot(FPR,TPR,label=\"ROC AUC=%f\"%roc_auc_score(y_test,logit1.predict(x_test)))\n",
    "plt.plot([0,1],[0,1])\n",
    "plt.legend(loc=\"lower right\")\n",
    "plt.xlabel(\"FPR\")\n",
    "plt.ylabel(\"TPR\")\n",
    "plt.show()"
   ]
  },
  {
   "cell_type": "markdown",
   "metadata": {},
   "source": [
    "## Tree\n"
   ]
  },
  {
   "cell_type": "code",
   "execution_count": 65,
   "metadata": {},
   "outputs": [
    {
     "data": {
      "text/plain": [
       "(array([0.        , 0.00210305, 0.00210305, 0.00210305, 0.00245356,\n",
       "        0.00245356, 0.00245356, 0.00245356, 0.00350508, 0.00385559,\n",
       "        0.00385559, 0.00455661, 0.00560813, 0.00876271, 0.01226779,\n",
       "        0.01472135, 0.01927795, 0.02103049, 0.02418507, 0.0255871 ,\n",
       "        0.02733964, 0.03014371, 0.03470032, 0.03680336, 0.04135997,\n",
       "        0.04486505, 0.05012268, 0.05467928, 0.05678233, 0.05993691,\n",
       "        0.0637925 , 0.06834911, 0.07115317, 0.07500876, 0.07746232,\n",
       "        0.08552401, 0.09008062, 0.09183316, 0.09638977, 0.1019979 ,\n",
       "        0.10830705, 0.11216264, 0.11671924, 0.12022433, 0.12267788,\n",
       "        0.12478093, 0.12968805, 0.13739923, 0.14125482, 0.1447599 ,\n",
       "        0.14791448, 0.15352261, 0.15807921, 0.1615843 , 0.16438836,\n",
       "        0.16824395, 0.16929548, 0.17245005, 0.17735717, 0.18611987,\n",
       "        0.21731511, 1.        ]),\n",
       " array([0.        , 0.82051282, 0.82831661, 0.84280936, 0.84503902,\n",
       "        0.85841695, 0.86956522, 0.87848384, 0.88182832, 0.89520624,\n",
       "        0.89966555, 0.90189521, 0.90301003, 0.90635452, 0.90858417,\n",
       "        0.90858417, 0.909699  , 0.91192865, 0.91192865, 0.91304348,\n",
       "        0.91415831, 0.91527313, 0.91750279, 0.92084727, 0.92307692,\n",
       "        0.93311037, 0.93756968, 0.93979933, 0.94091416, 0.94537347,\n",
       "        0.94760312, 0.94983278, 0.9509476 , 0.9509476 , 0.95317726,\n",
       "        0.95763657, 0.95763657, 0.95763657, 0.96432553, 0.96767001,\n",
       "        0.96878484, 0.96878484, 0.96989967, 0.96989967, 0.97101449,\n",
       "        0.97101449, 0.97212932, 0.97212932, 0.97324415, 0.97435897,\n",
       "        0.97435897, 0.97435897, 0.97435897, 0.97435897, 0.97435897,\n",
       "        0.97658863, 0.97658863, 0.97658863, 0.97658863, 0.97770346,\n",
       "        0.97770346, 1.        ]),\n",
       " array([2.        , 1.        , 0.99206761, 0.99004093, 0.98602371,\n",
       "        0.98342338, 0.96975934, 0.95059493, 0.94784033, 0.94307994,\n",
       "        0.93164229, 0.83300952, 0.7937365 , 0.65801253, 0.64334481,\n",
       "        0.6310367 , 0.62931674, 0.61588738, 0.56192661, 0.54598128,\n",
       "        0.53091592, 0.5272786 , 0.49665518, 0.49392316, 0.48213583,\n",
       "        0.47814208, 0.47111761, 0.44496912, 0.44496912, 0.4300509 ,\n",
       "        0.42157065, 0.3907496 , 0.37919827, 0.36831028, 0.36139247,\n",
       "        0.31418312, 0.29492015, 0.2778828 , 0.27008158, 0.26270641,\n",
       "        0.25236918, 0.24910188, 0.23114661, 0.20416667, 0.19786787,\n",
       "        0.17142457, 0.1512159 , 0.14440646, 0.13818387, 0.1324754 ,\n",
       "        0.12721986, 0.1223654 , 0.1200745 , 0.1178678 , 0.10979654,\n",
       "        0.09657075, 0.09374761, 0.09108484, 0.08393285, 0.0797578 ,\n",
       "        0.01173765, 0.        ]))"
      ]
     },
     "execution_count": 65,
     "metadata": {},
     "output_type": "execute_result"
    }
   ],
   "source": [
    "roc_curve(y_test,tree1.predict_proba(x_test)[:,1])\n"
   ]
  },
  {
   "cell_type": "code",
   "execution_count": 67,
   "metadata": {},
   "outputs": [
    {
     "data": {
      "image/png": "[encoded data removed]",
      "text/plain": [
       "<Figure size 432x288 with 1 Axes>"
      ]
     },
     "metadata": {},
     "output_type": "display_data"
    }
   ],
   "source": [
    "FPR1,TPR1,tresholds1=roc_curve(y_test,tree1.predict_proba(x_test)[:,1])\n",
    "plt.figure(figsize=(6,4))\n",
    "plt.plot(FPR1,TPR1,label=\"ROC AUC=%f\"%roc_auc_score(y_test,tree1.predict(x_test)))\n",
    "plt.plot([0,1],[0,1])\n",
    "plt.legend(loc=\"lower right\")\n",
    "plt.xlabel(\"FPR\")\n",
    "plt.ylabel(\"TPR\")\n",
    "plt.show()"
   ]
  },
  {
   "cell_type": "markdown",
   "metadata": {},
   "source": [
    "## Important features of tree\n"
   ]
  },
  {
   "cell_type": "code",
   "execution_count": 69,
   "metadata": {},
   "outputs": [
    {
     "data": {
      "text/html": [
       "<div>\n",
       "<style scoped>\n",
       "    .dataframe tbody tr th:only-of-type {\n",
       "        vertical-align: middle;\n",
       "    }\n",
       "\n",
       "    .dataframe tbody tr th {\n",
       "        vertical-align: top;\n",
       "    }\n",
       "\n",
       "    .dataframe thead th {\n",
       "        text-align: right;\n",
       "    }\n",
       "</style>\n",
       "<table border=\"1\" class=\"dataframe\">\n",
       "  <thead>\n",
       "    <tr style=\"text-align: right;\">\n",
       "      <th></th>\n",
       "      <th>importances</th>\n",
       "    </tr>\n",
       "  </thead>\n",
       "  <tbody>\n",
       "    <tr>\n",
       "      <th>satisfaction_level</th>\n",
       "      <td>0.463272</td>\n",
       "    </tr>\n",
       "    <tr>\n",
       "      <th>time_spend_company</th>\n",
       "      <td>0.352816</td>\n",
       "    </tr>\n",
       "    <tr>\n",
       "      <th>last_evaluation</th>\n",
       "      <td>0.111163</td>\n",
       "    </tr>\n",
       "    <tr>\n",
       "      <th>average_montly_hours</th>\n",
       "      <td>0.045375</td>\n",
       "    </tr>\n",
       "    <tr>\n",
       "      <th>number_project</th>\n",
       "      <td>0.018171</td>\n",
       "    </tr>\n",
       "    <tr>\n",
       "      <th>department_technical</th>\n",
       "      <td>0.003360</td>\n",
       "    </tr>\n",
       "    <tr>\n",
       "      <th>salary_low</th>\n",
       "      <td>0.002430</td>\n",
       "    </tr>\n",
       "    <tr>\n",
       "      <th>department_hr</th>\n",
       "      <td>0.001371</td>\n",
       "    </tr>\n",
       "    <tr>\n",
       "      <th>work_accident</th>\n",
       "      <td>0.001018</td>\n",
       "    </tr>\n",
       "    <tr>\n",
       "      <th>salary_medium</th>\n",
       "      <td>0.000652</td>\n",
       "    </tr>\n",
       "    <tr>\n",
       "      <th>department_marketing</th>\n",
       "      <td>0.000183</td>\n",
       "    </tr>\n",
       "    <tr>\n",
       "      <th>promotion_last_5years</th>\n",
       "      <td>0.000096</td>\n",
       "    </tr>\n",
       "    <tr>\n",
       "      <th>department_RandD</th>\n",
       "      <td>0.000083</td>\n",
       "    </tr>\n",
       "    <tr>\n",
       "      <th>department_sales</th>\n",
       "      <td>0.000009</td>\n",
       "    </tr>\n",
       "    <tr>\n",
       "      <th>department_accounting</th>\n",
       "      <td>0.000000</td>\n",
       "    </tr>\n",
       "    <tr>\n",
       "      <th>department_support</th>\n",
       "      <td>0.000000</td>\n",
       "    </tr>\n",
       "    <tr>\n",
       "      <th>department_product_mng</th>\n",
       "      <td>0.000000</td>\n",
       "    </tr>\n",
       "    <tr>\n",
       "      <th>department_management</th>\n",
       "      <td>0.000000</td>\n",
       "    </tr>\n",
       "  </tbody>\n",
       "</table>\n",
       "</div>"
      ],
      "text/plain": [
       "                        importances\n",
       "satisfaction_level         0.463272\n",
       "time_spend_company         0.352816\n",
       "last_evaluation            0.111163\n",
       "average_montly_hours       0.045375\n",
       "number_project             0.018171\n",
       "department_technical       0.003360\n",
       "salary_low                 0.002430\n",
       "department_hr              0.001371\n",
       "work_accident              0.001018\n",
       "salary_medium              0.000652\n",
       "department_marketing       0.000183\n",
       "promotion_last_5years      0.000096\n",
       "department_RandD           0.000083\n",
       "department_sales           0.000009\n",
       "department_accounting      0.000000\n",
       "department_support         0.000000\n",
       "department_product_mng     0.000000\n",
       "department_management      0.000000"
      ]
     },
     "execution_count": 69,
     "metadata": {},
     "output_type": "execute_result"
    }
   ],
   "source": [
    "imp=pd.DataFrame(data=tree1.feature_importances_,index=X.columns,columns=['importances'])\n",
    "imp.sort_values(by=\"importances\",ascending=False)"
   ]
  },
  {
   "cell_type": "markdown",
   "metadata": {},
   "source": [
    "#### we can drop those variables which has low  importance"
   ]
  },
  {
   "cell_type": "markdown",
   "metadata": {},
   "source": [
    "## Model Selection\n"
   ]
  },
  {
   "cell_type": "markdown",
   "metadata": {},
   "source": [
    "### As we can see from the model evaluation, the decision tree performs better so we will choose tree.\n"
   ]
  },
  {
   "cell_type": "markdown",
   "metadata": {},
   "source": [
    "# PLS"
   ]
  },
  {
   "cell_type": "code",
   "execution_count": 72,
   "metadata": {},
   "outputs": [],
   "source": [
    "import pandas as pd\n",
    "import matplotlib.pyplot as plt\n",
    "import numpy as np\n",
    "from statsmodels.api import qqplot\n",
    "from statsmodels.formula.api import ols #for linear regression\n",
    "import seaborn as sns #for heatmap\n",
    "from sklearn.metrics import r2_score\n",
    "from sklearn.model_selection import train_test_split\n",
    "from sklearn.cross_decomposition import PLSRegression, PLSSVD\n",
    "from sklearn.linear_model import LinearRegression\n",
    "from sklearn.metrics import r2_score\n",
    "from sklearn.preprocessing import scale "
   ]
  },
  {
   "cell_type": "code",
   "execution_count": null,
   "metadata": {},
   "outputs": [],
   "source": [
    "data=data.dropna()\n"
   ]
  },
  {
   "cell_type": "code",
   "execution_count": null,
   "metadata": {},
   "outputs": [],
   "source": [
    "#we can see that there are many correlated variables\n",
    "plt.figure(figsize=(9, 7)) #make the graph bigger\n",
    "sns.heatmap(data_numeric.corr().abs().round(2), annot=True)\n",
    "plt.show()"
   ]
  },
  {
   "cell_type": "code",
   "execution_count": null,
   "metadata": {},
   "outputs": [],
   "source": [
    "data_dummy = pd.get_dummies(data_object,prefix=data_object.columns,drop_first=True)\n",
    "data = data_numeric.join(data_dummy)\n",
    "#let's define what are our X and Y variables\n",
    "Y=data.price\n",
    "X=scale(data.drop(columns=\"price\")) #we should normalize (scale) the X data befor running pls\n",
    "x_train, x_test, y_train, y_test = train_test_split(X,Y,test_size=0.25,random_state=42)\n",
    "#run pls model, we define the number of latent variables we want to keep in the model\n",
    "pls = PLSRegression(14)\n",
    "pls=pls.fit(x_train,y_train)\n",
    "#let's use the model to do prediction for test data\n",
    "pred=pls.predict(x_test)\n",
    "#R-square\n",
    "pls_r2=pls.score(x_test,y_test)\n",
    "print(pls_r2)\n",
    "#this gives all coefs per all 58 X variables\n",
    "coef=pd.DataFrame(pls.coef_)\n",
    "coef.head()\n",
    "#scores of latent variables\n",
    "sc=pd.DataFrame(pls.x_scores_)\n",
    "sc.head(10)\n",
    "\n",
    "# we want to calculate how much of the variance of all X variables is explained by each latent variable\n",
    "\n",
    "#first we need to calculate the variance for each latent variable created\n",
    "var_xcores=np.var(pls.x_scores_,axis=0)\n",
    "print(var_xcores)\n",
    "#second, lets calculate total variance of all X variables\n",
    "total_var=np.sum(np.var(x_train,axis=0))\n",
    "print(total_var)\n",
    "#calculate the proportioan of total X variance explained by each latent variable\n",
    "X_Variance=pd.DataFrame((var_xcores/total_var).round(3), columns={\"X_Variance\"}).reset_index()\n",
    "#let's keep X_variance i=and cummulative X_Variance as dataframe\n",
    "X_Variance = X_Variance.rename(columns={'index': 'Latent_Factors'})\n",
    "X_Variance['Cummulative_X_Variance'] = X_Variance['X_Variance'].cumsum().round(3) #calculates cummulative variance\n",
    "print(X_Variance)\n",
    "#we want to see visually from which latent variable the variance changes very slightly\n",
    "plt.plot(X_Variance.Latent_Factors,X_Variance.Cummulative_X_Variance)\n",
    "plt.show()\n"
   ]
  }
 ],
 "metadata": {
  "kernelspec": {
   "display_name": "Python 3",
   "language": "python",
   "name": "python3"
  },
  "language_info": {
   "codemirror_mode": {
    "name": "ipython",
    "version": 3
   },
   "file_extension": ".py",
   "mimetype": "text/x-python",
   "name": "python",
   "nbconvert_exporter": "python",
   "pygments_lexer": "ipython3",
   "version": "3.7.3"
  }
 },
 "nbformat": 4,
 "nbformat_minor": 2
}
