{
  "nbformat": 4,
  "nbformat_minor": 0,
  "metadata": {
    "colab": {
      "name": "Binary_Human_Activity_Detection",
      "provenance": [],
      "collapsed_sections": [
        "_brsfrlRyP04",
        "RL7BSOANytJr",
        "jzhjpAVh1zoY",
        "-0wK5gsouejN",
        "VnY8glgrLXe7",
        "ELbbitLOGL0R"
      ]
    },
    "kernelspec": {
      "name": "python3",
      "display_name": "Python 3"
    }
  },
  "cells": [
    {
      "cell_type": "markdown",
      "metadata": {
        "id": "2SoOa0FcCiN5",
        "colab_type": "text"
      },
      "source": [
        "# **Importing Packages**"
      ]
    },
    {
      "cell_type": "code",
      "metadata": {
        "id": "3Ur46JS2BCpt",
        "colab_type": "code",
        "outputId": "5e7dd852-3127-43d1-c604-a196466350d9",
        "colab": {
          "base_uri": "https://localhost:8080/",
          "height": 208
        }
      },
      "source": [
        "def warn(*args, **kwargs):\n",
        "    pass\n",
        "import warnings\n",
        "warnings.warn = warn\n",
        "!pip install scikit-plot\n",
        "import scikitplot as skplt\n",
        "\n",
        "import random\n",
        "import numpy as np\n",
        "import pandas as pd\n",
        "import matplotlib.pyplot as plt\n",
        "import seaborn as sns\n",
        "\n",
        "from sklearn.linear_model import LogisticRegression\n",
        "from statsmodels.discrete.discrete_model import Logit\n",
        "import statsmodels.api as sm\n",
        "from sklearn.model_selection import train_test_split, GridSearchCV,cross_val_score, StratifiedKFold, LeaveOneOut\n",
        "from sklearn.metrics import accuracy_score,recall_score,confusion_matrix,classification_report,roc_auc_score,roc_curve, precision_score, f1_score\n",
        "import sklearn as sk\n",
        "from sklearn.neural_network import MLPClassifier\n",
        "from sklearn import svm\n",
        "from sklearn.svm import SVC\n",
        "from sklearn.neighbors import KNeighborsClassifier\n",
        "\n",
        "from sklearn.ensemble import RandomForestClassifier\n",
        "from sklearn.tree import DecisionTreeClassifier\n",
        "from sklearn.externals.six import StringIO\n",
        "from IPython.display import Image\n",
        "from sklearn.tree import export_graphviz\n",
        "import pydotplus\n",
        "\n",
        "\n",
        "from sklearn.preprocessing import StandardScaler\n",
        "from sklearn.preprocessing import RobustScaler\n",
        "\n",
        "from decimal import Decimal\n",
        "\n",
        "from google.colab import files"
      ],
      "execution_count": 258,
      "outputs": [
        {
          "output_type": "stream",
          "text": [
            "Requirement already satisfied: scikit-plot in /usr/local/lib/python3.6/dist-packages (0.3.7)\n",
            "Requirement already satisfied: scikit-learn>=0.18 in /usr/local/lib/python3.6/dist-packages (from scikit-plot) (0.22.2.post1)\n",
            "Requirement already satisfied: matplotlib>=1.4.0 in /usr/local/lib/python3.6/dist-packages (from scikit-plot) (3.2.1)\n",
            "Requirement already satisfied: joblib>=0.10 in /usr/local/lib/python3.6/dist-packages (from scikit-plot) (0.14.1)\n",
            "Requirement already satisfied: scipy>=0.9 in /usr/local/lib/python3.6/dist-packages (from scikit-plot) (1.4.1)\n",
            "Requirement already satisfied: numpy>=1.11.0 in /usr/local/lib/python3.6/dist-packages (from scikit-learn>=0.18->scikit-plot) (1.18.4)\n",
            "Requirement already satisfied: pyparsing!=2.0.4,!=2.1.2,!=2.1.6,>=2.0.1 in /usr/local/lib/python3.6/dist-packages (from matplotlib>=1.4.0->scikit-plot) (2.4.7)\n",
            "Requirement already satisfied: python-dateutil>=2.1 in /usr/local/lib/python3.6/dist-packages (from matplotlib>=1.4.0->scikit-plot) (2.8.1)\n",
            "Requirement already satisfied: cycler>=0.10 in /usr/local/lib/python3.6/dist-packages (from matplotlib>=1.4.0->scikit-plot) (0.10.0)\n",
            "Requirement already satisfied: kiwisolver>=1.0.1 in /usr/local/lib/python3.6/dist-packages (from matplotlib>=1.4.0->scikit-plot) (1.2.0)\n",
            "Requirement already satisfied: six>=1.5 in /usr/local/lib/python3.6/dist-packages (from python-dateutil>=2.1->matplotlib>=1.4.0->scikit-plot) (1.12.0)\n"
          ],
          "name": "stdout"
        }
      ]
    },
    {
      "cell_type": "markdown",
      "metadata": {
        "id": "ct1YP0YCC_jn",
        "colab_type": "text"
      },
      "source": [
        "# **1. Data Loading**\n",
        "\n",
        "---\n",
        "\n"
      ]
    },
    {
      "cell_type": "code",
      "metadata": {
        "id": "35EMx3SkCg8k",
        "colab_type": "code",
        "outputId": "3b08dcbe-9a75-4b87-871f-b6a5b0ece3c8",
        "colab": {
          "base_uri": "https://localhost:8080/",
          "height": 34
        }
      },
      "source": [
        "from google.colab import drive\n",
        "drive.mount('/content/drive')"
      ],
      "execution_count": 178,
      "outputs": [
        {
          "output_type": "stream",
          "text": [
            "Drive already mounted at /content/drive; to attempt to forcibly remount, call drive.mount(\"/content/drive\", force_remount=True).\n"
          ],
          "name": "stdout"
        }
      ]
    },
    {
      "cell_type": "code",
      "metadata": {
        "id": "gpxdp7YICh_J",
        "colab_type": "code",
        "colab": {}
      },
      "source": [
        "data = pd.read_csv('/content/drive/My Drive/data_modeling_10s_MIX.csv')"
      ],
      "execution_count": 0,
      "outputs": []
    },
    {
      "cell_type": "code",
      "metadata": {
        "id": "kzp8QB3iqu-M",
        "colab_type": "code",
        "outputId": "ae8193db-5cce-4c20-d3a6-6e61a6d56bd6",
        "colab": {
          "base_uri": "https://localhost:8080/",
          "height": 34
        }
      },
      "source": [
        "data.shape"
      ],
      "execution_count": 180,
      "outputs": [
        {
          "output_type": "execute_result",
          "data": {
            "text/plain": [
              "(2408, 118)"
            ]
          },
          "metadata": {
            "tags": []
          },
          "execution_count": 180
        }
      ]
    },
    {
      "cell_type": "code",
      "metadata": {
        "id": "-B9EKNGtQJIR",
        "colab_type": "code",
        "colab": {}
      },
      "source": [
        "data = data.drop([\"Unnamed: 0\",\"id\"], axis=1)\n",
        "\n",
        "# removing the columns containing information on s1 and s3 sensors \n",
        "data = data[data.columns.drop(list(data.filter(regex ='s3')))]  \n",
        "data = data[data.columns.drop(list(data.filter(regex ='s1')))]"
      ],
      "execution_count": 0,
      "outputs": []
    },
    {
      "cell_type": "code",
      "metadata": {
        "id": "LbUO62zqF4d-",
        "colab_type": "code",
        "outputId": "8b041b7a-80f5-4532-ccf2-0d8cfcedb2e3",
        "colab": {
          "base_uri": "https://localhost:8080/",
          "height": 34
        }
      },
      "source": [
        "data.shape"
      ],
      "execution_count": 182,
      "outputs": [
        {
          "output_type": "execute_result",
          "data": {
            "text/plain": [
              "(2408, 90)"
            ]
          },
          "metadata": {
            "tags": []
          },
          "execution_count": 182
        }
      ]
    },
    {
      "cell_type": "code",
      "metadata": {
        "id": "0sFrXigeGAUB",
        "colab_type": "code",
        "outputId": "300b1a84-2f5a-40b0-eba9-51082b5b344c",
        "colab": {
          "base_uri": "https://localhost:8080/",
          "height": 242
        }
      },
      "source": [
        "data[\"Target\"].value_counts()"
      ],
      "execution_count": 183,
      "outputs": [
        {
          "output_type": "execute_result",
          "data": {
            "text/plain": [
              "Walking                             629\n",
              "Mixed walking                       629\n",
              "Sitting                             257\n",
              "Standing                            231\n",
              "Jogging                             195\n",
              "Climbing down                       132\n",
              "Climbing up                         120\n",
              "Stairs up                           105\n",
              "Stairs down                          64\n",
              "Mixed_walking_with_little_pauses     19\n",
              "Mixed_walking_includes_stairs_up     15\n",
              "No activity                          12\n",
              "Name: Target, dtype: int64"
            ]
          },
          "metadata": {
            "tags": []
          },
          "execution_count": 183
        }
      ]
    },
    {
      "cell_type": "code",
      "metadata": {
        "id": "10d_0i64Rz2t",
        "colab_type": "code",
        "outputId": "7baf33bd-a89b-4fe1-b0d9-8a071f089b67",
        "colab": {
          "base_uri": "https://localhost:8080/",
          "height": 208
        }
      },
      "source": [
        "data[\"Name\"].value_counts()"
      ],
      "execution_count": 184,
      "outputs": [
        {
          "output_type": "execute_result",
          "data": {
            "text/plain": [
              "c    349\n",
              "e    348\n",
              "i    255\n",
              "j    243\n",
              "g    228\n",
              "a    215\n",
              "d    211\n",
              "f    205\n",
              "b    201\n",
              "h    153\n",
              "Name: Name, dtype: int64"
            ]
          },
          "metadata": {
            "tags": []
          },
          "execution_count": 184
        }
      ]
    },
    {
      "cell_type": "code",
      "metadata": {
        "id": "DM5QGw7KwVuR",
        "colab_type": "code",
        "colab": {}
      },
      "source": [
        "# Here the Target variable is transformed into two categories to solve a binary classification\n",
        "data[\"Target\"] = np.where(data[\"Target\"] != \"Jogging\", \"NotJogging\", \"Jogging\")"
      ],
      "execution_count": 0,
      "outputs": []
    },
    {
      "cell_type": "code",
      "metadata": {
        "id": "M4Nqa8Qi8bSU",
        "colab_type": "code",
        "outputId": "b2fb9b14-75b8-4b07-b01d-cc7f94ab9154",
        "colab": {
          "base_uri": "https://localhost:8080/",
          "height": 34
        }
      },
      "source": [
        "print(\"Missing values in the data:\", data.isna().sum().sum())"
      ],
      "execution_count": 186,
      "outputs": [
        {
          "output_type": "stream",
          "text": [
            "Missing values in the data: 0\n"
          ],
          "name": "stdout"
        }
      ]
    },
    {
      "cell_type": "code",
      "metadata": {
        "id": "BsO3CE1FXDvk",
        "colab_type": "code",
        "outputId": "4671fdb6-ace6-45e7-f075-1ee19126a803",
        "colab": {
          "base_uri": "https://localhost:8080/",
          "height": 513
        }
      },
      "source": [
        "data.Target.value_counts(normalize=True).mul(100).rename(\"Jogging and NotJogging percentages\") \n",
        "plt.figure(figsize=(10,8))\n",
        "sns.countplot(data.Target)\n",
        "plt.title(\"Target distribution\")\n",
        "plt.show()"
      ],
      "execution_count": 187,
      "outputs": [
        {
          "output_type": "display_data",
          "data": {
            "image/png": "[encoded data removed]",
            "text/plain": [
              "<Figure size 720x576 with 1 Axes>"
            ]
          },
          "metadata": {
            "tags": [],
            "needs_background": "light"
          }
        }
      ]
    },
    {
      "cell_type": "code",
      "metadata": {
        "id": "cWIwCrQGj3J8",
        "colab_type": "code",
        "outputId": "494bd099-4ee7-4244-fdc5-37d228de9fed",
        "colab": {
          "base_uri": "https://localhost:8080/",
          "height": 54
        }
      },
      "source": [
        "col_names=print(data.columns.tolist())"
      ],
      "execution_count": 188,
      "outputs": [
        {
          "output_type": "stream",
          "text": [
            "['s2_mean', 'x_mean', 'y_mean', 'z_mean', 's2_variation', 'x_variation', 'y_variation', 'z_variation', 's2_std', 'x_std', 'y_std', 'z_std', 's2_median', 'x_median', 'y_median', 'z_median', 's2_max', 'x_max', 'y_max', 'z_max', 's2_min', 'x_min', 'y_min', 'z_min', 's2_skew', 'x_skew', 'y_skew', 'z_skew', 's2_kurtosis', 'x_kurtosis', 'y_kurtosis', 'z_kurtosis', 's2_moment', 'x_moment', 'y_moment', 'z_moment', 's2_kstatvar', 'x_kstatvar', 'y_kstatvar', 'z_kstatvar', 's2_tvar', 'x_tvar', 'y_tvar', 'z_tvar', 's2_sem', 'x_sem', 'y_sem', 'z_sem', 's2_entropy', 'x_entropy', 'y_entropy', 'z_entropy', 's2_peak_len', 's2_peak_prom', 's2_peak_width', 's2_peak_height', 's2_weight_pred_k', 'x_peak_len', 'x_peak_prom', 'x_peak_width', 'x_peak_height', 'x_weight_pred_k', 'y_peak_len', 'y_peak_prom', 'y_peak_width', 'y_peak_height', 'y_weight_pred_k', 'z_peak_len', 'z_peak_prom', 'z_peak_width', 'z_peak_height', 'z_weight_pred_k', 's2_peak_len_50_110', 's2_peak_len_20_300', 'x_peak_len_20_150', 'x_peak_len_50_200', 'y_peak_len_50_110', 'y_peak_len_50_200', 's2_peak_prom_sit', 's2_peak_prom_stand', 'x_peak_prom_sit', 'x_peak_prom_stand', 'y_peak_prom_sit', 'y_peak_prom_stand', 'x_y_corr', 'z_y_corr', 'x_z_corr', 'Name', 'Kg', 'Target']\n"
          ],
          "name": "stdout"
        }
      ]
    },
    {
      "cell_type": "code",
      "metadata": {
        "id": "FLJSn4xLOMPj",
        "colab_type": "code",
        "outputId": "93be1f30-47af-421c-af97-8ab8b50dba2b",
        "colab": {
          "base_uri": "https://localhost:8080/",
          "height": 69
        }
      },
      "source": [
        "# We make Kg variable into two categories, those weighting 75Kg and less and those weighting more than 75Kg\n",
        "data[\"Kg\"] = np.where(data[\"Kg\"] <=75, 0, 1)\n",
        "data[\"Kg\"].value_counts()"
      ],
      "execution_count": 189,
      "outputs": [
        {
          "output_type": "execute_result",
          "data": {
            "text/plain": [
              "0    1938\n",
              "1     470\n",
              "Name: Kg, dtype: int64"
            ]
          },
          "metadata": {
            "tags": []
          },
          "execution_count": 189
        }
      ]
    },
    {
      "cell_type": "markdown",
      "metadata": {
        "id": "SmRYKpHaVBxx",
        "colab_type": "text"
      },
      "source": [
        "# **2. Feature Engineering and Data PreProcessing**"
      ]
    },
    {
      "cell_type": "code",
      "metadata": {
        "id": "hMCKzg2pgA2y",
        "colab_type": "code",
        "colab": {}
      },
      "source": [
        "# FEATURE ENGINEERING\n",
        "\n",
        "data[\"x_std_div_z_std\"] = data[\"x_std\"] / data[\"z_std\"]\n",
        "data[\"y_std_div_z_std\"] = data[\"y_std\"] / data[\"z_std\"]\n",
        "\n",
        "data[\"x_tvar_div_z_tvar\"] = data[\"x_tvar\"] / data[\"z_tvar\"]\n",
        "data[\"y_tvar_div_z_tvar\"] = data[\"y_tvar\"] / data[\"z_tvar\"]\n",
        " \n",
        "data[\"s2_peak_len_50_110_20_300_diff\"] = abs(data[\"s2_peak_len_20_300\"] - data[\"s2_peak_len_50_110\"])\n",
        "data[\"x_peak_prom_stand_diff_y\"] = abs(data[\"x_peak_prom_stand\"] - data[\"y_peak_prom_stand\"])\n",
        "data[\"x_peak_prom_sit_diff_y\"] = abs(data[\"x_peak_prom_sit\"] - data[\"y_peak_prom_sit\"])\n",
        "data[\"x_peak_len_diff_y\"] = abs(data[\"x_peak_len\"] - data[\"y_peak_len\"])\n",
        "data[\"s2_peak_prom_stand_sit_diff\"] = abs(data[\"s2_peak_prom_stand\"] - data[\"s2_peak_prom_sit\"])\n",
        "data[\"x_peak_len_diff_y_peak_len_50_200\"] = abs(data[\"x_peak_len_50_200\"] - data[\"y_peak_len_50_200\"]) \n",
        "data[\"x_y_peak_len_20_150_diff_50_110\"] = abs(data[\"x_peak_len_20_150\"] - data[\"y_peak_len_50_110\"])\n",
        "data[\"s2_peak_len_50_110_20_300_diff\"] = abs(data[\"s2_peak_len_20_300\"] - data[\"s2_peak_len_50_110\"])\n",
        "\n",
        "data[\"z_peak_len_sq\"] = np.square(data[\"z_peak_len\"])\n",
        "data[\"y_peak_len_sq\"] = np.square(data[\"y_peak_len\"])\n",
        "data[\"y_z_peak_len_mul_squares\"] = data[\"z_peak_len_sq\"] * data [\"y_peak_len_sq\"]\n",
        "\n",
        "data[\"s2_prom_div_height\"] = (data[\"s2_peak_prom\"] / data[\"s2_peak_height\"]).fillna(0)\n",
        "data[\"s2_prom_div_height\"] = data[\"s2_prom_div_height\"].replace([np.inf, -np.inf], 0)\n",
        "data[\"x_prom_div_height\"] = (data[\"x_peak_prom\"] / data[\"x_peak_height\"]).fillna(0)\n",
        "data[\"x_prom_div_height\"] = data[\"x_prom_div_height\"].replace([np.inf, -np.inf], 0)\n",
        "data[\"y_prom_div_height\"] = (data[\"y_peak_prom\"] / data[\"y_peak_height\"]).fillna(0)\n",
        "data[\"y_prom_div_height\"] = data[\"y_prom_div_height\"].replace([np.inf, -np.inf], 0)\n",
        "data[\"z_prom_div_height\"] = (data[\"z_peak_prom\"] / data[\"z_peak_height\"]).fillna(0)\n",
        "data[\"z_prom_div_height\"] = data[\"z_prom_div_height\"].replace([np.inf, -np.inf], 0)\n",
        "\n",
        "\n",
        "data[\"s2_entropy\"] = np.where(data[\"s2_entropy\"]==0, 0, 1)\n",
        "data[\"x_entropy\"] = np.where(data[\"x_entropy\"]==0, 0, 1)\n",
        "data[\"y_entropy\"] = np.where(data[\"y_entropy\"]==0, 0, 1)\n",
        "data[\"z_entropy\"] = np.where(data[\"z_entropy\"]==0, 0, 1)\n",
        "\n",
        "\n",
        "data[\"s2_kstatvar\"] = np.sqrt(data[\"s2_kstatvar\"])\n",
        "data[\"x_kstatvar\"] = np.sqrt(data[\"x_kstatvar\"])\n",
        "data[\"y_kstatvar\"] = np.sqrt(data[\"y_kstatvar\"])\n",
        "data[\"z_kstatvar\"] = np.sqrt(data[\"z_kstatvar\"]) \n",
        "\n",
        "data[\"s2_peak_height_std\"] = np.nanstd(np.where(np.isclose(data[\"s2_peak_height\"],0), np.nan, data[\"s2_peak_height\"]))\n",
        "data[\"s2_variation_peak_height\"] = (data[\"s2_peak_height_std\"] / data[\"s2_peak_height\"]).fillna(0)\n",
        "data[\"s2_variation_peak_height\"] = data[\"s2_variation_peak_height\"].replace([np.inf, -np.inf], 0)\n",
        "data[\"x_peak_height_std\"] = np.nanstd(np.where(np.isclose(data[\"x_peak_height\"],0), np.nan, data[\"x_peak_height\"]))\n",
        "data[\"x_variation_peak_height\"] = (data[\"x_peak_height_std\"] / data[\"x_peak_height\"]).fillna(0)\n",
        "data[\"x_variation_peak_height\"] = data[\"x_variation_peak_height\"].replace([np.inf, -np.inf], 0)\n",
        "data[\"y_peak_height_std\"] = np.nanstd(np.where(np.isclose(data[\"y_peak_height\"],0), np.nan, data[\"y_peak_height\"]))\n",
        "data[\"y_variation_peak_height\"] = (data[\"y_peak_height_std\"] / data[\"y_peak_height\"]).fillna(0)\n",
        "data[\"y_variation_peak_height\"] = data[\"y_variation_peak_height\"].replace([np.inf, -np.inf], 0)\n",
        "data[\"z_peak_height_std\"] = np.nanstd(np.where(np.isclose(data[\"z_peak_height\"],0), np.nan, data[\"z_peak_height\"]))\n",
        "data[\"z_variation_peak_height\"] = (data[\"z_peak_height_std\"] / data[\"z_peak_height\"]).fillna(0)\n",
        "data[\"z_variation_peak_height\"] = data[\"z_variation_peak_height\"].replace([np.inf, -np.inf], 0)"
      ],
      "execution_count": 0,
      "outputs": []
    },
    {
      "cell_type": "code",
      "metadata": {
        "id": "evnlDEKVViPQ",
        "colab_type": "code",
        "outputId": "24481a65-8ebf-41b8-cd95-6e8b0ea3d891",
        "colab": {
          "base_uri": "https://localhost:8080/",
          "height": 130
        }
      },
      "source": [
        "# Here I dropped the variables that were used during feature engineering\n",
        "data = data.drop([\"s2_max\",\"x_max\", \"y_max\", \"z_max\", \"s2_min\", \"x_min\", \"y_min\", \"z_min\", \"y_mean\",\"z_mean\", \"x_mean\", \"s2_mean\", \"y_moment\",\"z_moment\", \"x_moment\", \"s2_moment\", \n",
        "                  \"x_variation\", \"s2_variation\", \"y_variation\",\"z_variation\", \"s2_sem\", \"x_sem\", \"y_sem\", \"z_sem\", \"x_std\", \"y_std\", \"z_std\", \"s2_peak_prom_sit\", \"x_peak_prom_sit\", \"y_peak_prom_sit\",   \n",
        "                  \"s2_peak_prom_stand\", \"x_peak_prom_stand\", \"y_peak_prom_stand\", \"x_peak_len_50_200\", \"y_peak_len_50_200\", \"x_peak_len_20_150\", \"y_peak_len_50_110\", \"s2_peak_len_50_110\", \"s2_peak_len_20_300\", \n",
        "                  \"x_peak_len\", \"y_peak_len\", \"z_peak_len\", \"s2_peak_height\", \"s2_peak_prom\", \"x_peak_height\", \"x_peak_prom\", \"y_peak_height\", \"y_peak_prom\", \"z_peak_height\", \"z_peak_prom\",\n",
        "                  \"x_tvar\", \"y_tvar\", \"z_tvar\"], axis=1)\n",
        "\n",
        "data.head(2) "
      ],
      "execution_count": 191,
      "outputs": [
        {
          "output_type": "execute_result",
          "data": {
            "text/html": [
              "<div>\n",
              "<style scoped>\n",
              "    .dataframe tbody tr th:only-of-type {\n",
              "        vertical-align: middle;\n",
              "    }\n",
              "\n",
              "    .dataframe tbody tr th {\n",
              "        vertical-align: top;\n",
              "    }\n",
              "\n",
              "    .dataframe thead th {\n",
              "        text-align: right;\n",
              "    }\n",
              "</style>\n",
              "<table border=\"1\" class=\"dataframe\">\n",
              "  <thead>\n",
              "    <tr style=\"text-align: right;\">\n",
              "      <th></th>\n",
              "      <th>s2_std</th>\n",
              "      <th>s2_median</th>\n",
              "      <th>x_median</th>\n",
              "      <th>y_median</th>\n",
              "      <th>z_median</th>\n",
              "      <th>s2_skew</th>\n",
              "      <th>x_skew</th>\n",
              "      <th>y_skew</th>\n",
              "      <th>z_skew</th>\n",
              "      <th>s2_kurtosis</th>\n",
              "      <th>x_kurtosis</th>\n",
              "      <th>y_kurtosis</th>\n",
              "      <th>z_kurtosis</th>\n",
              "      <th>s2_kstatvar</th>\n",
              "      <th>x_kstatvar</th>\n",
              "      <th>y_kstatvar</th>\n",
              "      <th>z_kstatvar</th>\n",
              "      <th>s2_tvar</th>\n",
              "      <th>s2_entropy</th>\n",
              "      <th>x_entropy</th>\n",
              "      <th>y_entropy</th>\n",
              "      <th>z_entropy</th>\n",
              "      <th>s2_peak_len</th>\n",
              "      <th>s2_peak_width</th>\n",
              "      <th>s2_weight_pred_k</th>\n",
              "      <th>x_peak_width</th>\n",
              "      <th>x_weight_pred_k</th>\n",
              "      <th>y_peak_width</th>\n",
              "      <th>y_weight_pred_k</th>\n",
              "      <th>z_peak_width</th>\n",
              "      <th>z_weight_pred_k</th>\n",
              "      <th>x_y_corr</th>\n",
              "      <th>z_y_corr</th>\n",
              "      <th>x_z_corr</th>\n",
              "      <th>Name</th>\n",
              "      <th>Kg</th>\n",
              "      <th>Target</th>\n",
              "      <th>x_std_div_z_std</th>\n",
              "      <th>y_std_div_z_std</th>\n",
              "      <th>x_tvar_div_z_tvar</th>\n",
              "      <th>y_tvar_div_z_tvar</th>\n",
              "      <th>s2_peak_len_50_110_20_300_diff</th>\n",
              "      <th>x_peak_prom_stand_diff_y</th>\n",
              "      <th>x_peak_prom_sit_diff_y</th>\n",
              "      <th>x_peak_len_diff_y</th>\n",
              "      <th>s2_peak_prom_stand_sit_diff</th>\n",
              "      <th>x_peak_len_diff_y_peak_len_50_200</th>\n",
              "      <th>x_y_peak_len_20_150_diff_50_110</th>\n",
              "      <th>z_peak_len_sq</th>\n",
              "      <th>y_peak_len_sq</th>\n",
              "      <th>y_z_peak_len_mul_squares</th>\n",
              "      <th>s2_prom_div_height</th>\n",
              "      <th>x_prom_div_height</th>\n",
              "      <th>y_prom_div_height</th>\n",
              "      <th>z_prom_div_height</th>\n",
              "      <th>s2_peak_height_std</th>\n",
              "      <th>s2_variation_peak_height</th>\n",
              "      <th>x_peak_height_std</th>\n",
              "      <th>x_variation_peak_height</th>\n",
              "      <th>y_peak_height_std</th>\n",
              "      <th>y_variation_peak_height</th>\n",
              "      <th>z_peak_height_std</th>\n",
              "      <th>z_variation_peak_height</th>\n",
              "    </tr>\n",
              "  </thead>\n",
              "  <tbody>\n",
              "    <tr>\n",
              "      <th>0</th>\n",
              "      <td>79.241526</td>\n",
              "      <td>45.0</td>\n",
              "      <td>95.0</td>\n",
              "      <td>-39.0</td>\n",
              "      <td>-958.0</td>\n",
              "      <td>1.266867</td>\n",
              "      <td>1.681872</td>\n",
              "      <td>-0.292822</td>\n",
              "      <td>-1.055814</td>\n",
              "      <td>0.733796</td>\n",
              "      <td>3.881072</td>\n",
              "      <td>7.540026</td>\n",
              "      <td>0.976598</td>\n",
              "      <td>368.047966</td>\n",
              "      <td>92483.490597</td>\n",
              "      <td>31507.126891</td>\n",
              "      <td>35945.836435</td>\n",
              "      <td>6287.078248</td>\n",
              "      <td>1</td>\n",
              "      <td>0</td>\n",
              "      <td>0</td>\n",
              "      <td>0</td>\n",
              "      <td>9</td>\n",
              "      <td>15.522306</td>\n",
              "      <td>2675.286822</td>\n",
              "      <td>9.847558</td>\n",
              "      <td>65043.90859</td>\n",
              "      <td>17.520812</td>\n",
              "      <td>80283.77067</td>\n",
              "      <td>0.000000</td>\n",
              "      <td>0.0</td>\n",
              "      <td>-0.810465</td>\n",
              "      <td>0.260219</td>\n",
              "      <td>-0.356973</td>\n",
              "      <td>a</td>\n",
              "      <td>1</td>\n",
              "      <td>NotJogging</td>\n",
              "      <td>1.352785</td>\n",
              "      <td>0.699616</td>\n",
              "      <td>1.830026</td>\n",
              "      <td>0.489463</td>\n",
              "      <td>0</td>\n",
              "      <td>5.383540</td>\n",
              "      <td>5.383540</td>\n",
              "      <td>0</td>\n",
              "      <td>0.068323</td>\n",
              "      <td>0</td>\n",
              "      <td>10</td>\n",
              "      <td>0</td>\n",
              "      <td>81</td>\n",
              "      <td>0</td>\n",
              "      <td>0.925287</td>\n",
              "      <td>1.427511</td>\n",
              "      <td>1.914871</td>\n",
              "      <td>0.00000</td>\n",
              "      <td>103.901322</td>\n",
              "      <td>0.298567</td>\n",
              "      <td>1697.301805</td>\n",
              "      <td>0.449855</td>\n",
              "      <td>421.304274</td>\n",
              "      <td>0.221390</td>\n",
              "      <td>1017.943133</td>\n",
              "      <td>0.00000</td>\n",
              "    </tr>\n",
              "    <tr>\n",
              "      <th>1</th>\n",
              "      <td>67.864297</td>\n",
              "      <td>39.0</td>\n",
              "      <td>81.0</td>\n",
              "      <td>-39.5</td>\n",
              "      <td>-954.0</td>\n",
              "      <td>1.124752</td>\n",
              "      <td>1.889477</td>\n",
              "      <td>-0.801476</td>\n",
              "      <td>-1.659979</td>\n",
              "      <td>0.541280</td>\n",
              "      <td>5.114008</td>\n",
              "      <td>8.709277</td>\n",
              "      <td>5.742951</td>\n",
              "      <td>369.040878</td>\n",
              "      <td>135065.550330</td>\n",
              "      <td>49367.164745</td>\n",
              "      <td>99430.488207</td>\n",
              "      <td>4617.105508</td>\n",
              "      <td>1</td>\n",
              "      <td>0</td>\n",
              "      <td>0</td>\n",
              "      <td>0</td>\n",
              "      <td>4</td>\n",
              "      <td>5.731959</td>\n",
              "      <td>5811.998158</td>\n",
              "      <td>9.904451</td>\n",
              "      <td>54081.94620</td>\n",
              "      <td>32.778207</td>\n",
              "      <td>153598.67940</td>\n",
              "      <td>15.677168</td>\n",
              "      <td>0.0</td>\n",
              "      <td>-0.752337</td>\n",
              "      <td>0.284737</td>\n",
              "      <td>-0.337889</td>\n",
              "      <td>a</td>\n",
              "      <td>1</td>\n",
              "      <td>NotJogging</td>\n",
              "      <td>1.190465</td>\n",
              "      <td>0.649720</td>\n",
              "      <td>1.417208</td>\n",
              "      <td>0.422137</td>\n",
              "      <td>0</td>\n",
              "      <td>6.363636</td>\n",
              "      <td>6.363636</td>\n",
              "      <td>0</td>\n",
              "      <td>0.028099</td>\n",
              "      <td>0</td>\n",
              "      <td>4</td>\n",
              "      <td>1</td>\n",
              "      <td>25</td>\n",
              "      <td>25</td>\n",
              "      <td>0.936533</td>\n",
              "      <td>1.480737</td>\n",
              "      <td>2.023419</td>\n",
              "      <td>21.11039</td>\n",
              "      <td>103.901322</td>\n",
              "      <td>0.321676</td>\n",
              "      <td>1697.301805</td>\n",
              "      <td>0.467062</td>\n",
              "      <td>421.304274</td>\n",
              "      <td>0.246665</td>\n",
              "      <td>1017.943133</td>\n",
              "      <td>6.61002</td>\n",
              "    </tr>\n",
              "  </tbody>\n",
              "</table>\n",
              "</div>"
            ],
            "text/plain": [
              "      s2_std  s2_median  ...  z_peak_height_std  z_variation_peak_height\n",
              "0  79.241526       45.0  ...        1017.943133                  0.00000\n",
              "1  67.864297       39.0  ...        1017.943133                  6.61002\n",
              "\n",
              "[2 rows x 63 columns]"
            ]
          },
          "metadata": {
            "tags": []
          },
          "execution_count": 191
        }
      ]
    },
    {
      "cell_type": "code",
      "metadata": {
        "id": "A7bZjHUHwvtG",
        "colab_type": "code",
        "colab": {}
      },
      "source": [
        "#Here I have changed the column names, to make sure every columns has the right one\n",
        "data = data[['s2_median', 'x_median','y_median', 'z_median', 's2_std',  's2_skew', 'x_skew', 'y_skew', 'z_skew','s2_kurtosis', 'x_kurtosis', 'y_kurtosis', 'z_kurtosis', \n",
        "             's2_kstatvar', 'x_kstatvar', 'y_kstatvar', 'z_kstatvar',  's2_peak_len', 's2_peak_width', 'x_peak_width', 'y_peak_width', 'z_peak_width',\n",
        "             'x_y_corr', 'z_y_corr','x_z_corr', 's2_tvar', 's2_weight_pred_k', 'x_weight_pred_k', 'y_weight_pred_k', 'z_weight_pred_k', 'x_std_div_z_std', 'y_std_div_z_std', \n",
        "             'y_z_peak_len_mul_squares', 'x_peak_prom_stand_diff_y','x_peak_prom_sit_diff_y', \n",
        "             'x_peak_len_diff_y', 's2_peak_prom_stand_sit_diff','x_peak_len_diff_y_peak_len_50_200','x_y_peak_len_20_150_diff_50_110','s2_peak_len_50_110_20_300_diff',\n",
        "             's2_entropy', 'x_entropy', 'y_entropy','z_entropy', 's2_prom_div_height', 'x_prom_div_height', 'y_prom_div_height', 'z_prom_div_height', \n",
        "             's2_variation_peak_height', 'x_variation_peak_height', 'y_variation_peak_height', 'z_variation_peak_height', 'x_tvar_div_z_tvar', 'y_tvar_div_z_tvar', 'Kg', 'Target', 'Name']]  "
      ],
      "execution_count": 0,
      "outputs": []
    },
    {
      "cell_type": "code",
      "metadata": {
        "id": "FhDBOqjp6Ok3",
        "colab_type": "code",
        "outputId": "10342705-659c-4808-e941-5ea51d68b324",
        "colab": {
          "base_uri": "https://localhost:8080/",
          "height": 69
        }
      },
      "source": [
        "data[\"Target\"] = np.where(data[\"Target\"] == \"Jogging\", 1, 0)\n",
        "data[\"Target\"].value_counts()"
      ],
      "execution_count": 193,
      "outputs": [
        {
          "output_type": "execute_result",
          "data": {
            "text/plain": [
              "0    2213\n",
              "1     195\n",
              "Name: Target, dtype: int64"
            ]
          },
          "metadata": {
            "tags": []
          },
          "execution_count": 193
        }
      ]
    },
    {
      "cell_type": "code",
      "metadata": {
        "id": "oxkpeyRkbGMy",
        "colab_type": "code",
        "outputId": "8dba3072-669c-4f95-f025-95487fad0498",
        "colab": {
          "base_uri": "https://localhost:8080/",
          "height": 138
        }
      },
      "source": [
        "# Here correlations between variables are checked\n",
        "colnames = data.columns\n",
        "col_len = len(colnames)\n",
        "num = 0\n",
        "while (num < (col_len-2)):  \n",
        "  num1=num+1\n",
        "  while (num1 < (col_len-2)):\n",
        "    if (data.iloc[:,num].corr(data.iloc[:,num1]) > 0.8):\n",
        "      print(\"Correlation between\", data.columns[num], \"and\", data.columns[num1],\":\",data.iloc[:,num].corr(data.iloc[:,num1]).round(2))\n",
        "      num1+=1\n",
        "    else:\n",
        "      num1 +=1\n",
        "  num +=1\n",
        "  num1=num+1"
      ],
      "execution_count": 194,
      "outputs": [
        {
          "output_type": "stream",
          "text": [
            "Correlation between s2_std and s2_kstatvar : 0.87\n",
            "Correlation between s2_std and s2_tvar : 0.95\n",
            "Correlation between s2_kstatvar and s2_tvar : 0.9\n",
            "Correlation between x_std_div_z_std and x_tvar_div_z_tvar : 0.91\n",
            "Correlation between y_std_div_z_std and y_tvar_div_z_tvar : 0.9\n",
            "Correlation between x_peak_prom_stand_diff_y and x_peak_prom_sit_diff_y : 1.0\n",
            "Correlation between z_prom_div_height and z_variation_peak_height : 0.91\n"
          ],
          "name": "stdout"
        }
      ]
    },
    {
      "cell_type": "code",
      "metadata": {
        "id": "WSrJunbA_hpE",
        "colab_type": "code",
        "colab": {}
      },
      "source": [
        "# As correlation between x_peak_prom_stand_diff_y and x_peak_prom_sit_diff_y is 1.0, one of them has to be removed\n",
        "data = data.drop([\"x_peak_prom_sit_diff_y\"], axis=1)"
      ],
      "execution_count": 0,
      "outputs": []
    },
    {
      "cell_type": "code",
      "metadata": {
        "id": "1XuxZZ41jQyp",
        "colab_type": "code",
        "colab": {}
      },
      "source": [
        "# Here I am dividing the dataset into dependent and independent variables\n",
        "y = data[\"Target\"]                       \n",
        "x = data.drop([\"Target\", \"Name\"], axis=1)"
      ],
      "execution_count": 0,
      "outputs": []
    },
    {
      "cell_type": "markdown",
      "metadata": {
        "id": "tfCAsb3-1fz8",
        "colab_type": "text"
      },
      "source": [
        "# **3. Train Test split**"
      ]
    },
    {
      "cell_type": "code",
      "metadata": {
        "id": "nnrQWvrvOMHl",
        "colab_type": "code",
        "colab": {}
      },
      "source": [
        "unique_name=data['Name'].unique()\n",
        "np.random.seed(42)\n",
        "random_names_train = np.random.choice(a = unique_name, size = 6, replace = False)  \n",
        "train = pd.DataFrame()\n",
        "for name in random_names_train:\n",
        "  pre_train = data[data['Name'] == name] \n",
        "  train = train.append(pre_train)\n",
        "\n",
        "\n",
        "y_train=train[\"Target\"]\n",
        "x_train=train.drop([\"Target\", \"Name\"],axis=1)\n",
        "\n",
        "\n",
        "random_names_test = []\n",
        "for letter in unique_name:\n",
        "  if letter not in random_names_train:\n",
        "    random_names_test.append(letter)\n",
        "\n",
        "test = pd.DataFrame()\n",
        "for names in random_names_test:\n",
        "  pre_test = data[data['Name'] == names] \n",
        "  test = test.append(pre_test)\n",
        "\n",
        "\n",
        "y_test=test[\"Target\"]                       \n",
        "x_test=test.drop([\"Target\", \"Name\"], axis=1)"
      ],
      "execution_count": 0,
      "outputs": []
    },
    {
      "cell_type": "markdown",
      "metadata": {
        "id": "HCSZhT58Y_uL",
        "colab_type": "text"
      },
      "source": [
        "# **4. Scaling: Normalization of the data**"
      ]
    },
    {
      "cell_type": "code",
      "metadata": {
        "id": "ij2_dY01TpVJ",
        "colab_type": "code",
        "colab": {}
      },
      "source": [
        "scaler = RobustScaler()\n",
        "x_train = scaler.fit_transform(x_train)\n",
        "x_test = scaler.transform(x_test)\n",
        "\n",
        "x_train = pd.DataFrame(x_train)\n",
        "x_test = pd.DataFrame(x_test)"
      ],
      "execution_count": 0,
      "outputs": []
    },
    {
      "cell_type": "code",
      "metadata": {
        "id": "rJ7nc_83andl",
        "colab_type": "code",
        "colab": {}
      },
      "source": [
        "x_train.columns = [['s2_median', 'x_median', 'y_median', 'z_median', 's2_std', 's2_skew', 'x_skew', 'y_skew', 'z_skew', 's2_kurtosis', 'x_kurtosis', 'y_kurtosis', 'z_kurtosis', \n",
        "              's2_kstatvar', 'x_kstatvar', 'y_kstatvar', 'z_kstatvar', 's2_peak_len', 's2_peak_width', 'x_peak_width', 'y_peak_width', 'z_peak_width', 'x_y_corr', 'z_y_corr', 'x_z_corr',\n",
        "              's2_tvar', 's2_weight_pred_k', 'x_weight_pred_k', 'y_weight_pred_k', 'z_weight_pred_k', 'x_std_div_z_std', 'y_std_div_z_std', 'y_z_peak_len_mul_squares',\n",
        "              'x_peak_prom_stand_diff_y', 'x_peak_len_diff_y', 's2_peak_prom_stand_sit_diff', 'x_peak_len_diff_y_peak_len_50_200', 'x_y_peak_len_20_150_diff_50_110', \n",
        "              's2_peak_len_50_110_20_300_diff', 's2_entropy', 'x_entropy', 'y_entropy', 'z_entropy', 's2_prom_div_height', 'x_prom_div_height', 'y_prom_div_height', \n",
        "              'z_prom_div_height', 's2_variation_peak_height', 'x_variation_peak_height', 'y_variation_peak_height', 'z_variation_peak_height', 'x_tvar_div_z_tvar', 'y_tvar_div_z_tvar', 'Kg']]\n",
        "\n",
        "x_test.columns = [['s2_median', 'x_median', 'y_median', 'z_median', 's2_std', 's2_skew', 'x_skew', 'y_skew', 'z_skew', 's2_kurtosis', 'x_kurtosis', 'y_kurtosis', 'z_kurtosis', \n",
        "              's2_kstatvar', 'x_kstatvar', 'y_kstatvar', 'z_kstatvar', 's2_peak_len', 's2_peak_width', 'x_peak_width', 'y_peak_width', 'z_peak_width', 'x_y_corr', 'z_y_corr', 'x_z_corr',\n",
        "              's2_tvar', 's2_weight_pred_k', 'x_weight_pred_k', 'y_weight_pred_k', 'z_weight_pred_k', 'x_std_div_z_std', 'y_std_div_z_std', 'y_z_peak_len_mul_squares',\n",
        "              'x_peak_prom_stand_diff_y', 'x_peak_len_diff_y', 's2_peak_prom_stand_sit_diff', 'x_peak_len_diff_y_peak_len_50_200', 'x_y_peak_len_20_150_diff_50_110', \n",
        "              's2_peak_len_50_110_20_300_diff', 's2_entropy', 'x_entropy', 'y_entropy', 'z_entropy', 's2_prom_div_height', 'x_prom_div_height', 'y_prom_div_height', \n",
        "              'z_prom_div_height', 's2_variation_peak_height', 'x_variation_peak_height', 'y_variation_peak_height', 'z_variation_peak_height', 'x_tvar_div_z_tvar', 'y_tvar_div_z_tvar', 'Kg']]"
      ],
      "execution_count": 0,
      "outputs": []
    },
    {
      "cell_type": "code",
      "metadata": {
        "id": "_BgKLsy-m22y",
        "colab_type": "code",
        "colab": {}
      },
      "source": [
        "# This is to match the indices of x_train, x_test, y_train, and y_test\n",
        "y_test_index = y_test.index\n",
        "x_test.index = y_test_index\n",
        "\n",
        "y_train_index = y_train.index\n",
        "x_train.index = y_train_index"
      ],
      "execution_count": 0,
      "outputs": []
    },
    {
      "cell_type": "markdown",
      "metadata": {
        "id": "_brsfrlRyP04",
        "colab_type": "text"
      },
      "source": [
        "# **5. Logistic Regression Models**"
      ]
    },
    {
      "cell_type": "code",
      "metadata": {
        "id": "I-s6XqYpPJIc",
        "colab_type": "code",
        "outputId": "455bb1bb-e152-4a9e-8208-3f07ee938531",
        "colab": {
          "base_uri": "https://localhost:8080/",
          "height": 110
        }
      },
      "source": [
        "logit=LogisticRegression(random_state=42).fit(x_train,y_train)\n",
        "\n",
        "y_train_logit = logit.predict(x_train)\n",
        "y_test_logit = logit.predict(x_test) \n",
        "\n",
        "y_train_class = np.where(y_train_logit>0.5,1,0)\n",
        "y_test_class = np.where(y_test_logit>0.5,1,0)\n",
        "\n",
        "results_summary=pd.DataFrame({\"Accuracy\":[accuracy_score(y_train,y_train_class)*100,accuracy_score(y_test,y_test_class)*100],\n",
        "                              \"ROC_AUC\":[roc_auc_score(y_train,y_train_logit)*100,roc_auc_score(y_test,y_test_logit)*100],\n",
        "                              \"Recall\":[recall_score(y_train, y_train_class)*100,recall_score(y_test, y_test_class)*100],\n",
        "                              \"Precision\":[precision_score(y_train, y_train_class)*100,precision_score(y_test, y_test_class)*100],\n",
        "                              \"f1_score\":[f1_score(y_train, y_train_class)*100,f1_score(y_test, y_test_class)*100]\n",
        "                              },\n",
        "                             index=[\"Training set\",\"Testing set\"])\n",
        "results_summary"
      ],
      "execution_count": 201,
      "outputs": [
        {
          "output_type": "execute_result",
          "data": {
            "text/html": [
              "<div>\n",
              "<style scoped>\n",
              "    .dataframe tbody tr th:only-of-type {\n",
              "        vertical-align: middle;\n",
              "    }\n",
              "\n",
              "    .dataframe tbody tr th {\n",
              "        vertical-align: top;\n",
              "    }\n",
              "\n",
              "    .dataframe thead th {\n",
              "        text-align: right;\n",
              "    }\n",
              "</style>\n",
              "<table border=\"1\" class=\"dataframe\">\n",
              "  <thead>\n",
              "    <tr style=\"text-align: right;\">\n",
              "      <th></th>\n",
              "      <th>Accuracy</th>\n",
              "      <th>ROC_AUC</th>\n",
              "      <th>Recall</th>\n",
              "      <th>Precision</th>\n",
              "      <th>f1_score</th>\n",
              "    </tr>\n",
              "  </thead>\n",
              "  <tbody>\n",
              "    <tr>\n",
              "      <th>Training set</th>\n",
              "      <td>100.000000</td>\n",
              "      <td>100.000000</td>\n",
              "      <td>100.000000</td>\n",
              "      <td>100.00000</td>\n",
              "      <td>100.000000</td>\n",
              "    </tr>\n",
              "    <tr>\n",
              "      <th>Testing set</th>\n",
              "      <td>97.087379</td>\n",
              "      <td>97.815009</td>\n",
              "      <td>98.666667</td>\n",
              "      <td>71.84466</td>\n",
              "      <td>83.146067</td>\n",
              "    </tr>\n",
              "  </tbody>\n",
              "</table>\n",
              "</div>"
            ],
            "text/plain": [
              "                Accuracy     ROC_AUC      Recall  Precision    f1_score\n",
              "Training set  100.000000  100.000000  100.000000  100.00000  100.000000\n",
              "Testing set    97.087379   97.815009   98.666667   71.84466   83.146067"
            ]
          },
          "metadata": {
            "tags": []
          },
          "execution_count": 201
        }
      ]
    },
    {
      "cell_type": "markdown",
      "metadata": {
        "id": "RL7BSOANytJr",
        "colab_type": "text"
      },
      "source": [
        "### **GridSearch on Log**"
      ]
    },
    {
      "cell_type": "code",
      "metadata": {
        "id": "Ij06YRpAycTS",
        "colab_type": "code",
        "colab": {}
      },
      "source": [
        "param_logit={'class_weight':[None,'balanced'],\n",
        "            'C':np.linspace(0.0001,10,400),\n",
        "            'penalty': ['l1','l2', \"elasticnet\"]}"
      ],
      "execution_count": 0,
      "outputs": []
    },
    {
      "cell_type": "code",
      "metadata": {
        "id": "qdcXDZ0S1Q_o",
        "colab_type": "code",
        "outputId": "64ad39e2-acd8-4b46-c9cd-da6ef0346c35",
        "colab": {
          "base_uri": "https://localhost:8080/",
          "height": 138
        }
      },
      "source": [
        "gs_logit = GridSearchCV(estimator=logit,\n",
        "                        param_grid=param_logit,\n",
        "                        cv=5,scoring='precision',verbose=1,n_jobs=-1).fit(x_train, y_train)\n",
        "\n",
        "gs_logit.best_params_"
      ],
      "execution_count": 203,
      "outputs": [
        {
          "output_type": "stream",
          "text": [
            "Fitting 5 folds for each of 2400 candidates, totalling 12000 fits\n"
          ],
          "name": "stdout"
        },
        {
          "output_type": "stream",
          "text": [
            "[Parallel(n_jobs=-1)]: Using backend LokyBackend with 2 concurrent workers.\n",
            "[Parallel(n_jobs=-1)]: Done 330 tasks      | elapsed:    4.8s\n",
            "[Parallel(n_jobs=-1)]: Done 2730 tasks      | elapsed:   36.3s\n",
            "[Parallel(n_jobs=-1)]: Done 6730 tasks      | elapsed:  1.5min\n",
            "[Parallel(n_jobs=-1)]: Done 12000 out of 12000 | elapsed:  2.6min finished\n"
          ],
          "name": "stderr"
        },
        {
          "output_type": "execute_result",
          "data": {
            "text/plain": [
              "{'C': 0.025162406015037594, 'class_weight': None, 'penalty': 'l2'}"
            ]
          },
          "metadata": {
            "tags": []
          },
          "execution_count": 203
        }
      ]
    },
    {
      "cell_type": "markdown",
      "metadata": {
        "id": "jzhjpAVh1zoY",
        "colab_type": "text"
      },
      "source": [
        "### **Log model after GridSearch**"
      ]
    },
    {
      "cell_type": "code",
      "metadata": {
        "id": "jqjBuk8k1WM1",
        "colab_type": "code",
        "outputId": "a3c1f71a-7efc-42c7-9923-dc0b0772c3de",
        "colab": {
          "base_uri": "https://localhost:8080/",
          "height": 110
        }
      },
      "source": [
        "logit2=LogisticRegression(penalty=\"l2\", class_weight=None, C=0.019, random_state=42).fit(x_train,y_train)\n",
        "\n",
        "y_train_logit2=logit2.predict(x_train)\n",
        "y_test_logit2=logit2.predict(x_test)\n",
        "\n",
        "y_train_class2 = np.where(y_train_logit2>0.5,1,0)\n",
        "y_test_class2 = np.where(y_test_logit2>0.5,1,0)\n",
        "\n",
        "\n",
        "results_summary=pd.DataFrame({\"Accuracy\":[accuracy_score(y_train,y_train_class2)*100,accuracy_score(y_test,y_test_class2)*100],\n",
        "                              \"ROC_AUC\":[roc_auc_score(y_train,y_train_logit2)*100,roc_auc_score(y_test,y_test_logit2)*100],\n",
        "                              \"Recall\":[recall_score(y_train, y_train_class2)*100,recall_score(y_test, y_test_class2)*100],\n",
        "                              \"Precision\":[precision_score(y_train, y_train_class2)*100,precision_score(y_test, y_test_class2)*100],\n",
        "                              \"f1_score\":[f1_score(y_train, y_train_class2)*100,f1_score(y_test, y_test_class2)*100]\n",
        "                              },\n",
        "                             index=[\"Training set\",\"Testing set\"])\n",
        "results_summary"
      ],
      "execution_count": 204,
      "outputs": [
        {
          "output_type": "execute_result",
          "data": {
            "text/html": [
              "<div>\n",
              "<style scoped>\n",
              "    .dataframe tbody tr th:only-of-type {\n",
              "        vertical-align: middle;\n",
              "    }\n",
              "\n",
              "    .dataframe tbody tr th {\n",
              "        vertical-align: top;\n",
              "    }\n",
              "\n",
              "    .dataframe thead th {\n",
              "        text-align: right;\n",
              "    }\n",
              "</style>\n",
              "<table border=\"1\" class=\"dataframe\">\n",
              "  <thead>\n",
              "    <tr style=\"text-align: right;\">\n",
              "      <th></th>\n",
              "      <th>Accuracy</th>\n",
              "      <th>ROC_AUC</th>\n",
              "      <th>Recall</th>\n",
              "      <th>Precision</th>\n",
              "      <th>f1_score</th>\n",
              "    </tr>\n",
              "  </thead>\n",
              "  <tbody>\n",
              "    <tr>\n",
              "      <th>Training set</th>\n",
              "      <td>98.476052</td>\n",
              "      <td>92.003842</td>\n",
              "      <td>84.166667</td>\n",
              "      <td>98.058252</td>\n",
              "      <td>90.582960</td>\n",
              "    </tr>\n",
              "    <tr>\n",
              "      <th>Testing set</th>\n",
              "      <td>97.669903</td>\n",
              "      <td>91.986038</td>\n",
              "      <td>85.333333</td>\n",
              "      <td>83.116883</td>\n",
              "      <td>84.210526</td>\n",
              "    </tr>\n",
              "  </tbody>\n",
              "</table>\n",
              "</div>"
            ],
            "text/plain": [
              "               Accuracy    ROC_AUC     Recall  Precision   f1_score\n",
              "Training set  98.476052  92.003842  84.166667  98.058252  90.582960\n",
              "Testing set   97.669903  91.986038  85.333333  83.116883  84.210526"
            ]
          },
          "metadata": {
            "tags": []
          },
          "execution_count": 204
        }
      ]
    },
    {
      "cell_type": "markdown",
      "metadata": {
        "id": "7O2x67Ueyj1C",
        "colab_type": "text"
      },
      "source": [
        "#### **Finding the best threshold with Youden's index**"
      ]
    },
    {
      "cell_type": "code",
      "metadata": {
        "id": "hVnwCSX6Utm0",
        "colab_type": "code",
        "outputId": "a53fcdd3-1066-4d13-f3db-e5a8af20d99f",
        "colab": {
          "base_uri": "https://localhost:8080/",
          "height": 34
        }
      },
      "source": [
        "# Youden's index gives the most optimal threshold to maximize both recall and precision measures\n",
        "\n",
        "fpr,tpr,thresholds = roc_curve(y_test,y_test_hat2)\n",
        "optimal = np.argmax(tpr - fpr)\n",
        "optimal_threshold = thresholds[optimal]\n",
        "print(optimal_threshold)"
      ],
      "execution_count": 205,
      "outputs": [
        {
          "output_type": "stream",
          "text": [
            "0.38365808104700455\n"
          ],
          "name": "stdout"
        }
      ]
    },
    {
      "cell_type": "markdown",
      "metadata": {
        "id": "Qv18V_LYf_NS",
        "colab_type": "text"
      },
      "source": [
        "#### **Log Models with Youden's index threshold**"
      ]
    },
    {
      "cell_type": "code",
      "metadata": {
        "id": "XXRbd_5QfbdQ",
        "colab_type": "code",
        "outputId": "c6687a64-8020-4800-a197-3ea27c9ffbd1",
        "colab": {
          "base_uri": "https://localhost:8080/",
          "height": 110
        }
      },
      "source": [
        "logit3=LogisticRegression(penalty=\"l2\", class_weight=None, C=0.019, random_state=42).fit(x_train,y_train)\n",
        "\n",
        "y_train_logit3=logit3.predict(x_train)\n",
        "y_test_logit3=logit3.predict(x_test)\n",
        "\n",
        "y_train_class3 = np.where(y_train_logit3>0.38365808104700455,1,0)\n",
        "y_test_class3 = np.where(y_test_logit3>0.38365808104700455,1,0)\n",
        "\n",
        "results_summary=pd.DataFrame({\"Accuracy\":[accuracy_score(y_train,y_train_class3)*100,accuracy_score(y_test,y_test_class3)*100],\n",
        "                              \"ROC_AUC\":[roc_auc_score(y_train,y_train_logit3)*100,roc_auc_score(y_test,y_test_logit3)*100],\n",
        "                              \"Recall\":[recall_score(y_train, y_train_class3)*100,recall_score(y_test, y_test_class3)*100],\n",
        "                              \"Precision\":[precision_score(y_train, y_train_class3)*100,precision_score(y_test, y_test_class3)*100],\n",
        "                              \"f1_score\":[f1_score(y_train, y_train_class3)*100,f1_score(y_test, y_test_class3)*100]\n",
        "                              },\n",
        "                             index=[\"Training set\",\"Testing set\"])\n",
        "results_summary"
      ],
      "execution_count": 207,
      "outputs": [
        {
          "output_type": "execute_result",
          "data": {
            "text/html": [
              "<div>\n",
              "<style scoped>\n",
              "    .dataframe tbody tr th:only-of-type {\n",
              "        vertical-align: middle;\n",
              "    }\n",
              "\n",
              "    .dataframe tbody tr th {\n",
              "        vertical-align: top;\n",
              "    }\n",
              "\n",
              "    .dataframe thead th {\n",
              "        text-align: right;\n",
              "    }\n",
              "</style>\n",
              "<table border=\"1\" class=\"dataframe\">\n",
              "  <thead>\n",
              "    <tr style=\"text-align: right;\">\n",
              "      <th></th>\n",
              "      <th>Accuracy</th>\n",
              "      <th>ROC_AUC</th>\n",
              "      <th>Recall</th>\n",
              "      <th>Precision</th>\n",
              "      <th>f1_score</th>\n",
              "    </tr>\n",
              "  </thead>\n",
              "  <tbody>\n",
              "    <tr>\n",
              "      <th>Training set</th>\n",
              "      <td>98.476052</td>\n",
              "      <td>92.003842</td>\n",
              "      <td>84.166667</td>\n",
              "      <td>98.058252</td>\n",
              "      <td>90.582960</td>\n",
              "    </tr>\n",
              "    <tr>\n",
              "      <th>Testing set</th>\n",
              "      <td>97.669903</td>\n",
              "      <td>91.986038</td>\n",
              "      <td>85.333333</td>\n",
              "      <td>83.116883</td>\n",
              "      <td>84.210526</td>\n",
              "    </tr>\n",
              "  </tbody>\n",
              "</table>\n",
              "</div>"
            ],
            "text/plain": [
              "               Accuracy    ROC_AUC     Recall  Precision   f1_score\n",
              "Training set  98.476052  92.003842  84.166667  98.058252  90.582960\n",
              "Testing set   97.669903  91.986038  85.333333  83.116883  84.210526"
            ]
          },
          "metadata": {
            "tags": []
          },
          "execution_count": 207
        }
      ]
    },
    {
      "cell_type": "markdown",
      "metadata": {
        "id": "Pr9CU100nezX",
        "colab_type": "text"
      },
      "source": [
        "# **6. Decision Tree**"
      ]
    },
    {
      "cell_type": "code",
      "metadata": {
        "id": "ItgkYJnpnd-C",
        "colab_type": "code",
        "outputId": "e289dc7e-9b7d-4284-bcf3-52e400518920",
        "colab": {
          "base_uri": "https://localhost:8080/",
          "height": 121
        }
      },
      "source": [
        "tree_1 = DecisionTreeClassifier(random_state=42).fit(x_train,y_train)\n",
        "\n",
        "y_train_dt1_proba = tree_1.predict_proba(x_train)[:,1]\n",
        "y_test_dt1_proba = tree_1.predict_proba(x_test)[:,1]\n",
        "\n",
        "y_train_dt1_class = np.where(y_train_dt1_proba>0.5,1,0)\n",
        "y_test_dt1_class = np.where(y_test_dt1_proba>0.5,1,0)\n",
        "\n",
        "print(\"Train ROC AUC of Decision Tree #1:\", roc_auc_score(y_train,y_train_dt1_proba)*100)\n",
        "print(\"Test ROC AUC of Decision Tree #1:\", roc_auc_score(y_test, y_test_dt1_proba)*100)\n",
        "\n",
        "print(\"Train Recall of Decision Tree #1:\", recall_score(y_train, y_train_dt1_class)*100)\n",
        "print(\"Test Recall of Decision Tree #1:\", recall_score(y_test,y_test_dt1_class)*100)\n",
        "\n",
        "print(\"Train Precision of Decision Tree #1:\", precision_score(y_train, y_train_dt1_class)*100)\n",
        "print(\"Test Precision of Decision Tree #1:\", precision_score(y_test,y_test_dt1_class)*100)"
      ],
      "execution_count": 208,
      "outputs": [
        {
          "output_type": "stream",
          "text": [
            "Train ROC AUC of Decision Tree #1: 100.0\n",
            "Test ROC AUC of Decision Tree #1: 65.24258289703316\n",
            "Train Recall of Decision Tree #1: 100.0\n",
            "Test Recall of Decision Tree #1: 49.333333333333336\n",
            "Train Precision of Decision Tree #1: 100.0\n",
            "Test Precision of Decision Tree #1: 17.050691244239633\n"
          ],
          "name": "stdout"
        }
      ]
    },
    {
      "cell_type": "markdown",
      "metadata": {
        "id": "N7ISpZsXpEJS",
        "colab_type": "text"
      },
      "source": [
        "### **GridSearch on Decision Tree**"
      ]
    },
    {
      "cell_type": "code",
      "metadata": {
        "id": "m9a1zkHjsKMb",
        "colab_type": "code",
        "colab": {}
      },
      "source": [
        "param_dt={\"max_depth\":range(1,20),\n",
        "          \"min_samples_leaf\":range(10,300,10),\n",
        "          \"class_weight\":[\"balanced\",None]        \n",
        "            }"
      ],
      "execution_count": 0,
      "outputs": []
    },
    {
      "cell_type": "code",
      "metadata": {
        "id": "c60sNpFdsWTs",
        "colab_type": "code",
        "outputId": "c60e971c-c238-4b93-c3f4-ab6a160a5b06",
        "colab": {
          "base_uri": "https://localhost:8080/",
          "height": 34
        }
      },
      "source": [
        "gs_dt=GridSearchCV(estimator=DecisionTreeClassifier(random_state=42), param_grid=param_dt,\n",
        "                  scoring=\"precision\",cv=5).fit(x_train,y_train)\n",
        "\n",
        "gs_dt.best_params_"
      ],
      "execution_count": 210,
      "outputs": [
        {
          "output_type": "execute_result",
          "data": {
            "text/plain": [
              "{'class_weight': None, 'max_depth': 1, 'min_samples_leaf': 10}"
            ]
          },
          "metadata": {
            "tags": []
          },
          "execution_count": 210
        }
      ]
    },
    {
      "cell_type": "markdown",
      "metadata": {
        "id": "72NZqCKRs0M2",
        "colab_type": "text"
      },
      "source": [
        "### **Decision Tree after GridSearch**"
      ]
    },
    {
      "cell_type": "code",
      "metadata": {
        "id": "3A4JYMMupLFe",
        "colab_type": "code",
        "outputId": "8f8bce58-536a-4d28-bf66-c5b46c36e967",
        "colab": {
          "base_uri": "https://localhost:8080/",
          "height": 121
        }
      },
      "source": [
        "tree_2 = DecisionTreeClassifier(class_weight=None,max_depth=1, min_samples_leaf=10, random_state=42).fit(x_train,y_train)\n",
        "\n",
        "y_train_dt2_proba = tree_2.predict_proba(x_train)[:,1]\n",
        "y_test_dt2_proba = tree_2.predict_proba(x_test)[:,1]\n",
        "\n",
        "y_train_dt2_class = np.where(y_train_dt2_proba>0.5,1,0)\n",
        "y_test_dt2_class = np.where(y_test_dt2_proba>0.5,1,0)\n",
        "\n",
        "print(\"Train ROC AUC of Decision Tree #2:\", roc_auc_score(y_train,y_train_dt2_proba)*100)\n",
        "print(\"Test ROC AUC of Decision Tree #2:\", roc_auc_score(y_test, y_test_dt2_proba)*100)\n",
        "\n",
        "print(\"Train Recall of Decision Tree #2:\", recall_score(y_train, y_train_dt2_class)*100)\n",
        "print(\"Test Recall of Decision Tree #2:\", recall_score(y_test,y_test_dt2_class)*100)\n",
        "\n",
        "print(\"Train Precision of Decision Tree #2:\", precision_score(y_train, y_train_dt2_class)*100)\n",
        "print(\"Test Precision of Decision Tree #2:\", precision_score(y_test,y_test_dt2_class)*100)"
      ],
      "execution_count": 211,
      "outputs": [
        {
          "output_type": "stream",
          "text": [
            "Train ROC AUC of Decision Tree #2: 85.29742978272391\n",
            "Test ROC AUC of Decision Tree #2: 81.16230366492147\n",
            "Train Recall of Decision Tree #2: 70.83333333333334\n",
            "Test Recall of Decision Tree #2: 64.0\n",
            "Train Precision of Decision Tree #2: 96.5909090909091\n",
            "Test Precision of Decision Tree #2: 75.0\n"
          ],
          "name": "stdout"
        }
      ]
    },
    {
      "cell_type": "code",
      "metadata": {
        "id": "MsDK053vEn-n",
        "colab_type": "code",
        "outputId": "e9636f3b-8fe5-42f3-f0bf-657001715c2b",
        "colab": {
          "base_uri": "https://localhost:8080/",
          "height": 1000
        }
      },
      "source": [
        "# As we can see, for Decision Tree \"z_median\" is the only important feature\n",
        "feature_importances_dt = pd.DataFrame(tree_2.feature_importances_,index = x_train.columns,\n",
        "                                    columns=['importance']).sort_values('importance', ascending=False)\n",
        "\n",
        "feature_importances_dt"
      ],
      "execution_count": 212,
      "outputs": [
        {
          "output_type": "execute_result",
          "data": {
            "text/html": [
              "<div>\n",
              "<style scoped>\n",
              "    .dataframe tbody tr th:only-of-type {\n",
              "        vertical-align: middle;\n",
              "    }\n",
              "\n",
              "    .dataframe tbody tr th {\n",
              "        vertical-align: top;\n",
              "    }\n",
              "\n",
              "    .dataframe thead th {\n",
              "        text-align: right;\n",
              "    }\n",
              "</style>\n",
              "<table border=\"1\" class=\"dataframe\">\n",
              "  <thead>\n",
              "    <tr style=\"text-align: right;\">\n",
              "      <th></th>\n",
              "      <th>importance</th>\n",
              "    </tr>\n",
              "  </thead>\n",
              "  <tbody>\n",
              "    <tr>\n",
              "      <th>z_median</th>\n",
              "      <td>1.0</td>\n",
              "    </tr>\n",
              "    <tr>\n",
              "      <th>s2_median</th>\n",
              "      <td>0.0</td>\n",
              "    </tr>\n",
              "    <tr>\n",
              "      <th>y_entropy</th>\n",
              "      <td>0.0</td>\n",
              "    </tr>\n",
              "    <tr>\n",
              "      <th>x_std_div_z_std</th>\n",
              "      <td>0.0</td>\n",
              "    </tr>\n",
              "    <tr>\n",
              "      <th>y_std_div_z_std</th>\n",
              "      <td>0.0</td>\n",
              "    </tr>\n",
              "    <tr>\n",
              "      <th>y_z_peak_len_mul_squares</th>\n",
              "      <td>0.0</td>\n",
              "    </tr>\n",
              "    <tr>\n",
              "      <th>x_peak_prom_stand_diff_y</th>\n",
              "      <td>0.0</td>\n",
              "    </tr>\n",
              "    <tr>\n",
              "      <th>x_peak_len_diff_y</th>\n",
              "      <td>0.0</td>\n",
              "    </tr>\n",
              "    <tr>\n",
              "      <th>s2_peak_prom_stand_sit_diff</th>\n",
              "      <td>0.0</td>\n",
              "    </tr>\n",
              "    <tr>\n",
              "      <th>x_peak_len_diff_y_peak_len_50_200</th>\n",
              "      <td>0.0</td>\n",
              "    </tr>\n",
              "    <tr>\n",
              "      <th>x_y_peak_len_20_150_diff_50_110</th>\n",
              "      <td>0.0</td>\n",
              "    </tr>\n",
              "    <tr>\n",
              "      <th>s2_peak_len_50_110_20_300_diff</th>\n",
              "      <td>0.0</td>\n",
              "    </tr>\n",
              "    <tr>\n",
              "      <th>s2_entropy</th>\n",
              "      <td>0.0</td>\n",
              "    </tr>\n",
              "    <tr>\n",
              "      <th>x_entropy</th>\n",
              "      <td>0.0</td>\n",
              "    </tr>\n",
              "    <tr>\n",
              "      <th>z_entropy</th>\n",
              "      <td>0.0</td>\n",
              "    </tr>\n",
              "    <tr>\n",
              "      <th>y_weight_pred_k</th>\n",
              "      <td>0.0</td>\n",
              "    </tr>\n",
              "    <tr>\n",
              "      <th>s2_prom_div_height</th>\n",
              "      <td>0.0</td>\n",
              "    </tr>\n",
              "    <tr>\n",
              "      <th>x_prom_div_height</th>\n",
              "      <td>0.0</td>\n",
              "    </tr>\n",
              "    <tr>\n",
              "      <th>y_prom_div_height</th>\n",
              "      <td>0.0</td>\n",
              "    </tr>\n",
              "    <tr>\n",
              "      <th>z_prom_div_height</th>\n",
              "      <td>0.0</td>\n",
              "    </tr>\n",
              "    <tr>\n",
              "      <th>s2_variation_peak_height</th>\n",
              "      <td>0.0</td>\n",
              "    </tr>\n",
              "    <tr>\n",
              "      <th>x_variation_peak_height</th>\n",
              "      <td>0.0</td>\n",
              "    </tr>\n",
              "    <tr>\n",
              "      <th>y_variation_peak_height</th>\n",
              "      <td>0.0</td>\n",
              "    </tr>\n",
              "    <tr>\n",
              "      <th>z_variation_peak_height</th>\n",
              "      <td>0.0</td>\n",
              "    </tr>\n",
              "    <tr>\n",
              "      <th>x_tvar_div_z_tvar</th>\n",
              "      <td>0.0</td>\n",
              "    </tr>\n",
              "    <tr>\n",
              "      <th>y_tvar_div_z_tvar</th>\n",
              "      <td>0.0</td>\n",
              "    </tr>\n",
              "    <tr>\n",
              "      <th>z_weight_pred_k</th>\n",
              "      <td>0.0</td>\n",
              "    </tr>\n",
              "    <tr>\n",
              "      <th>x_weight_pred_k</th>\n",
              "      <td>0.0</td>\n",
              "    </tr>\n",
              "    <tr>\n",
              "      <th>x_median</th>\n",
              "      <td>0.0</td>\n",
              "    </tr>\n",
              "    <tr>\n",
              "      <th>s2_weight_pred_k</th>\n",
              "      <td>0.0</td>\n",
              "    </tr>\n",
              "    <tr>\n",
              "      <th>y_median</th>\n",
              "      <td>0.0</td>\n",
              "    </tr>\n",
              "    <tr>\n",
              "      <th>s2_std</th>\n",
              "      <td>0.0</td>\n",
              "    </tr>\n",
              "    <tr>\n",
              "      <th>s2_skew</th>\n",
              "      <td>0.0</td>\n",
              "    </tr>\n",
              "    <tr>\n",
              "      <th>x_skew</th>\n",
              "      <td>0.0</td>\n",
              "    </tr>\n",
              "    <tr>\n",
              "      <th>y_skew</th>\n",
              "      <td>0.0</td>\n",
              "    </tr>\n",
              "    <tr>\n",
              "      <th>z_skew</th>\n",
              "      <td>0.0</td>\n",
              "    </tr>\n",
              "    <tr>\n",
              "      <th>s2_kurtosis</th>\n",
              "      <td>0.0</td>\n",
              "    </tr>\n",
              "    <tr>\n",
              "      <th>x_kurtosis</th>\n",
              "      <td>0.0</td>\n",
              "    </tr>\n",
              "    <tr>\n",
              "      <th>y_kurtosis</th>\n",
              "      <td>0.0</td>\n",
              "    </tr>\n",
              "    <tr>\n",
              "      <th>z_kurtosis</th>\n",
              "      <td>0.0</td>\n",
              "    </tr>\n",
              "    <tr>\n",
              "      <th>s2_kstatvar</th>\n",
              "      <td>0.0</td>\n",
              "    </tr>\n",
              "    <tr>\n",
              "      <th>x_kstatvar</th>\n",
              "      <td>0.0</td>\n",
              "    </tr>\n",
              "    <tr>\n",
              "      <th>y_kstatvar</th>\n",
              "      <td>0.0</td>\n",
              "    </tr>\n",
              "    <tr>\n",
              "      <th>z_kstatvar</th>\n",
              "      <td>0.0</td>\n",
              "    </tr>\n",
              "    <tr>\n",
              "      <th>s2_peak_len</th>\n",
              "      <td>0.0</td>\n",
              "    </tr>\n",
              "    <tr>\n",
              "      <th>s2_peak_width</th>\n",
              "      <td>0.0</td>\n",
              "    </tr>\n",
              "    <tr>\n",
              "      <th>x_peak_width</th>\n",
              "      <td>0.0</td>\n",
              "    </tr>\n",
              "    <tr>\n",
              "      <th>y_peak_width</th>\n",
              "      <td>0.0</td>\n",
              "    </tr>\n",
              "    <tr>\n",
              "      <th>z_peak_width</th>\n",
              "      <td>0.0</td>\n",
              "    </tr>\n",
              "    <tr>\n",
              "      <th>x_y_corr</th>\n",
              "      <td>0.0</td>\n",
              "    </tr>\n",
              "    <tr>\n",
              "      <th>z_y_corr</th>\n",
              "      <td>0.0</td>\n",
              "    </tr>\n",
              "    <tr>\n",
              "      <th>x_z_corr</th>\n",
              "      <td>0.0</td>\n",
              "    </tr>\n",
              "    <tr>\n",
              "      <th>s2_tvar</th>\n",
              "      <td>0.0</td>\n",
              "    </tr>\n",
              "    <tr>\n",
              "      <th>Kg</th>\n",
              "      <td>0.0</td>\n",
              "    </tr>\n",
              "  </tbody>\n",
              "</table>\n",
              "</div>"
            ],
            "text/plain": [
              "                                   importance\n",
              "z_median                                  1.0\n",
              "s2_median                                 0.0\n",
              "y_entropy                                 0.0\n",
              "x_std_div_z_std                           0.0\n",
              "y_std_div_z_std                           0.0\n",
              "y_z_peak_len_mul_squares                  0.0\n",
              "x_peak_prom_stand_diff_y                  0.0\n",
              "x_peak_len_diff_y                         0.0\n",
              "s2_peak_prom_stand_sit_diff               0.0\n",
              "x_peak_len_diff_y_peak_len_50_200         0.0\n",
              "x_y_peak_len_20_150_diff_50_110           0.0\n",
              "s2_peak_len_50_110_20_300_diff            0.0\n",
              "s2_entropy                                0.0\n",
              "x_entropy                                 0.0\n",
              "z_entropy                                 0.0\n",
              "y_weight_pred_k                           0.0\n",
              "s2_prom_div_height                        0.0\n",
              "x_prom_div_height                         0.0\n",
              "y_prom_div_height                         0.0\n",
              "z_prom_div_height                         0.0\n",
              "s2_variation_peak_height                  0.0\n",
              "x_variation_peak_height                   0.0\n",
              "y_variation_peak_height                   0.0\n",
              "z_variation_peak_height                   0.0\n",
              "x_tvar_div_z_tvar                         0.0\n",
              "y_tvar_div_z_tvar                         0.0\n",
              "z_weight_pred_k                           0.0\n",
              "x_weight_pred_k                           0.0\n",
              "x_median                                  0.0\n",
              "s2_weight_pred_k                          0.0\n",
              "y_median                                  0.0\n",
              "s2_std                                    0.0\n",
              "s2_skew                                   0.0\n",
              "x_skew                                    0.0\n",
              "y_skew                                    0.0\n",
              "z_skew                                    0.0\n",
              "s2_kurtosis                               0.0\n",
              "x_kurtosis                                0.0\n",
              "y_kurtosis                                0.0\n",
              "z_kurtosis                                0.0\n",
              "s2_kstatvar                               0.0\n",
              "x_kstatvar                                0.0\n",
              "y_kstatvar                                0.0\n",
              "z_kstatvar                                0.0\n",
              "s2_peak_len                               0.0\n",
              "s2_peak_width                             0.0\n",
              "x_peak_width                              0.0\n",
              "y_peak_width                              0.0\n",
              "z_peak_width                              0.0\n",
              "x_y_corr                                  0.0\n",
              "z_y_corr                                  0.0\n",
              "x_z_corr                                  0.0\n",
              "s2_tvar                                   0.0\n",
              "Kg                                        0.0"
            ]
          },
          "metadata": {
            "tags": []
          },
          "execution_count": 212
        }
      ]
    },
    {
      "cell_type": "code",
      "metadata": {
        "id": "TvnPM9PXpiOz",
        "colab_type": "code",
        "outputId": "1c640bc1-d643-4331-d9b9-f472ddaddce3",
        "colab": {
          "base_uri": "https://localhost:8080/",
          "height": 329
        }
      },
      "source": [
        "print(\"Train:\",classification_report(y_train,tree_2.predict(x_train)))\n",
        "print(\"Test:\",classification_report(y_test,tree_2.predict(x_test)))"
      ],
      "execution_count": 213,
      "outputs": [
        {
          "output_type": "stream",
          "text": [
            "Train:               precision    recall  f1-score   support\n",
            "\n",
            "           0       0.97      1.00      0.99      1258\n",
            "           1       0.97      0.71      0.82       120\n",
            "\n",
            "    accuracy                           0.97      1378\n",
            "   macro avg       0.97      0.85      0.90      1378\n",
            "weighted avg       0.97      0.97      0.97      1378\n",
            "\n",
            "Test:               precision    recall  f1-score   support\n",
            "\n",
            "           0       0.97      0.98      0.98       955\n",
            "           1       0.75      0.64      0.69        75\n",
            "\n",
            "    accuracy                           0.96      1030\n",
            "   macro avg       0.86      0.81      0.83      1030\n",
            "weighted avg       0.96      0.96      0.96      1030\n",
            "\n"
          ],
          "name": "stdout"
        }
      ]
    },
    {
      "cell_type": "markdown",
      "metadata": {
        "id": "-0wK5gsouejN",
        "colab_type": "text"
      },
      "source": [
        "# **6. Random Forest**"
      ]
    },
    {
      "cell_type": "code",
      "metadata": {
        "id": "KRS9DyqzrK1K",
        "colab_type": "code",
        "outputId": "32cbebea-15d8-46d7-d08c-14227d2389cf",
        "colab": {
          "base_uri": "https://localhost:8080/",
          "height": 34
        }
      },
      "source": [
        "gs_rf = GridSearchCV(estimator=RandomForestClassifier(random_state=42),\n",
        "                  param_grid=param_dt, scoring=\"precision\", cv=3, n_jobs=-1).fit(x_train,y_train)\n",
        "\n",
        "gs_rf.best_params_"
      ],
      "execution_count": 214,
      "outputs": [
        {
          "output_type": "execute_result",
          "data": {
            "text/plain": [
              "{'class_weight': None, 'max_depth': 3, 'min_samples_leaf': 10}"
            ]
          },
          "metadata": {
            "tags": []
          },
          "execution_count": 214
        }
      ]
    },
    {
      "cell_type": "markdown",
      "metadata": {
        "id": "VnY8glgrLXe7",
        "colab_type": "text"
      },
      "source": [
        "### **Random Forest after GridSearch**"
      ]
    },
    {
      "cell_type": "code",
      "metadata": {
        "id": "xDmL5pXsvA8g",
        "colab_type": "code",
        "outputId": "b2bffd3b-cd1b-45af-a7a3-8332230a16f4",
        "colab": {
          "base_uri": "https://localhost:8080/",
          "height": 121
        }
      },
      "source": [
        "rf=RandomForestClassifier(class_weight=None, max_depth=3, min_samples_leaf=10, random_state=42).fit(x_train,y_train)\n",
        "\n",
        "y_train_rf_proba = rf.predict_proba(x_train)[:,1]\n",
        "y_test_rf_proba = rf.predict_proba(x_test)[:,1]\n",
        "\n",
        "y_train_rf_class = np.where(y_train_rf_proba>0.5,1,0)\n",
        "y_test_rf_class = np.where(y_test_rf_proba>0.5,1,0)\n",
        "\n",
        "print(\"Train ROC AUC of Random Forest #1:\", roc_auc_score(y_train,y_train_rf_proba)*100)\n",
        "print(\"Test ROC AUC of Random Forest #1:\", roc_auc_score(y_test, y_test_rf_proba)*100)\n",
        "\n",
        "print(\"Train Recall of Random Forest #1:\", recall_score(y_train, y_train_rf_class)*100)\n",
        "print(\"Test Recall of Random Forest #1:\", recall_score(y_test,y_test_rf_class)*100)\n",
        "\n",
        "print(\"Train Precision of Random Forest #1:\", precision_score(y_train, y_train_rf_class)*100)\n",
        "print(\"Test Precision of Random Forest #1:\", precision_score(y_test,y_test_rf_class)*100)"
      ],
      "execution_count": 215,
      "outputs": [
        {
          "output_type": "stream",
          "text": [
            "Train ROC AUC of Random Forest #1: 99.97284048754636\n",
            "Test ROC AUC of Random Forest #1: 99.80732984293195\n",
            "Train Recall of Random Forest #1: 87.5\n",
            "Test Recall of Random Forest #1: 93.33333333333333\n",
            "Train Precision of Random Forest #1: 99.05660377358491\n",
            "Test Precision of Random Forest #1: 93.33333333333333\n"
          ],
          "name": "stdout"
        }
      ]
    },
    {
      "cell_type": "code",
      "metadata": {
        "id": "RHCaKRZBlyKp",
        "colab_type": "code",
        "outputId": "deb3b279-b810-4326-c28a-58f560e7895d",
        "colab": {
          "base_uri": "https://localhost:8080/",
          "height": 1000
        }
      },
      "source": [
        "feature_importances_rf = pd.DataFrame(rf.feature_importances_,index = x_train.columns,\n",
        "                                    columns=['importance']).sort_values('importance', ascending=False)\n",
        "feature_importances_rf"
      ],
      "execution_count": 216,
      "outputs": [
        {
          "output_type": "execute_result",
          "data": {
            "text/html": [
              "<div>\n",
              "<style scoped>\n",
              "    .dataframe tbody tr th:only-of-type {\n",
              "        vertical-align: middle;\n",
              "    }\n",
              "\n",
              "    .dataframe tbody tr th {\n",
              "        vertical-align: top;\n",
              "    }\n",
              "\n",
              "    .dataframe thead th {\n",
              "        text-align: right;\n",
              "    }\n",
              "</style>\n",
              "<table border=\"1\" class=\"dataframe\">\n",
              "  <thead>\n",
              "    <tr style=\"text-align: right;\">\n",
              "      <th></th>\n",
              "      <th>importance</th>\n",
              "    </tr>\n",
              "  </thead>\n",
              "  <tbody>\n",
              "    <tr>\n",
              "      <th>x_kstatvar</th>\n",
              "      <td>0.221657</td>\n",
              "    </tr>\n",
              "    <tr>\n",
              "      <th>z_median</th>\n",
              "      <td>0.129030</td>\n",
              "    </tr>\n",
              "    <tr>\n",
              "      <th>s2_skew</th>\n",
              "      <td>0.095739</td>\n",
              "    </tr>\n",
              "    <tr>\n",
              "      <th>s2_kurtosis</th>\n",
              "      <td>0.070710</td>\n",
              "    </tr>\n",
              "    <tr>\n",
              "      <th>x_tvar_div_z_tvar</th>\n",
              "      <td>0.060027</td>\n",
              "    </tr>\n",
              "    <tr>\n",
              "      <th>x_std_div_z_std</th>\n",
              "      <td>0.059930</td>\n",
              "    </tr>\n",
              "    <tr>\n",
              "      <th>x_peak_prom_stand_diff_y</th>\n",
              "      <td>0.040178</td>\n",
              "    </tr>\n",
              "    <tr>\n",
              "      <th>z_kstatvar</th>\n",
              "      <td>0.039698</td>\n",
              "    </tr>\n",
              "    <tr>\n",
              "      <th>y_median</th>\n",
              "      <td>0.034039</td>\n",
              "    </tr>\n",
              "    <tr>\n",
              "      <th>y_kurtosis</th>\n",
              "      <td>0.030122</td>\n",
              "    </tr>\n",
              "    <tr>\n",
              "      <th>y_kstatvar</th>\n",
              "      <td>0.027299</td>\n",
              "    </tr>\n",
              "    <tr>\n",
              "      <th>s2_peak_len_50_110_20_300_diff</th>\n",
              "      <td>0.024369</td>\n",
              "    </tr>\n",
              "    <tr>\n",
              "      <th>s2_kstatvar</th>\n",
              "      <td>0.020393</td>\n",
              "    </tr>\n",
              "    <tr>\n",
              "      <th>s2_tvar</th>\n",
              "      <td>0.016610</td>\n",
              "    </tr>\n",
              "    <tr>\n",
              "      <th>x_median</th>\n",
              "      <td>0.015164</td>\n",
              "    </tr>\n",
              "    <tr>\n",
              "      <th>s2_std</th>\n",
              "      <td>0.014808</td>\n",
              "    </tr>\n",
              "    <tr>\n",
              "      <th>x_kurtosis</th>\n",
              "      <td>0.013163</td>\n",
              "    </tr>\n",
              "    <tr>\n",
              "      <th>x_skew</th>\n",
              "      <td>0.012327</td>\n",
              "    </tr>\n",
              "    <tr>\n",
              "      <th>z_skew</th>\n",
              "      <td>0.010740</td>\n",
              "    </tr>\n",
              "    <tr>\n",
              "      <th>x_y_peak_len_20_150_diff_50_110</th>\n",
              "      <td>0.010144</td>\n",
              "    </tr>\n",
              "    <tr>\n",
              "      <th>x_y_corr</th>\n",
              "      <td>0.009047</td>\n",
              "    </tr>\n",
              "    <tr>\n",
              "      <th>y_std_div_z_std</th>\n",
              "      <td>0.008800</td>\n",
              "    </tr>\n",
              "    <tr>\n",
              "      <th>s2_median</th>\n",
              "      <td>0.005784</td>\n",
              "    </tr>\n",
              "    <tr>\n",
              "      <th>y_tvar_div_z_tvar</th>\n",
              "      <td>0.004316</td>\n",
              "    </tr>\n",
              "    <tr>\n",
              "      <th>z_y_corr</th>\n",
              "      <td>0.003799</td>\n",
              "    </tr>\n",
              "    <tr>\n",
              "      <th>x_prom_div_height</th>\n",
              "      <td>0.002860</td>\n",
              "    </tr>\n",
              "    <tr>\n",
              "      <th>x_variation_peak_height</th>\n",
              "      <td>0.002769</td>\n",
              "    </tr>\n",
              "    <tr>\n",
              "      <th>z_kurtosis</th>\n",
              "      <td>0.001877</td>\n",
              "    </tr>\n",
              "    <tr>\n",
              "      <th>s2_peak_width</th>\n",
              "      <td>0.001494</td>\n",
              "    </tr>\n",
              "    <tr>\n",
              "      <th>y_skew</th>\n",
              "      <td>0.001443</td>\n",
              "    </tr>\n",
              "    <tr>\n",
              "      <th>s2_prom_div_height</th>\n",
              "      <td>0.001436</td>\n",
              "    </tr>\n",
              "    <tr>\n",
              "      <th>z_entropy</th>\n",
              "      <td>0.001407</td>\n",
              "    </tr>\n",
              "    <tr>\n",
              "      <th>y_weight_pred_k</th>\n",
              "      <td>0.001366</td>\n",
              "    </tr>\n",
              "    <tr>\n",
              "      <th>x_z_corr</th>\n",
              "      <td>0.001165</td>\n",
              "    </tr>\n",
              "    <tr>\n",
              "      <th>y_z_peak_len_mul_squares</th>\n",
              "      <td>0.001064</td>\n",
              "    </tr>\n",
              "    <tr>\n",
              "      <th>x_peak_len_diff_y</th>\n",
              "      <td>0.000600</td>\n",
              "    </tr>\n",
              "    <tr>\n",
              "      <th>x_weight_pred_k</th>\n",
              "      <td>0.000582</td>\n",
              "    </tr>\n",
              "    <tr>\n",
              "      <th>s2_weight_pred_k</th>\n",
              "      <td>0.000577</td>\n",
              "    </tr>\n",
              "    <tr>\n",
              "      <th>s2_peak_len</th>\n",
              "      <td>0.000559</td>\n",
              "    </tr>\n",
              "    <tr>\n",
              "      <th>z_prom_div_height</th>\n",
              "      <td>0.000547</td>\n",
              "    </tr>\n",
              "    <tr>\n",
              "      <th>y_variation_peak_height</th>\n",
              "      <td>0.000486</td>\n",
              "    </tr>\n",
              "    <tr>\n",
              "      <th>y_peak_width</th>\n",
              "      <td>0.000418</td>\n",
              "    </tr>\n",
              "    <tr>\n",
              "      <th>s2_variation_peak_height</th>\n",
              "      <td>0.000393</td>\n",
              "    </tr>\n",
              "    <tr>\n",
              "      <th>s2_peak_prom_stand_sit_diff</th>\n",
              "      <td>0.000332</td>\n",
              "    </tr>\n",
              "    <tr>\n",
              "      <th>y_prom_div_height</th>\n",
              "      <td>0.000271</td>\n",
              "    </tr>\n",
              "    <tr>\n",
              "      <th>x_peak_width</th>\n",
              "      <td>0.000213</td>\n",
              "    </tr>\n",
              "    <tr>\n",
              "      <th>x_peak_len_diff_y_peak_len_50_200</th>\n",
              "      <td>0.000127</td>\n",
              "    </tr>\n",
              "    <tr>\n",
              "      <th>Kg</th>\n",
              "      <td>0.000079</td>\n",
              "    </tr>\n",
              "    <tr>\n",
              "      <th>z_peak_width</th>\n",
              "      <td>0.000033</td>\n",
              "    </tr>\n",
              "    <tr>\n",
              "      <th>z_variation_peak_height</th>\n",
              "      <td>0.000008</td>\n",
              "    </tr>\n",
              "    <tr>\n",
              "      <th>z_weight_pred_k</th>\n",
              "      <td>0.000000</td>\n",
              "    </tr>\n",
              "    <tr>\n",
              "      <th>y_entropy</th>\n",
              "      <td>0.000000</td>\n",
              "    </tr>\n",
              "    <tr>\n",
              "      <th>x_entropy</th>\n",
              "      <td>0.000000</td>\n",
              "    </tr>\n",
              "    <tr>\n",
              "      <th>s2_entropy</th>\n",
              "      <td>0.000000</td>\n",
              "    </tr>\n",
              "  </tbody>\n",
              "</table>\n",
              "</div>"
            ],
            "text/plain": [
              "                                   importance\n",
              "x_kstatvar                           0.221657\n",
              "z_median                             0.129030\n",
              "s2_skew                              0.095739\n",
              "s2_kurtosis                          0.070710\n",
              "x_tvar_div_z_tvar                    0.060027\n",
              "x_std_div_z_std                      0.059930\n",
              "x_peak_prom_stand_diff_y             0.040178\n",
              "z_kstatvar                           0.039698\n",
              "y_median                             0.034039\n",
              "y_kurtosis                           0.030122\n",
              "y_kstatvar                           0.027299\n",
              "s2_peak_len_50_110_20_300_diff       0.024369\n",
              "s2_kstatvar                          0.020393\n",
              "s2_tvar                              0.016610\n",
              "x_median                             0.015164\n",
              "s2_std                               0.014808\n",
              "x_kurtosis                           0.013163\n",
              "x_skew                               0.012327\n",
              "z_skew                               0.010740\n",
              "x_y_peak_len_20_150_diff_50_110      0.010144\n",
              "x_y_corr                             0.009047\n",
              "y_std_div_z_std                      0.008800\n",
              "s2_median                            0.005784\n",
              "y_tvar_div_z_tvar                    0.004316\n",
              "z_y_corr                             0.003799\n",
              "x_prom_div_height                    0.002860\n",
              "x_variation_peak_height              0.002769\n",
              "z_kurtosis                           0.001877\n",
              "s2_peak_width                        0.001494\n",
              "y_skew                               0.001443\n",
              "s2_prom_div_height                   0.001436\n",
              "z_entropy                            0.001407\n",
              "y_weight_pred_k                      0.001366\n",
              "x_z_corr                             0.001165\n",
              "y_z_peak_len_mul_squares             0.001064\n",
              "x_peak_len_diff_y                    0.000600\n",
              "x_weight_pred_k                      0.000582\n",
              "s2_weight_pred_k                     0.000577\n",
              "s2_peak_len                          0.000559\n",
              "z_prom_div_height                    0.000547\n",
              "y_variation_peak_height              0.000486\n",
              "y_peak_width                         0.000418\n",
              "s2_variation_peak_height             0.000393\n",
              "s2_peak_prom_stand_sit_diff          0.000332\n",
              "y_prom_div_height                    0.000271\n",
              "x_peak_width                         0.000213\n",
              "x_peak_len_diff_y_peak_len_50_200    0.000127\n",
              "Kg                                   0.000079\n",
              "z_peak_width                         0.000033\n",
              "z_variation_peak_height              0.000008\n",
              "z_weight_pred_k                      0.000000\n",
              "y_entropy                            0.000000\n",
              "x_entropy                            0.000000\n",
              "s2_entropy                           0.000000"
            ]
          },
          "metadata": {
            "tags": []
          },
          "execution_count": 216
        }
      ]
    },
    {
      "cell_type": "markdown",
      "metadata": {
        "id": "ELbbitLOGL0R",
        "colab_type": "text"
      },
      "source": [
        "### **Comparison between the models (Logistic Regression, Descision Tree & Random Forest)**"
      ]
    },
    {
      "cell_type": "code",
      "metadata": {
        "id": "Q_sW-AoYGX2p",
        "colab_type": "code",
        "outputId": "44bfa3ad-04ee-479d-c96a-b1c436631ae2",
        "colab": {
          "base_uri": "https://localhost:8080/",
          "height": 173
        }
      },
      "source": [
        "# According to the results, RF performs the best among the three, as it has highest scores for recall, precision, and roc_auc\n",
        "print(\"Mean 10-fold ROC_AUC score for Tuned Logit\",np.mean(cross_val_score(estimator=logit2,X=x,y=y,cv=StratifiedKFold(n_splits=10,shuffle=True,random_state=42), scoring=\"roc_auc\",n_jobs=-1))*100)\n",
        "print(\"Mean 10-fold ROC_AUC score for Tuned DT\",np.mean(cross_val_score(estimator=tree_2,X=x,y=y,cv=StratifiedKFold(n_splits=10,shuffle=True,random_state=42), scoring=\"roc_auc\",n_jobs=-1))*100)\n",
        "print(\"Mean 10-fold ROC_AUC score for Tuned RF\",np.mean(cross_val_score(estimator=rf,X=x,y=y,cv=StratifiedKFold(n_splits=10,shuffle=True,random_state=42), scoring=\"roc_auc\", n_jobs=-1))*100)\n",
        "print(\"Mean 10-fold RECALL score for Tuned Logit\",np.mean(cross_val_score(estimator=logit2,X=x,y=y,cv=StratifiedKFold(n_splits=10,shuffle=True, random_state=42), scoring=\"recall\",n_jobs=-1))*100)\n",
        "print(\"Mean 10-fold RECALL score for Tuned DT\",np.mean(cross_val_score(estimator=tree_2,X=x,y=y,cv=StratifiedKFold(n_splits=10,shuffle=True,random_state=42), scoring=\"recall\",n_jobs=-1))*100)\n",
        "print(\"Mean 10-fold RECALL score for Tuned RF\",np.mean(cross_val_score(estimator=rf,X=x,y=y,cv=StratifiedKFold(n_splits=10,shuffle=True,random_state=42), scoring=\"recall\",n_jobs=-1))*100)\n",
        "print(\"Mean 10-fold PRECISION score for Tuned Logit\",np.mean(cross_val_score(estimator=logit2,X=x,y=y,cv=StratifiedKFold(n_splits=10,shuffle=True,random_state=42), scoring=\"precision\",n_jobs=-1))*100)\n",
        "print(\"Mean 10-fold PRECISION score for Tuned DT\",np.mean(cross_val_score(estimator=tree_2,X=x,y=y,cv=StratifiedKFold(n_splits=10,shuffle=True,random_state=42), scoring=\"precision\",n_jobs=-1))*100)\n",
        "print(\"Mean 10-fold PRECISION score for Tuned RF\",np.mean(cross_val_score(estimator=rf,X=x,y=y,cv=StratifiedKFold(n_splits=10,shuffle=True,random_state=42), scoring=\"precision\",n_jobs=-1))*100)"
      ],
      "execution_count": 217,
      "outputs": [
        {
          "output_type": "stream",
          "text": [
            "Mean 10-fold ROC_AUC score for Tuned Logit 72.84461980437213\n",
            "Mean 10-fold ROC_AUC score for Tuned DT 83.1496945862271\n",
            "Mean 10-fold ROC_AUC score for Tuned RF 99.88206007865452\n",
            "Mean 10-fold RECALL score for Tuned Logit 30.315789473684205\n",
            "Mean 10-fold RECALL score for Tuned DT 67.15789473684211\n",
            "Mean 10-fold RECALL score for Tuned RF 81.05263157894737\n",
            "Mean 10-fold PRECISION score for Tuned Logit 50.621212121212125\n",
            "Mean 10-fold PRECISION score for Tuned DT 87.12613122171946\n",
            "Mean 10-fold PRECISION score for Tuned RF 99.41176470588235\n"
          ],
          "name": "stdout"
        }
      ]
    },
    {
      "cell_type": "markdown",
      "metadata": {
        "id": "50borActk87S",
        "colab_type": "text"
      },
      "source": [
        "##### **Dropping the features that are not important**"
      ]
    },
    {
      "cell_type": "code",
      "metadata": {
        "id": "p-Ogf0JFiS22",
        "colab_type": "code",
        "colab": {}
      },
      "source": [
        "x_train_d = x_train.drop([ 'x_y_corr', 'y_std_div_z_std',\t's2_median',\t'y_tvar_div_z_tvar',\t'z_y_corr', 'x_prom_div_height',\t'x_variation_peak_height',\t'z_kurtosis',\t's2_peak_width',\t'y_skew',\t\n",
        "                          's2_prom_div_height',\t'z_entropy',\t'y_weight_pred_k',\t'x_z_corr', 'y_z_peak_len_mul_squares',\t'x_peak_len_diff_y', 'x_weight_pred_k',\t's2_weight_pred_k',\t's2_peak_len',\t\n",
        "                          'z_prom_div_height',\t'y_variation_peak_height',\t'y_peak_width',\t's2_variation_peak_height',\t's2_peak_prom_stand_sit_diff','y_prom_div_height',\t'x_peak_width',\t\n",
        "                          'x_peak_len_diff_y_peak_len_50_200',\t'Kg',\t'z_peak_width',\t'z_variation_peak_height',\t'z_weight_pred_k',\t'y_entropy', 'x_entropy',\t's2_entropy'], axis=1)\n",
        "                         \n",
        "x_test_d = x_test.drop([ 'x_y_corr', 'y_std_div_z_std',\t's2_median',\t'y_tvar_div_z_tvar',\t'z_y_corr', 'x_prom_div_height',\t'x_variation_peak_height',\t'z_kurtosis',\t's2_peak_width',\t'y_skew',\t\n",
        "                          's2_prom_div_height',\t'z_entropy',\t'y_weight_pred_k',\t'x_z_corr', 'y_z_peak_len_mul_squares',\t'x_peak_len_diff_y', 'x_weight_pred_k',\t's2_weight_pred_k',\t's2_peak_len',\t\n",
        "                          'z_prom_div_height',\t'y_variation_peak_height',\t'y_peak_width',\t's2_variation_peak_height',\t's2_peak_prom_stand_sit_diff','y_prom_div_height',\t'x_peak_width',\t\n",
        "                          'x_peak_len_diff_y_peak_len_50_200',\t'Kg',\t'z_peak_width',\t'z_variation_peak_height',\t'z_weight_pred_k',\t'y_entropy', 'x_entropy',\t's2_entropy'], axis=1)"
      ],
      "execution_count": 0,
      "outputs": []
    },
    {
      "cell_type": "markdown",
      "metadata": {
        "id": "z5K2qsV_lGE3",
        "colab_type": "text"
      },
      "source": [
        "##### **Building new models with new x_train and x_test**"
      ]
    },
    {
      "cell_type": "markdown",
      "metadata": {
        "id": "u0YCbsUutyAQ",
        "colab_type": "text"
      },
      "source": [
        "##### **Logistic before and after GridSearch (with dropped variables)**"
      ]
    },
    {
      "cell_type": "code",
      "metadata": {
        "id": "oxBZn_8QlEvJ",
        "colab_type": "code",
        "colab": {
          "base_uri": "https://localhost:8080/",
          "height": 110
        },
        "outputId": "7e939b07-4b53-4af9-9293-6b331c0e314e"
      },
      "source": [
        "logit_d=LogisticRegression(random_state=42).fit(x_train_d,y_train)\n",
        "\n",
        "y_traind_logit = logit_d.predict(x_train_d)\n",
        "y_testd_logit = logit_d.predict(x_test_d) \n",
        "\n",
        "y_traind_class = np.where(y_traind_logit>0.5,1,0)\n",
        "y_testd_class = np.where(y_testd_logit>0.5,1,0)\n",
        "\n",
        "\n",
        "results_summary=pd.DataFrame({\"Accuracy\":[accuracy_score(y_train,y_traind_class)*100,accuracy_score(y_test,y_testd_class)*100],\n",
        "                              \"ROC_AUC\":[roc_auc_score(y_train,y_traind_logit)*100,roc_auc_score(y_test,y_testd_logit)*100],\n",
        "                              \"Recall\":[recall_score(y_train, y_traind_class)*100,recall_score(y_test, y_testd_class)*100],\n",
        "                              \"Precision\":[precision_score(y_train, y_traind_class)*100,precision_score(y_test, y_testd_class)*100],\n",
        "                              \"f1_score\":[f1_score(y_train, y_traind_class)*100,f1_score(y_test, y_testd_class)*100]\n",
        "                              },\n",
        "                             index=[\"Training set\",\"Testing set\"])\n",
        "results_summary"
      ],
      "execution_count": 219,
      "outputs": [
        {
          "output_type": "execute_result",
          "data": {
            "text/html": [
              "<div>\n",
              "<style scoped>\n",
              "    .dataframe tbody tr th:only-of-type {\n",
              "        vertical-align: middle;\n",
              "    }\n",
              "\n",
              "    .dataframe tbody tr th {\n",
              "        vertical-align: top;\n",
              "    }\n",
              "\n",
              "    .dataframe thead th {\n",
              "        text-align: right;\n",
              "    }\n",
              "</style>\n",
              "<table border=\"1\" class=\"dataframe\">\n",
              "  <thead>\n",
              "    <tr style=\"text-align: right;\">\n",
              "      <th></th>\n",
              "      <th>Accuracy</th>\n",
              "      <th>ROC_AUC</th>\n",
              "      <th>Recall</th>\n",
              "      <th>Precision</th>\n",
              "      <th>f1_score</th>\n",
              "    </tr>\n",
              "  </thead>\n",
              "  <tbody>\n",
              "    <tr>\n",
              "      <th>Training set</th>\n",
              "      <td>99.854862</td>\n",
              "      <td>99.543588</td>\n",
              "      <td>99.166667</td>\n",
              "      <td>99.166667</td>\n",
              "      <td>99.166667</td>\n",
              "    </tr>\n",
              "    <tr>\n",
              "      <th>Testing set</th>\n",
              "      <td>94.854369</td>\n",
              "      <td>95.996510</td>\n",
              "      <td>97.333333</td>\n",
              "      <td>58.870968</td>\n",
              "      <td>73.366834</td>\n",
              "    </tr>\n",
              "  </tbody>\n",
              "</table>\n",
              "</div>"
            ],
            "text/plain": [
              "               Accuracy    ROC_AUC     Recall  Precision   f1_score\n",
              "Training set  99.854862  99.543588  99.166667  99.166667  99.166667\n",
              "Testing set   94.854369  95.996510  97.333333  58.870968  73.366834"
            ]
          },
          "metadata": {
            "tags": []
          },
          "execution_count": 219
        }
      ]
    },
    {
      "cell_type": "code",
      "metadata": {
        "id": "OELBNCQFlUNF",
        "colab_type": "code",
        "colab": {}
      },
      "source": [
        "param_logit_d={'class_weight':[None,'balanced'],\n",
        "            'C':np.linspace(0.0001,10,400),\n",
        "            'penalty': ['l1','l2', \"elasticnet\"]}"
      ],
      "execution_count": 0,
      "outputs": []
    },
    {
      "cell_type": "code",
      "metadata": {
        "id": "BqaHAbTHlUh_",
        "colab_type": "code",
        "colab": {
          "base_uri": "https://localhost:8080/",
          "height": 138
        },
        "outputId": "165a6f55-33d4-4452-c3f2-38085fcc9971"
      },
      "source": [
        "gs_logit_d = GridSearchCV(estimator=logit_d,\n",
        "                        param_grid=param_logit_d,\n",
        "                        cv=5,scoring='precision',verbose=1,n_jobs=-1).fit(x_train_d, y_train)\n",
        "\n",
        "gs_logit_d.best_params_"
      ],
      "execution_count": 221,
      "outputs": [
        {
          "output_type": "stream",
          "text": [
            "Fitting 5 folds for each of 2400 candidates, totalling 12000 fits\n"
          ],
          "name": "stdout"
        },
        {
          "output_type": "stream",
          "text": [
            "[Parallel(n_jobs=-1)]: Using backend LokyBackend with 2 concurrent workers.\n",
            "[Parallel(n_jobs=-1)]: Done 540 tasks      | elapsed:    3.6s\n",
            "[Parallel(n_jobs=-1)]: Done 2940 tasks      | elapsed:   28.5s\n",
            "[Parallel(n_jobs=-1)]: Done 6940 tasks      | elapsed:  1.1min\n",
            "[Parallel(n_jobs=-1)]: Done 12000 out of 12000 | elapsed:  2.0min finished\n"
          ],
          "name": "stderr"
        },
        {
          "output_type": "execute_result",
          "data": {
            "text/plain": [
              "{'C': 0.05022481203007519, 'class_weight': None, 'penalty': 'l2'}"
            ]
          },
          "metadata": {
            "tags": []
          },
          "execution_count": 221
        }
      ]
    },
    {
      "cell_type": "code",
      "metadata": {
        "id": "eTZuv2_5lU4y",
        "colab_type": "code",
        "colab": {
          "base_uri": "https://localhost:8080/",
          "height": 110
        },
        "outputId": "6ec9805c-08f8-4077-f347-629fc5670495"
      },
      "source": [
        "logit2_d=LogisticRegression(class_weight=None, penalty='l2', C=0.018, random_state=42).fit(x_train_d,y_train)\n",
        "\n",
        "y_traind_logit2 = logit2_d.predict(x_train_d)\n",
        "y_testd_logit2 = logit2_d.predict(x_test_d) \n",
        "\n",
        "y_traind_class2 = np.where(y_traind_logit2>0.5,1,0)\n",
        "y_testd_class2 = np.where(y_testd_logit2>0.5,1,0)\n",
        "\n",
        "\n",
        "results_summary=pd.DataFrame({\"Accuracy\":[accuracy_score(y_train,y_traind_class2)*100,accuracy_score(y_test,y_testd_class2)*100],\n",
        "                              \"ROC_AUC\":[roc_auc_score(y_train,y_traind_logit2)*100,roc_auc_score(y_test,y_testd_logit2)*100],\n",
        "                              \"Recall\":[recall_score(y_train, y_traind_class2)*100,recall_score(y_test, y_testd_class2)*100],\n",
        "                              \"Precision\":[precision_score(y_train, y_traind_class2)*100,precision_score(y_test, y_testd_class2)*100],\n",
        "                              \"f1_score\":[f1_score(y_train, y_traind_class2)*100,f1_score(y_test, y_testd_class2)*100]\n",
        "                              },\n",
        "                             index=[\"Training set\",\"Testing set\"])\n",
        "results_summary"
      ],
      "execution_count": 222,
      "outputs": [
        {
          "output_type": "execute_result",
          "data": {
            "text/html": [
              "<div>\n",
              "<style scoped>\n",
              "    .dataframe tbody tr th:only-of-type {\n",
              "        vertical-align: middle;\n",
              "    }\n",
              "\n",
              "    .dataframe tbody tr th {\n",
              "        vertical-align: top;\n",
              "    }\n",
              "\n",
              "    .dataframe thead th {\n",
              "        text-align: right;\n",
              "    }\n",
              "</style>\n",
              "<table border=\"1\" class=\"dataframe\">\n",
              "  <thead>\n",
              "    <tr style=\"text-align: right;\">\n",
              "      <th></th>\n",
              "      <th>Accuracy</th>\n",
              "      <th>ROC_AUC</th>\n",
              "      <th>Recall</th>\n",
              "      <th>Precision</th>\n",
              "      <th>f1_score</th>\n",
              "    </tr>\n",
              "  </thead>\n",
              "  <tbody>\n",
              "    <tr>\n",
              "      <th>Training set</th>\n",
              "      <td>98.040639</td>\n",
              "      <td>89.503842</td>\n",
              "      <td>79.166667</td>\n",
              "      <td>97.938144</td>\n",
              "      <td>87.557604</td>\n",
              "    </tr>\n",
              "    <tr>\n",
              "      <th>Testing set</th>\n",
              "      <td>98.155340</td>\n",
              "      <td>95.319372</td>\n",
              "      <td>92.000000</td>\n",
              "      <td>84.146341</td>\n",
              "      <td>87.898089</td>\n",
              "    </tr>\n",
              "  </tbody>\n",
              "</table>\n",
              "</div>"
            ],
            "text/plain": [
              "               Accuracy    ROC_AUC     Recall  Precision   f1_score\n",
              "Training set  98.040639  89.503842  79.166667  97.938144  87.557604\n",
              "Testing set   98.155340  95.319372  92.000000  84.146341  87.898089"
            ]
          },
          "metadata": {
            "tags": []
          },
          "execution_count": 222
        }
      ]
    },
    {
      "cell_type": "markdown",
      "metadata": {
        "id": "w244DGgZt-g1",
        "colab_type": "text"
      },
      "source": [
        "##### **Decision Tree before and after GridSearch (with dropped variables)**"
      ]
    },
    {
      "cell_type": "code",
      "metadata": {
        "id": "cFzVPA-SlULH",
        "colab_type": "code",
        "colab": {
          "base_uri": "https://localhost:8080/",
          "height": 121
        },
        "outputId": "14460b5f-c8e4-4e3a-d492-8644470509ad"
      },
      "source": [
        "tree_d= DecisionTreeClassifier(random_state=42).fit(x_train_d,y_train)\n",
        "\n",
        "y_train_dt_probad = tree_d.predict_proba(x_train_d)[:,1]\n",
        "y_test_dt_probad = tree_d.predict_proba(x_test_d)[:,1]\n",
        "\n",
        "y_train_dt_classd = np.where(y_train_dt_probad>0.5,1,0)\n",
        "y_test_dt_classd = np.where(y_test_dt_probad>0.5,1,0)\n",
        "\n",
        "print(\"Train ROC AUC of Decision Tree:\", roc_auc_score(y_train,y_train_dt_probad)*100)\n",
        "print(\"Test ROC AUC of Decision Tree:\", roc_auc_score(y_test, y_test_dt_probad)*100)\n",
        "\n",
        "print(\"Train Recall of Decision Tree:\", recall_score(y_train, y_train_dt_classd)*100)\n",
        "print(\"Test Recall of Decision Tree:\", recall_score(y_test,y_test_dt_classd)*100)\n",
        "\n",
        "print(\"Train Precision of Decision Tree:\", precision_score(y_train, y_train_dt_classd)*100)\n",
        "print(\"Test Precision of Decision Tree:\", precision_score(y_test,y_test_dt_classd)*100)"
      ],
      "execution_count": 223,
      "outputs": [
        {
          "output_type": "stream",
          "text": [
            "Train ROC AUC of Decision Tree: 100.0\n",
            "Test ROC AUC of Decision Tree: 89.8324607329843\n",
            "Train Recall of Decision Tree: 100.0\n",
            "Test Recall of Decision Tree: 96.0\n",
            "Train Precision of Decision Tree: 100.0\n",
            "Test Precision of Decision Tree: 31.57894736842105\n"
          ],
          "name": "stdout"
        }
      ]
    },
    {
      "cell_type": "code",
      "metadata": {
        "id": "NDHOMbyGpFoQ",
        "colab_type": "code",
        "colab": {}
      },
      "source": [
        "param_dt_d={\"max_depth\":range(1,20),\n",
        "          \"min_samples_leaf\":range(10,300,10),\n",
        "          \"class_weight\":[\"balanced\",None]        \n",
        "            }"
      ],
      "execution_count": 0,
      "outputs": []
    },
    {
      "cell_type": "code",
      "metadata": {
        "id": "TVDlzfSFpFkb",
        "colab_type": "code",
        "colab": {
          "base_uri": "https://localhost:8080/",
          "height": 34
        },
        "outputId": "f03f01a7-04d0-40fe-dd5a-e33d04fa6ae0"
      },
      "source": [
        "gs_dt_d=GridSearchCV(estimator=tree_d, param_grid=param_dt_d,\n",
        "                  scoring=\"precision\",cv=5).fit(x_train_d,y_train)\n",
        "\n",
        "gs_dt_d.best_params_"
      ],
      "execution_count": 225,
      "outputs": [
        {
          "output_type": "execute_result",
          "data": {
            "text/plain": [
              "{'class_weight': None, 'max_depth': 1, 'min_samples_leaf': 10}"
            ]
          },
          "metadata": {
            "tags": []
          },
          "execution_count": 225
        }
      ]
    },
    {
      "cell_type": "code",
      "metadata": {
        "id": "pT_1MUknpFfY",
        "colab_type": "code",
        "colab": {
          "base_uri": "https://localhost:8080/",
          "height": 121
        },
        "outputId": "c9acc8f6-8dd7-4a77-d070-bd0f03ec23b9"
      },
      "source": [
        "tree2_d = DecisionTreeClassifier(class_weight=None,max_depth=1, min_samples_leaf=10, random_state=42).fit(x_train_d,y_train)\n",
        "\n",
        "y_train_dt2_probad = tree2_d.predict_proba(x_train_d)[:,1]\n",
        "y_test_dt2_probad = tree2_d.predict_proba(x_test_d)[:,1]\n",
        "\n",
        "y_train_dt2_classd = np.where(y_train_dt2_probad>0.5,1,0)\n",
        "y_test_dt2_classd = np.where(y_test_dt2_probad>0.5,1,0)\n",
        "\n",
        "print(\"Train ROC AUC of Decision Tree #2:\", roc_auc_score(y_train,y_train_dt2_probad)*100)\n",
        "print(\"Test ROC AUC of Decision Tree #2:\", roc_auc_score(y_test, y_test_dt2_probad)*100)\n",
        "\n",
        "print(\"Train Recall of Decision Tree #2:\", recall_score(y_train, y_train_dt2_classd)*100)\n",
        "print(\"Test Recall of Decision Tree #2:\", recall_score(y_test,y_test_dt2_classd)*100)\n",
        "\n",
        "print(\"Train Precision of Decision Tree #2:\", precision_score(y_train, y_train_dt2_classd)*100)\n",
        "print(\"Test Precision of Decision Tree #2:\", precision_score(y_test,y_test_dt2_classd)*100)"
      ],
      "execution_count": 226,
      "outputs": [
        {
          "output_type": "stream",
          "text": [
            "Train ROC AUC of Decision Tree #2: 85.29742978272391\n",
            "Test ROC AUC of Decision Tree #2: 81.16230366492147\n",
            "Train Recall of Decision Tree #2: 70.83333333333334\n",
            "Test Recall of Decision Tree #2: 64.0\n",
            "Train Precision of Decision Tree #2: 96.5909090909091\n",
            "Test Precision of Decision Tree #2: 75.0\n"
          ],
          "name": "stdout"
        }
      ]
    },
    {
      "cell_type": "markdown",
      "metadata": {
        "id": "WhtopEQAu9eM",
        "colab_type": "text"
      },
      "source": [
        "##### **Random Forest after GridSearch(with dropped variables)**"
      ]
    },
    {
      "cell_type": "code",
      "metadata": {
        "id": "n_0XyzhUqnTW",
        "colab_type": "code",
        "colab": {
          "base_uri": "https://localhost:8080/",
          "height": 34
        },
        "outputId": "64dd385d-f4cf-4cb8-be70-8ce9cd62aa9d"
      },
      "source": [
        "gs_rf_d = GridSearchCV(estimator=RandomForestClassifier(random_state=42),\n",
        "                  param_grid=param_dt_d, scoring=\"precision\", cv=3, n_jobs=-1).fit(x_train_d,y_train)\n",
        "\n",
        "gs_rf_d.best_params_"
      ],
      "execution_count": 227,
      "outputs": [
        {
          "output_type": "execute_result",
          "data": {
            "text/plain": [
              "{'class_weight': None, 'max_depth': 1, 'min_samples_leaf': 50}"
            ]
          },
          "metadata": {
            "tags": []
          },
          "execution_count": 227
        }
      ]
    },
    {
      "cell_type": "code",
      "metadata": {
        "id": "LW_D_IFBqnO3",
        "colab_type": "code",
        "colab": {
          "base_uri": "https://localhost:8080/",
          "height": 121
        },
        "outputId": "28d70367-5385-41c1-af85-1cda6666da78"
      },
      "source": [
        "rf_d=RandomForestClassifier(class_weight=None, max_depth=3, min_samples_leaf=50, random_state=42).fit(x_train_d,y_train)\n",
        "\n",
        "y_train_rf_probad = rf_d.predict_proba(x_train_d)[:,1]\n",
        "y_test_rf_probad = rf_d.predict_proba(x_test_d)[:,1]\n",
        "\n",
        "y_train_rf_classd = np.where(y_train_rf_probad>0.5,1,0)\n",
        "y_test_rf_classd = np.where(y_test_rf_probad>0.5,1,0)\n",
        "\n",
        "print(\"Train ROC AUC of Random Forest:\", roc_auc_score(y_train,y_train_rf_probad)*100)\n",
        "print(\"Test ROC AUC of Random Forest:\", roc_auc_score(y_test, y_test_rf_probad)*100)\n",
        "\n",
        "print(\"Train Recall of Random Forest:\", recall_score(y_train, y_train_rf_classd)*100)\n",
        "print(\"Test Recall of Random Forest:\", recall_score(y_test,y_test_rf_classd)*100)\n",
        "\n",
        "print(\"Train Precision of Random Forest:\", precision_score(y_train, y_train_rf_classd)*100)\n",
        "print(\"Test Precision of Random Forest:\", precision_score(y_test,y_test_rf_classd)*100)"
      ],
      "execution_count": 228,
      "outputs": [
        {
          "output_type": "stream",
          "text": [
            "Train ROC AUC of Random Forest: 99.86354001059883\n",
            "Test ROC AUC of Random Forest: 98.43769633507854\n",
            "Train Recall of Random Forest: 78.33333333333333\n",
            "Test Recall of Random Forest: 68.0\n",
            "Train Precision of Random Forest: 98.94736842105263\n",
            "Test Precision of Random Forest: 89.47368421052632\n"
          ],
          "name": "stdout"
        }
      ]
    },
    {
      "cell_type": "code",
      "metadata": {
        "id": "1pJIW36sqnLf",
        "colab_type": "code",
        "colab": {
          "base_uri": "https://localhost:8080/",
          "height": 662
        },
        "outputId": "0e551299-2c03-450e-8fda-2ab9f32210bf"
      },
      "source": [
        "feature_importances_rfd = pd.DataFrame(rf_d.feature_importances_,index = x_train_d.columns,\n",
        "                                    columns=['importance']).sort_values('importance', ascending=False)\n",
        "feature_importances_rfd"
      ],
      "execution_count": 229,
      "outputs": [
        {
          "output_type": "execute_result",
          "data": {
            "text/html": [
              "<div>\n",
              "<style scoped>\n",
              "    .dataframe tbody tr th:only-of-type {\n",
              "        vertical-align: middle;\n",
              "    }\n",
              "\n",
              "    .dataframe tbody tr th {\n",
              "        vertical-align: top;\n",
              "    }\n",
              "\n",
              "    .dataframe thead th {\n",
              "        text-align: right;\n",
              "    }\n",
              "</style>\n",
              "<table border=\"1\" class=\"dataframe\">\n",
              "  <thead>\n",
              "    <tr style=\"text-align: right;\">\n",
              "      <th></th>\n",
              "      <th>importance</th>\n",
              "    </tr>\n",
              "  </thead>\n",
              "  <tbody>\n",
              "    <tr>\n",
              "      <th>x_kstatvar</th>\n",
              "      <td>0.244640</td>\n",
              "    </tr>\n",
              "    <tr>\n",
              "      <th>z_median</th>\n",
              "      <td>0.239313</td>\n",
              "    </tr>\n",
              "    <tr>\n",
              "      <th>s2_kurtosis</th>\n",
              "      <td>0.103958</td>\n",
              "    </tr>\n",
              "    <tr>\n",
              "      <th>x_tvar_div_z_tvar</th>\n",
              "      <td>0.081413</td>\n",
              "    </tr>\n",
              "    <tr>\n",
              "      <th>s2_skew</th>\n",
              "      <td>0.066112</td>\n",
              "    </tr>\n",
              "    <tr>\n",
              "      <th>x_std_div_z_std</th>\n",
              "      <td>0.062932</td>\n",
              "    </tr>\n",
              "    <tr>\n",
              "      <th>y_kstatvar</th>\n",
              "      <td>0.033428</td>\n",
              "    </tr>\n",
              "    <tr>\n",
              "      <th>z_kstatvar</th>\n",
              "      <td>0.029661</td>\n",
              "    </tr>\n",
              "    <tr>\n",
              "      <th>s2_kstatvar</th>\n",
              "      <td>0.029180</td>\n",
              "    </tr>\n",
              "    <tr>\n",
              "      <th>x_peak_prom_stand_diff_y</th>\n",
              "      <td>0.024317</td>\n",
              "    </tr>\n",
              "    <tr>\n",
              "      <th>y_median</th>\n",
              "      <td>0.017592</td>\n",
              "    </tr>\n",
              "    <tr>\n",
              "      <th>s2_tvar</th>\n",
              "      <td>0.016656</td>\n",
              "    </tr>\n",
              "    <tr>\n",
              "      <th>z_skew</th>\n",
              "      <td>0.009474</td>\n",
              "    </tr>\n",
              "    <tr>\n",
              "      <th>y_kurtosis</th>\n",
              "      <td>0.008867</td>\n",
              "    </tr>\n",
              "    <tr>\n",
              "      <th>s2_std</th>\n",
              "      <td>0.008440</td>\n",
              "    </tr>\n",
              "    <tr>\n",
              "      <th>x_kurtosis</th>\n",
              "      <td>0.007831</td>\n",
              "    </tr>\n",
              "    <tr>\n",
              "      <th>x_median</th>\n",
              "      <td>0.006418</td>\n",
              "    </tr>\n",
              "    <tr>\n",
              "      <th>x_skew</th>\n",
              "      <td>0.004038</td>\n",
              "    </tr>\n",
              "    <tr>\n",
              "      <th>x_y_peak_len_20_150_diff_50_110</th>\n",
              "      <td>0.003068</td>\n",
              "    </tr>\n",
              "    <tr>\n",
              "      <th>s2_peak_len_50_110_20_300_diff</th>\n",
              "      <td>0.002662</td>\n",
              "    </tr>\n",
              "  </tbody>\n",
              "</table>\n",
              "</div>"
            ],
            "text/plain": [
              "                                 importance\n",
              "x_kstatvar                         0.244640\n",
              "z_median                           0.239313\n",
              "s2_kurtosis                        0.103958\n",
              "x_tvar_div_z_tvar                  0.081413\n",
              "s2_skew                            0.066112\n",
              "x_std_div_z_std                    0.062932\n",
              "y_kstatvar                         0.033428\n",
              "z_kstatvar                         0.029661\n",
              "s2_kstatvar                        0.029180\n",
              "x_peak_prom_stand_diff_y           0.024317\n",
              "y_median                           0.017592\n",
              "s2_tvar                            0.016656\n",
              "z_skew                             0.009474\n",
              "y_kurtosis                         0.008867\n",
              "s2_std                             0.008440\n",
              "x_kurtosis                         0.007831\n",
              "x_median                           0.006418\n",
              "x_skew                             0.004038\n",
              "x_y_peak_len_20_150_diff_50_110    0.003068\n",
              "s2_peak_len_50_110_20_300_diff     0.002662"
            ]
          },
          "metadata": {
            "tags": []
          },
          "execution_count": 229
        }
      ]
    },
    {
      "cell_type": "code",
      "metadata": {
        "id": "UrX4jz4TuaY1",
        "colab_type": "code",
        "colab": {}
      },
      "source": [
        "x_d = x.drop([ 'x_y_corr', 'y_std_div_z_std',\t's2_median',\t'y_tvar_div_z_tvar',\t'z_y_corr', 'x_prom_div_height',\t'x_variation_peak_height',\t'z_kurtosis',\t's2_peak_width',\t'y_skew',\t\n",
        "                          's2_prom_div_height',\t'z_entropy',\t'y_weight_pred_k',\t'x_z_corr', 'y_z_peak_len_mul_squares',\t'x_peak_len_diff_y', 'x_weight_pred_k',\t's2_weight_pred_k',\t's2_peak_len',\t\n",
        "                          'z_prom_div_height',\t'y_variation_peak_height',\t'y_peak_width',\t's2_variation_peak_height',\t's2_peak_prom_stand_sit_diff','y_prom_div_height',\t'x_peak_width',\t\n",
        "                          'x_peak_len_diff_y_peak_len_50_200',\t'Kg',\t'z_peak_width',\t'z_variation_peak_height',\t'z_weight_pred_k',\t'y_entropy', 'x_entropy',\t's2_entropy'], axis=1)"
      ],
      "execution_count": 0,
      "outputs": []
    },
    {
      "cell_type": "markdown",
      "metadata": {
        "id": "N-iexD2HPEwh",
        "colab_type": "text"
      },
      "source": [
        "### **Comparison between the models with dropped variables (Logistic Regression, Descision Tree & Random Forest)**"
      ]
    },
    {
      "cell_type": "code",
      "metadata": {
        "id": "3MdMWucGqnIu",
        "colab_type": "code",
        "colab": {
          "base_uri": "https://localhost:8080/",
          "height": 173
        },
        "outputId": "8a092c6c-7330-49b2-e697-4e6de2e3ed77"
      },
      "source": [
        "print(\"Mean 10-fold ROC_AUC score for Tuned Logit with dropped variables\",np.mean(cross_val_score(estimator=logit2_d,X=x_d,y=y,cv=StratifiedKFold(n_splits=10,shuffle=True,random_state=42), scoring=\"roc_auc\",n_jobs=-1))*100)\n",
        "print(\"Mean 10-fold ROC_AUC score for Tuned DT with dropped variables\",np.mean(cross_val_score(estimator=tree2_d,X=x_d,y=y,cv=StratifiedKFold(n_splits=10,shuffle=True,random_state=42), scoring=\"roc_auc\",n_jobs=-1))*100)\n",
        "print(\"Mean 10-fold ROC_AUC score for Tuned RF with dropped variables\",np.mean(cross_val_score(estimator=rf_d,X=x_d,y=y,cv=StratifiedKFold(n_splits=10,shuffle=True,random_state=42), scoring=\"roc_auc\", n_jobs=-1))*100)\n",
        "print(\"Mean 10-fold RECALL score for Tuned Logit with dropped variables\",np.mean(cross_val_score(estimator=logit2_d,X=x,y=y,cv=StratifiedKFold(n_splits=10,shuffle=True, random_state=42), scoring=\"recall\",n_jobs=-1))*100)\n",
        "print(\"Mean 19-fold RECALL score for Tuned DT with dropped variables\",np.mean(cross_val_score(estimator=tree2_d,X=x_d,y=y,cv=StratifiedKFold(n_splits=10,shuffle=True,random_state=42), scoring=\"recall\",n_jobs=-1))*100)\n",
        "print(\"Mean 10-fold RECALL score for Tuned RF with dropped variables\",np.mean(cross_val_score(estimator=rf_d,X=x_d,y=y,cv=StratifiedKFold(n_splits=10,shuffle=True,random_state=42), scoring=\"recall\",n_jobs=-1))*100)\n",
        "print(\"Mean 10-fold PRECISION score for Tuned Logit with dropped variables\",np.mean(cross_val_score(estimator=logit2_d,X=x_d,y=y,cv=StratifiedKFold(n_splits=10,shuffle=True,random_state=42), scoring=\"precision\",n_jobs=-1))*100)\n",
        "print(\"Mean 10-fold PRECISION score for Tuned DT with dropped variables\",np.mean(cross_val_score(estimator=tree2_d,X=x_d,y=y,cv=StratifiedKFold(n_splits=10,shuffle=True,random_state=42), scoring=\"precision\",n_jobs=-1))*100)\n",
        "print(\"Mean 10-fold PRECISION score for Tuned RF with dropped variables\",np.mean(cross_val_score(estimator=rf_d,X=x_d,y=y,cv=StratifiedKFold(n_splits=10,shuffle=True,random_state=42), scoring=\"precision\",n_jobs=-1))*100)"
      ],
      "execution_count": 231,
      "outputs": [
        {
          "output_type": "stream",
          "text": [
            "Mean 10-fold ROC_AUC score for Tuned Logit with dropped variables 90.5957124068579\n",
            "Mean 10-fold ROC_AUC score for Tuned DT with dropped variables 83.1496945862271\n",
            "Mean 10-fold ROC_AUC score for Tuned RF with dropped variables 99.4825108509319\n",
            "Mean 10-fold RECALL score for Tuned Logit with dropped variables 29.815789473684205\n",
            "Mean 19-fold RECALL score for Tuned DT with dropped variables 67.15789473684211\n",
            "Mean 10-fold RECALL score for Tuned RF with dropped variables 80.07894736842105\n",
            "Mean 10-fold PRECISION score for Tuned Logit with dropped variables 55.17889508899739\n",
            "Mean 10-fold PRECISION score for Tuned DT with dropped variables 87.12613122171946\n",
            "Mean 10-fold PRECISION score for Tuned RF with dropped variables 98.74509803921569\n"
          ],
          "name": "stdout"
        }
      ]
    },
    {
      "cell_type": "markdown",
      "metadata": {
        "id": "jRcoF2R2g9Gb",
        "colab_type": "text"
      },
      "source": [
        "## **For the winning model**"
      ]
    },
    {
      "cell_type": "code",
      "metadata": {
        "id": "RH9J1o_ipiC_",
        "colab_type": "code",
        "outputId": "cf2b32a5-4b92-49b3-bd41-f8a49b9fa3ba",
        "colab": {
          "base_uri": "https://localhost:8080/",
          "height": 278
        }
      },
      "source": [
        "# ROC curve\n",
        "fpr_1,tpr_1,thresholds_1=roc_curve(y_test,rf_d.predict_proba(x_test_d)[:,1])\n",
        "plt.plot(fpr_1,tpr_1,label=\"ROC AUC=%f\"%roc_auc_score(y_test,rf_d.predict(x_test_d)))\n",
        "plt.plot([0,1],[0,1])\n",
        "plt.legend(loc=\"lower right\")\n",
        "plt.xlabel(\"FPR\")\n",
        "plt.ylabel(\"TPR\")\n",
        "plt.show()"
      ],
      "execution_count": 232,
      "outputs": [
        {
          "output_type": "display_data",
          "data": {
            "image/png": "[encoded data removed]",
            "text/plain": [
              "<Figure size 432x288 with 1 Axes>"
            ]
          },
          "metadata": {
            "tags": [],
            "needs_background": "light"
          }
        }
      ]
    },
    {
      "cell_type": "code",
      "metadata": {
        "id": "0MCBN8ttrbM6",
        "colab_type": "code",
        "outputId": "2983336e-b2da-4969-fcb2-43568fe2b852",
        "colab": {
          "base_uri": "https://localhost:8080/",
          "height": 312
        }
      },
      "source": [
        "# Gain curve\n",
        "skplt.metrics.plot_cumulative_gain(y_test,rf_d.predict_proba(x_test_d))"
      ],
      "execution_count": 233,
      "outputs": [
        {
          "output_type": "execute_result",
          "data": {
            "text/plain": [
              "<matplotlib.axes._subplots.AxesSubplot at 0x7fee7bb6d400>"
            ]
          },
          "metadata": {
            "tags": []
          },
          "execution_count": 233
        },
        {
          "output_type": "display_data",
          "data": {
            "image/png": "[encoded data removed]",
            "text/plain": [
              "<Figure size 432x288 with 1 Axes>"
            ]
          },
          "metadata": {
            "tags": [],
            "needs_background": "light"
          }
        }
      ]
    },
    {
      "cell_type": "code",
      "metadata": {
        "id": "Mg-oiXdprK-C",
        "colab_type": "code",
        "outputId": "222ff778-7243-4ba9-d2f2-946feb7a7395",
        "colab": {
          "base_uri": "https://localhost:8080/",
          "height": 312
        }
      },
      "source": [
        "# Lift curve\n",
        "skplt.metrics.plot_lift_curve(y_test,rf_d.predict_proba(x_test_d))"
      ],
      "execution_count": 234,
      "outputs": [
        {
          "output_type": "execute_result",
          "data": {
            "text/plain": [
              "<matplotlib.axes._subplots.AxesSubplot at 0x7fee80489f98>"
            ]
          },
          "metadata": {
            "tags": []
          },
          "execution_count": 234
        },
        {
          "output_type": "display_data",
          "data": {
            "image/png": "[encoded data removed]",
            "text/plain": [
              "<Figure size 432x288 with 1 Axes>"
            ]
          },
          "metadata": {
            "tags": [],
            "needs_background": "light"
          }
        }
      ]
    },
    {
      "cell_type": "markdown",
      "metadata": {
        "id": "lVcjQPF3EO6W",
        "colab_type": "text"
      },
      "source": [
        "# **7. Other Models with Dropped Variables**"
      ]
    },
    {
      "cell_type": "markdown",
      "metadata": {
        "id": "kcSZu6gzFaCd",
        "colab_type": "text"
      },
      "source": [
        "### **SVM**"
      ]
    },
    {
      "cell_type": "code",
      "metadata": {
        "id": "MfgR6CZRFZWw",
        "colab_type": "code",
        "outputId": "56fb223f-664a-49b6-9f6b-1bbfdca169bd",
        "colab": {
          "base_uri": "https://localhost:8080/",
          "height": 468
        }
      },
      "source": [
        "# As we can see, without hyper parameter tuning, SVM works equal or even better the best model achieved with Random Forest\n",
        "\n",
        "from sklearn import svm        # The packages are already installed in the beginning, for me it worked only if I run the code and packages installation simultaneously\n",
        "from sklearn.svm import SVC\n",
        "\n",
        "svm = svm.SVC(random_state=42).fit(x_train_d, y_train)\n",
        "\n",
        "svc_pred_traind = svm.predict(x_train_d)\n",
        "svc_pred_testd = svm.predict(x_test_d)\n",
        "\n",
        "print(\"Train Accuracy of SVM:\",accuracy_score(svc_pred_traind, y_train))\n",
        "print(\"Test Accuracy of SVM:\",accuracy_score(svc_pred_testd, y_test))\n",
        "\n",
        "print(\"Train ROC AUC of SVM:\", roc_auc_score(y_train,svc_pred_traind)*100)\n",
        "print(\"Test ROC AUC of SVM:\", roc_auc_score(y_test, svc_pred_testd)*100)\n",
        "\n",
        "print(\"Train Recall of SVM:\", recall_score(y_train, svc_pred_traind)*100)\n",
        "print(\"Test Recall of SVM:\", recall_score(y_test,svc_pred_testd)*100)\n",
        "\n",
        "print(\"Train Precision of SVM:\", precision_score(y_train, svc_pred_traind)*100)\n",
        "print(\"Test Precision of SVM:\", precision_score(y_test,svc_pred_testd)*100)\n",
        "\n",
        "print(\"Train:\", classification_report(svc_pred_traind, y_train))\n",
        "print(\"Test:\", classification_report(svc_pred_testd, y_test))"
      ],
      "execution_count": 235,
      "outputs": [
        {
          "output_type": "stream",
          "text": [
            "Train Accuracy of SVM: 0.9970972423802612\n",
            "Test Accuracy of SVM: 0.987378640776699\n",
            "Train ROC AUC of SVM: 98.33333333333334\n",
            "Test ROC AUC of SVM: 98.09075043630018\n",
            "Train Recall of SVM: 96.66666666666667\n",
            "Test Recall of SVM: 97.33333333333334\n",
            "Train Precision of SVM: 100.0\n",
            "Test Precision of SVM: 86.90476190476191\n",
            "Train:               precision    recall  f1-score   support\n",
            "\n",
            "           0       1.00      1.00      1.00      1262\n",
            "           1       0.97      1.00      0.98       116\n",
            "\n",
            "    accuracy                           1.00      1378\n",
            "   macro avg       0.98      1.00      0.99      1378\n",
            "weighted avg       1.00      1.00      1.00      1378\n",
            "\n",
            "Test:               precision    recall  f1-score   support\n",
            "\n",
            "           0       0.99      1.00      0.99       946\n",
            "           1       0.97      0.87      0.92        84\n",
            "\n",
            "    accuracy                           0.99      1030\n",
            "   macro avg       0.98      0.93      0.96      1030\n",
            "weighted avg       0.99      0.99      0.99      1030\n",
            "\n"
          ],
          "name": "stdout"
        }
      ]
    },
    {
      "cell_type": "code",
      "metadata": {
        "id": "xIAGaqSNsLbC",
        "colab_type": "code",
        "outputId": "3bff0406-9ca2-48db-bf8a-382596c9d4c7",
        "colab": {
          "base_uri": "https://localhost:8080/",
          "height": 86
        }
      },
      "source": [
        "svm_grid_params = [{'kernel': ['rbf'], 'gamma': [1e-3, 1e-4],\n",
        "                     'C': [1, 10, 100, 1000]},\n",
        "                    {'kernel': ['linear'], 'C': [1, 10, 100, 1000]}]\n",
        "\n",
        "gs_svm = GridSearchCV(estimator=svm,\n",
        "                  param_grid=svm_grid_params, scoring=\"precision\", cv=3, n_jobs=-1, verbose=1).fit(x_train,y_train)\n",
        "\n",
        "gs_svm.best_params_"
      ],
      "execution_count": 236,
      "outputs": [
        {
          "output_type": "stream",
          "text": [
            "Fitting 3 folds for each of 12 candidates, totalling 36 fits\n"
          ],
          "name": "stdout"
        },
        {
          "output_type": "stream",
          "text": [
            "[Parallel(n_jobs=-1)]: Using backend LokyBackend with 2 concurrent workers.\n",
            "[Parallel(n_jobs=-1)]: Done  36 out of  36 | elapsed:    0.7s finished\n"
          ],
          "name": "stderr"
        },
        {
          "output_type": "execute_result",
          "data": {
            "text/plain": [
              "{'C': 10, 'gamma': 0.001, 'kernel': 'rbf'}"
            ]
          },
          "metadata": {
            "tags": []
          },
          "execution_count": 236
        }
      ]
    },
    {
      "cell_type": "code",
      "metadata": {
        "id": "qLB1VJG-svjr",
        "colab_type": "code",
        "outputId": "73f2f166-fd45-4b34-fc34-bf660ff682c8",
        "colab": {
          "base_uri": "https://localhost:8080/",
          "height": 468
        }
      },
      "source": [
        "# After GridSearch, with the suggested parameters and some manual tuning, we have achieved much better results for recall and precision\n",
        "from sklearn import svm\n",
        "from sklearn.svm import SVC\n",
        "\n",
        "svm2_d = svm.SVC(C=10, gamma=0.001, kernel=\"rbf\", random_state=42).fit(x_train_d, y_train)\n",
        "\n",
        "svc2_pred_traind = svm2_d.predict(x_train_d)\n",
        "svc2_pred_testd = svm2_d.predict(x_test_d)\n",
        "\n",
        "print(\"Train Accuracy of SVM #2:\",accuracy_score(svc2_pred_traind, y_train))\n",
        "print(\"Test Accuracy of SVM #2:\",accuracy_score(svc2_pred_testd, y_test))\n",
        "\n",
        "print(\"Train ROC AUC of SVM #2:\", roc_auc_score(y_train,svc2_pred_traind)*100)\n",
        "print(\"Test ROC AUC of SVM #2:\", roc_auc_score(y_test, svc2_pred_testd)*100)\n",
        "\n",
        "print(\"Train Recall of SVM #2:\", recall_score(y_train, svc2_pred_traind)*100)\n",
        "print(\"Test Recall of SVM #2:\", recall_score(y_test,svc2_pred_testd)*100)\n",
        "\n",
        "print(\"Train Precision of SVM #2:\", precision_score(y_train, svc2_pred_traind)*100)\n",
        "print(\"Test Precision of SVM #2:\", precision_score(y_test,svc2_pred_testd)*100)\n",
        "\n",
        "print(\"Train:\", classification_report(svc2_pred_traind, y_train))\n",
        "print(\"Test:\", classification_report(svc2_pred_testd, y_test))"
      ],
      "execution_count": 252,
      "outputs": [
        {
          "output_type": "stream",
          "text": [
            "Train Accuracy of SVM #2: 0.9963715529753265\n",
            "Test Accuracy of SVM #2: 0.9699029126213592\n",
            "Train ROC AUC of SVM #2: 98.29358770535241\n",
            "Test ROC AUC of SVM #2: 97.14834205933683\n",
            "Train Recall of SVM #2: 96.66666666666667\n",
            "Test Recall of SVM #2: 97.33333333333334\n",
            "Train Precision of SVM #2: 99.14529914529915\n",
            "Test Precision of SVM #2: 71.56862745098039\n",
            "Train:               precision    recall  f1-score   support\n",
            "\n",
            "           0       1.00      1.00      1.00      1261\n",
            "           1       0.97      0.99      0.98       117\n",
            "\n",
            "    accuracy                           1.00      1378\n",
            "   macro avg       0.98      0.99      0.99      1378\n",
            "weighted avg       1.00      1.00      1.00      1378\n",
            "\n",
            "Test:               precision    recall  f1-score   support\n",
            "\n",
            "           0       0.97      1.00      0.98       928\n",
            "           1       0.97      0.72      0.82       102\n",
            "\n",
            "    accuracy                           0.97      1030\n",
            "   macro avg       0.97      0.86      0.90      1030\n",
            "weighted avg       0.97      0.97      0.97      1030\n",
            "\n"
          ],
          "name": "stdout"
        }
      ]
    },
    {
      "cell_type": "markdown",
      "metadata": {
        "id": "F36HdKO7F5c7",
        "colab_type": "text"
      },
      "source": [
        "### **KNN**"
      ]
    },
    {
      "cell_type": "code",
      "metadata": {
        "id": "8eGUSkSLF80j",
        "colab_type": "code",
        "outputId": "c76caa81-6153-4605-ed07-9a3b3769ddae",
        "colab": {
          "base_uri": "https://localhost:8080/",
          "height": 468
        }
      },
      "source": [
        "knn_d = KNeighborsClassifier(n_neighbors=5).fit(x_train_d,y_train)\n",
        "\n",
        "knn_pred_traind = knn_d.predict(x_train_d)\n",
        "knn_pred_testd = knn_d.predict(x_test_d)\n",
        "\n",
        "print(\"Train Accuracy of KNN:\", accuracy_score(knn_pred_traind, y_train))\n",
        "print(\"Test Accuracy of KNN:\",accuracy_score(knn_pred_testd, y_test))\n",
        "\n",
        "print(\"Train ROC AUC of KNN:\", roc_auc_score(y_train,knn_pred_traind)*100)\n",
        "print(\"Test ROC AUC of KNN:\", roc_auc_score(y_test, knn_pred_testd)*100)\n",
        "\n",
        "print(\"Train Recall of KNN:\", recall_score(y_train, knn_pred_traind)*100)\n",
        "print(\"Test Recall of KNN:\", recall_score(y_test,knn_pred_testd)*100)\n",
        "\n",
        "print(\"Train Precision of KNN:\", precision_score(y_train, knn_pred_traind)*100)\n",
        "print(\"Test Precision of KNN:\", precision_score(y_test,knn_pred_testd)*100)\n",
        "\n",
        "print(\"Train:\", classification_report(knn_pred_traind, y_train))\n",
        "print(\"Test:\", classification_report(knn_pred_testd, y_test))"
      ],
      "execution_count": 247,
      "outputs": [
        {
          "output_type": "stream",
          "text": [
            "Train Accuracy of KNN: 0.997822931785196\n",
            "Test Accuracy of KNN: 0.9922330097087378\n",
            "Train ROC AUC of KNN: 98.75\n",
            "Test ROC AUC of KNN: 95.89528795811518\n",
            "Train Recall of KNN: 97.5\n",
            "Test Recall of KNN: 92.0\n",
            "Train Precision of KNN: 100.0\n",
            "Test Precision of KNN: 97.1830985915493\n",
            "Train:               precision    recall  f1-score   support\n",
            "\n",
            "           0       1.00      1.00      1.00      1261\n",
            "           1       0.97      1.00      0.99       117\n",
            "\n",
            "    accuracy                           1.00      1378\n",
            "   macro avg       0.99      1.00      0.99      1378\n",
            "weighted avg       1.00      1.00      1.00      1378\n",
            "\n",
            "Test:               precision    recall  f1-score   support\n",
            "\n",
            "           0       1.00      0.99      1.00       959\n",
            "           1       0.92      0.97      0.95        71\n",
            "\n",
            "    accuracy                           0.99      1030\n",
            "   macro avg       0.96      0.98      0.97      1030\n",
            "weighted avg       0.99      0.99      0.99      1030\n",
            "\n"
          ],
          "name": "stdout"
        }
      ]
    },
    {
      "cell_type": "code",
      "metadata": {
        "id": "dJTP3gE_pHer",
        "colab_type": "code",
        "outputId": "ee83668a-95f7-4b9e-944e-177b7cdbfef8",
        "colab": {
          "base_uri": "https://localhost:8080/",
          "height": 104
        }
      },
      "source": [
        "knn_grid_params = {\"n_neighbors\":range(1,20),\n",
        "          \"weights\":[\"uniform\",\"distance\"],\n",
        "          \"metric\":[\"euclidean\",\"manhattan\"]        \n",
        "            }\n",
        "gs_knn = GridSearchCV(estimator=KNeighborsClassifier(),\n",
        "                  param_grid=knn_grid_params, scoring=\"precision\", cv=3, n_jobs=-1, verbose=1).fit(x_train_d,y_train)\n",
        "\n",
        "gs_knn.best_params_"
      ],
      "execution_count": 248,
      "outputs": [
        {
          "output_type": "stream",
          "text": [
            "Fitting 3 folds for each of 76 candidates, totalling 228 fits\n"
          ],
          "name": "stdout"
        },
        {
          "output_type": "stream",
          "text": [
            "[Parallel(n_jobs=-1)]: Using backend LokyBackend with 2 concurrent workers.\n",
            "[Parallel(n_jobs=-1)]: Done 164 tasks      | elapsed:    3.5s\n",
            "[Parallel(n_jobs=-1)]: Done 228 out of 228 | elapsed:    5.0s finished\n"
          ],
          "name": "stderr"
        },
        {
          "output_type": "execute_result",
          "data": {
            "text/plain": [
              "{'metric': 'euclidean', 'n_neighbors': 2, 'weights': 'uniform'}"
            ]
          },
          "metadata": {
            "tags": []
          },
          "execution_count": 248
        }
      ]
    },
    {
      "cell_type": "code",
      "metadata": {
        "id": "XbLgNBMIpP6t",
        "colab_type": "code",
        "outputId": "ab316dd6-bca7-4eb1-9aca-aff83e44d21a",
        "colab": {
          "base_uri": "https://localhost:8080/",
          "height": 468
        }
      },
      "source": [
        "knn2_d = KNeighborsClassifier(metric=\"euclidean\", n_neighbors=1, weights=\"uniform\").fit(x_train_d,y_train)\n",
        "\n",
        "knn2_pred_traind = knn2_d.predict(x_train_d)\n",
        "knn2_pred_testd = knn2_d.predict(x_test_d)\n",
        "\n",
        "print(\"Train Accuracy of KNN#2:\", accuracy_score(knn2_pred_traind, y_train))\n",
        "print(\"Test Accuracy of KNN#2:\",accuracy_score(knn2_pred_testd, y_test))\n",
        "\n",
        "print(\"Train ROC AUC of KNN#2:\", roc_auc_score(y_train,knn2_pred_traind)*100)\n",
        "print(\"Test ROC AUC of KNN#2:\", roc_auc_score(y_test, knn2_pred_testd)*100)\n",
        "\n",
        "print(\"Train Recall of KNN#2:\", recall_score(y_train, knn2_pred_traind)*100)\n",
        "print(\"Test Recall of KNN#2:\", recall_score(y_test,knn2_pred_testd)*100)\n",
        "\n",
        "print(\"Train Precision of KNN#2:\", precision_score(y_train, knn2_pred_traind)*100)\n",
        "print(\"Test Precision of KNN#2:\", precision_score(y_test,knn2_pred_testd)*100)\n",
        "\n",
        "print(\"Train:\", classification_report(knn2_pred_traind, y_train))\n",
        "print(\"Test:\", classification_report(knn2_pred_testd, y_test))"
      ],
      "execution_count": 249,
      "outputs": [
        {
          "output_type": "stream",
          "text": [
            "Train Accuracy of KNN#2: 1.0\n",
            "Test Accuracy of KNN#2: 0.9864077669902913\n",
            "Train ROC AUC of KNN#2: 100.0\n",
            "Test ROC AUC of KNN#2: 95.58115183246073\n",
            "Train Recall of KNN#2: 100.0\n",
            "Test Recall of KNN#2: 92.0\n",
            "Train Precision of KNN#2: 100.0\n",
            "Test Precision of KNN#2: 89.6103896103896\n",
            "Train:               precision    recall  f1-score   support\n",
            "\n",
            "           0       1.00      1.00      1.00      1258\n",
            "           1       1.00      1.00      1.00       120\n",
            "\n",
            "    accuracy                           1.00      1378\n",
            "   macro avg       1.00      1.00      1.00      1378\n",
            "weighted avg       1.00      1.00      1.00      1378\n",
            "\n",
            "Test:               precision    recall  f1-score   support\n",
            "\n",
            "           0       0.99      0.99      0.99       953\n",
            "           1       0.92      0.90      0.91        77\n",
            "\n",
            "    accuracy                           0.99      1030\n",
            "   macro avg       0.96      0.94      0.95      1030\n",
            "weighted avg       0.99      0.99      0.99      1030\n",
            "\n"
          ],
          "name": "stdout"
        }
      ]
    }
  ]
}