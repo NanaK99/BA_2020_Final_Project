{
  "nbformat": 4,
  "nbformat_minor": 0,
  "metadata": {
    "colab": {
      "name": "FINAL_multi_HAD",
      "provenance": []
    },
    "kernelspec": {
      "name": "python3",
      "display_name": "Python 3"
    }
  },
  "cells": [
    {
      "cell_type": "markdown",
      "metadata": {
        "id": "aRJZGTmgck0X",
        "colab_type": "text"
      },
      "source": [
        "# **Importing Packages**"
      ]
    },
    {
      "cell_type": "code",
      "metadata": {
        "id": "RZYaI-ydZMWm",
        "colab_type": "code",
        "outputId": "712200a9-6725-40de-d2fa-cb3a8216d758",
        "colab": {
          "base_uri": "https://localhost:8080/",
          "height": 208
        }
      },
      "source": [
        "def warn(*args, **kwargs):\n",
        "    pass\n",
        "import warnings\n",
        "warnings.warn = warn\n",
        "!pip install scikit-plot\n",
        "import scikitplot as skplt\n",
        "\n",
        "import random\n",
        "import numpy as np\n",
        "import pandas as pd\n",
        "import matplotlib.pyplot as plt\n",
        "import seaborn as sns\n",
        "\n",
        "from sklearn.linear_model import LogisticRegression\n",
        "from statsmodels.discrete.discrete_model import Logit\n",
        "import statsmodels.api as sm\n",
        "from sklearn.model_selection import train_test_split, GridSearchCV,cross_val_score, StratifiedKFold\n",
        "from sklearn.metrics import accuracy_score,recall_score,confusion_matrix,classification_report,roc_auc_score,roc_curve, precision_score, f1_score\n",
        "import sklearn as sk\n",
        "from sklearn.neural_network import MLPClassifier\n",
        "from sklearn import svm\n",
        "from sklearn.svm import SVC\n",
        "from sklearn.neighbors import KNeighborsClassifier\n",
        "\n",
        "from sklearn.ensemble import RandomForestClassifier\n",
        "from sklearn.tree import DecisionTreeClassifier\n",
        "from sklearn.externals.six import StringIO\n",
        "from IPython.display import Image\n",
        "from sklearn.tree import export_graphviz\n",
        "import pydotplus\n",
        "\n",
        "\n",
        "from sklearn.preprocessing import StandardScaler\n",
        "from sklearn.preprocessing import RobustScaler\n",
        "\n",
        "from decimal import Decimal\n",
        "\n",
        "from google.colab import files"
      ],
      "execution_count": 101,
      "outputs": [
        {
          "output_type": "stream",
          "text": [
            "Requirement already satisfied: scikit-plot in /usr/local/lib/python3.6/dist-packages (0.3.7)\n",
            "Requirement already satisfied: scikit-learn>=0.18 in /usr/local/lib/python3.6/dist-packages (from scikit-plot) (0.22.2.post1)\n",
            "Requirement already satisfied: joblib>=0.10 in /usr/local/lib/python3.6/dist-packages (from scikit-plot) (0.14.1)\n",
            "Requirement already satisfied: matplotlib>=1.4.0 in /usr/local/lib/python3.6/dist-packages (from scikit-plot) (3.2.1)\n",
            "Requirement already satisfied: scipy>=0.9 in /usr/local/lib/python3.6/dist-packages (from scikit-plot) (1.4.1)\n",
            "Requirement already satisfied: numpy>=1.11.0 in /usr/local/lib/python3.6/dist-packages (from scikit-learn>=0.18->scikit-plot) (1.18.4)\n",
            "Requirement already satisfied: pyparsing!=2.0.4,!=2.1.2,!=2.1.6,>=2.0.1 in /usr/local/lib/python3.6/dist-packages (from matplotlib>=1.4.0->scikit-plot) (2.4.7)\n",
            "Requirement already satisfied: cycler>=0.10 in /usr/local/lib/python3.6/dist-packages (from matplotlib>=1.4.0->scikit-plot) (0.10.0)\n",
            "Requirement already satisfied: python-dateutil>=2.1 in /usr/local/lib/python3.6/dist-packages (from matplotlib>=1.4.0->scikit-plot) (2.8.1)\n",
            "Requirement already satisfied: kiwisolver>=1.0.1 in /usr/local/lib/python3.6/dist-packages (from matplotlib>=1.4.0->scikit-plot) (1.2.0)\n",
            "Requirement already satisfied: six in /usr/local/lib/python3.6/dist-packages (from cycler>=0.10->matplotlib>=1.4.0->scikit-plot) (1.12.0)\n"
          ],
          "name": "stdout"
        }
      ]
    },
    {
      "cell_type": "markdown",
      "metadata": {
        "id": "Wrt1Qx6_cp0f",
        "colab_type": "text"
      },
      "source": [
        "# **Data Preprocessing & Feature Engineering**"
      ]
    },
    {
      "cell_type": "code",
      "metadata": {
        "id": "OWXu4jx-akXK",
        "colab_type": "code",
        "outputId": "ea7128f4-fa57-43c8-acc5-11656326673b",
        "colab": {
          "base_uri": "https://localhost:8080/",
          "height": 34
        }
      },
      "source": [
        "from google.colab import drive\n",
        "drive.mount('/content/drive')"
      ],
      "execution_count": 102,
      "outputs": [
        {
          "output_type": "stream",
          "text": [
            "Drive already mounted at /content/drive; to attempt to forcibly remount, call drive.mount(\"/content/drive\", force_remount=True).\n"
          ],
          "name": "stdout"
        }
      ]
    },
    {
      "cell_type": "code",
      "metadata": {
        "id": "BDB6H90Zakba",
        "colab_type": "code",
        "colab": {}
      },
      "source": [
        "data = pd.read_csv('/content/drive/My Drive/data_modeling_10s_MIX.csv')"
      ],
      "execution_count": 0,
      "outputs": []
    },
    {
      "cell_type": "code",
      "metadata": {
        "id": "P7dOiFa7akf8",
        "colab_type": "code",
        "colab": {}
      },
      "source": [
        "data = data.drop([\"Unnamed: 0\",\"id\"], axis=1)\n",
        "\n",
        "# removing the columns containing information on s1 and s3 sensors \n",
        "data = data[data.columns.drop(list(data.filter(regex ='s3')))]  \n",
        "data = data[data.columns.drop(list(data.filter(regex ='s1')))]"
      ],
      "execution_count": 0,
      "outputs": []
    },
    {
      "cell_type": "code",
      "metadata": {
        "id": "X8XgY2IobGZe",
        "colab_type": "code",
        "outputId": "b4d683bb-8bed-4f67-bb2a-1424dd06850e",
        "colab": {
          "base_uri": "https://localhost:8080/",
          "height": 208
        }
      },
      "source": [
        "# Here we need to combine the two columns\n",
        "data[\"Target\"].replace({\"Mixed_walking_with_little_pauses\": \"Mixed walking\"}, inplace=True)\n",
        "data[\"Target\"].replace({\"Mixed_walking_includes_stairs_up\": \"Mixed walking\"}, inplace=True)\n",
        "data[\"Target\"].value_counts()"
      ],
      "execution_count": 105,
      "outputs": [
        {
          "output_type": "execute_result",
          "data": {
            "text/plain": [
              "Mixed walking    663\n",
              "Walking          629\n",
              "Sitting          257\n",
              "Standing         231\n",
              "Jogging          195\n",
              "Climbing down    132\n",
              "Climbing up      120\n",
              "Stairs up        105\n",
              "Stairs down       64\n",
              "No activity       12\n",
              "Name: Target, dtype: int64"
            ]
          },
          "metadata": {
            "tags": []
          },
          "execution_count": 105
        }
      ]
    },
    {
      "cell_type": "code",
      "metadata": {
        "id": "GUWUq_yka7Nx",
        "colab_type": "code",
        "outputId": "eaf12c08-a5cf-4563-e17c-3ebe2b978a89",
        "colab": {
          "base_uri": "https://localhost:8080/",
          "height": 69
        }
      },
      "source": [
        "data[\"Kg\"] = np.where(data[\"Kg\"] <=75, 0, 1)\n",
        "data[\"Kg\"].value_counts()"
      ],
      "execution_count": 106,
      "outputs": [
        {
          "output_type": "execute_result",
          "data": {
            "text/plain": [
              "0    1938\n",
              "1     470\n",
              "Name: Kg, dtype: int64"
            ]
          },
          "metadata": {
            "tags": []
          },
          "execution_count": 106
        }
      ]
    },
    {
      "cell_type": "code",
      "metadata": {
        "id": "v75pkrdjakja",
        "colab_type": "code",
        "colab": {}
      },
      "source": [
        "data[\"x_std_div_z_std\"] = data[\"x_std\"] / data[\"z_std\"]\n",
        "data[\"y_std_div_z_std\"] = data[\"y_std\"] / data[\"z_std\"]\n",
        "\n",
        "data[\"x_tvar_div_z_tvar\"] = data[\"x_tvar\"] / data[\"z_tvar\"]\n",
        "data[\"y_tvar_div_z_tvar\"] = data[\"y_tvar\"] / data[\"z_tvar\"]\n",
        " \n",
        "data[\"s2_peak_len_50_110_20_300_diff\"] = abs(data[\"s2_peak_len_20_300\"] - data[\"s2_peak_len_50_110\"])\n",
        "data[\"x_peak_prom_stand_diff_y\"] = abs(data[\"x_peak_prom_stand\"] - data[\"y_peak_prom_stand\"])\n",
        "data[\"x_peak_prom_sit_diff_y\"] = abs(data[\"x_peak_prom_sit\"] - data[\"y_peak_prom_sit\"])\n",
        "data[\"x_peak_len_diff_y\"] = abs(data[\"x_peak_len\"] - data[\"y_peak_len\"])\n",
        "data[\"s2_peak_prom_stand_sit_diff\"] = abs(data[\"s2_peak_prom_stand\"] - data[\"s2_peak_prom_sit\"])\n",
        "data[\"x_peak_len_diff_y_peak_len_50_200\"] = abs(data[\"x_peak_len_50_200\"] - data[\"y_peak_len_50_200\"]) \n",
        "data[\"x_y_peak_len_20_150_diff_50_110\"] = abs(data[\"x_peak_len_20_150\"] - data[\"y_peak_len_50_110\"])\n",
        "data[\"s2_peak_len_50_110_20_300_diff\"] = abs(data[\"s2_peak_len_20_300\"] - data[\"s2_peak_len_50_110\"])\n",
        "\n",
        "data[\"z_peak_len_sq\"] = np.square(data[\"z_peak_len\"])\n",
        "data[\"y_peak_len_sq\"] = np.square(data[\"y_peak_len\"])\n",
        "data[\"y_z_peak_len_mul_squares\"] = data[\"z_peak_len_sq\"] * data [\"y_peak_len_sq\"]\n",
        "\n",
        "data[\"s2_prom_div_height\"] = (data[\"s2_peak_prom\"] / data[\"s2_peak_height\"]).fillna(0)\n",
        "data[\"s2_prom_div_height\"] = data[\"s2_prom_div_height\"].replace([np.inf, -np.inf], 0)\n",
        "data[\"x_prom_div_height\"] = (data[\"x_peak_prom\"] / data[\"x_peak_height\"]).fillna(0)\n",
        "data[\"x_prom_div_height\"] = data[\"x_prom_div_height\"].replace([np.inf, -np.inf], 0)\n",
        "data[\"y_prom_div_height\"] = (data[\"y_peak_prom\"] / data[\"y_peak_height\"]).fillna(0)\n",
        "data[\"y_prom_div_height\"] = data[\"y_prom_div_height\"].replace([np.inf, -np.inf], 0)\n",
        "data[\"z_prom_div_height\"] = (data[\"z_peak_prom\"] / data[\"z_peak_height\"]).fillna(0)\n",
        "data[\"z_prom_div_height\"] = data[\"z_prom_div_height\"].replace([np.inf, -np.inf], 0)\n",
        "\n",
        "\n",
        "data[\"s2_entropy\"] = np.where(data[\"s2_entropy\"]==0, 0, 1)\n",
        "data[\"x_entropy\"] = np.where(data[\"x_entropy\"]==0, 0, 1)\n",
        "data[\"y_entropy\"] = np.where(data[\"y_entropy\"]==0, 0, 1)\n",
        "data[\"z_entropy\"] = np.where(data[\"z_entropy\"]==0, 0, 1)\n",
        "\n",
        "\n",
        "data[\"s2_kstatvar\"] = np.sqrt(data[\"s2_kstatvar\"])\n",
        "data[\"x_kstatvar\"] = np.sqrt(data[\"x_kstatvar\"])\n",
        "data[\"y_kstatvar\"] = np.sqrt(data[\"y_kstatvar\"])\n",
        "data[\"z_kstatvar\"] = np.sqrt(data[\"z_kstatvar\"]) \n",
        "\n",
        "data[\"s2_peak_height_std\"] = np.nanstd(np.where(np.isclose(data[\"s2_peak_height\"],0), np.nan, data[\"s2_peak_height\"]))\n",
        "data[\"s2_variation_peak_height\"] = (data[\"s2_peak_height_std\"] / data[\"s2_peak_height\"]).fillna(0)\n",
        "data[\"s2_variation_peak_height\"] = data[\"s2_variation_peak_height\"].replace([np.inf, -np.inf], 0)\n",
        "data[\"x_peak_height_std\"] = np.nanstd(np.where(np.isclose(data[\"x_peak_height\"],0), np.nan, data[\"x_peak_height\"]))\n",
        "data[\"x_variation_peak_height\"] = (data[\"x_peak_height_std\"] / data[\"x_peak_height\"]).fillna(0)\n",
        "data[\"x_variation_peak_height\"] = data[\"x_variation_peak_height\"].replace([np.inf, -np.inf], 0)\n",
        "data[\"y_peak_height_std\"] = np.nanstd(np.where(np.isclose(data[\"y_peak_height\"],0), np.nan, data[\"y_peak_height\"]))\n",
        "data[\"y_variation_peak_height\"] = (data[\"y_peak_height_std\"] / data[\"y_peak_height\"]).fillna(0)\n",
        "data[\"y_variation_peak_height\"] = data[\"y_variation_peak_height\"].replace([np.inf, -np.inf], 0)\n",
        "data[\"z_peak_height_std\"] = np.nanstd(np.where(np.isclose(data[\"z_peak_height\"],0), np.nan, data[\"z_peak_height\"]))\n",
        "data[\"z_variation_peak_height\"] = (data[\"z_peak_height_std\"] / data[\"z_peak_height\"]).fillna(0)\n",
        "data[\"z_variation_peak_height\"] = data[\"z_variation_peak_height\"].replace([np.inf, -np.inf], 0)"
      ],
      "execution_count": 0,
      "outputs": []
    },
    {
      "cell_type": "code",
      "metadata": {
        "id": "GQfCa9CzakmB",
        "colab_type": "code",
        "colab": {}
      },
      "source": [
        "data = data.drop([\"s2_max\",\"x_max\", \"y_max\", \"z_max\", \"s2_min\", \"x_min\", \"y_min\", \"z_min\", \"y_mean\",\"z_mean\", \"x_mean\", \"s2_mean\", \"y_moment\",\"z_moment\", \"x_moment\", \"s2_moment\", \n",
        "                  \"x_variation\", \"s2_variation\", \"y_variation\",\"z_variation\", \"s2_sem\", \"x_sem\", \"y_sem\", \"z_sem\", \"x_std\", \"y_std\", \"z_std\", \"s2_peak_prom_sit\", \"x_peak_prom_sit\", \"y_peak_prom_sit\",   \n",
        "                  \"s2_peak_prom_stand\", \"x_peak_prom_stand\", \"y_peak_prom_stand\", \"x_peak_len_50_200\", \"y_peak_len_50_200\", \"x_peak_len_20_150\", \"y_peak_len_50_110\", \"s2_peak_len_50_110\", \"s2_peak_len_20_300\", \n",
        "                  \"x_peak_len\", \"y_peak_len\", \"z_peak_len\", \"s2_peak_height\", \"s2_peak_prom\", \"x_peak_height\", \"x_peak_prom\", \"y_peak_height\", \"y_peak_prom\", \"z_peak_height\", \"z_peak_prom\",\n",
        "                  \"x_tvar\", \"y_tvar\", \"z_tvar\"], axis=1)"
      ],
      "execution_count": 0,
      "outputs": []
    },
    {
      "cell_type": "code",
      "metadata": {
        "id": "qhBSyp-Vako_",
        "colab_type": "code",
        "colab": {}
      },
      "source": [
        "data = data[['s2_median', 'x_median','y_median', 'z_median', 's2_std',  's2_skew', 'x_skew', 'y_skew', 'z_skew','s2_kurtosis', 'x_kurtosis', 'y_kurtosis', 'z_kurtosis', \n",
        "             's2_kstatvar', 'x_kstatvar', 'y_kstatvar', 'z_kstatvar',  's2_peak_len', 's2_peak_width', 'x_peak_width', 'y_peak_width', 'z_peak_width',\n",
        "             'x_y_corr', 'z_y_corr','x_z_corr', 's2_tvar', 's2_weight_pred_k', 'x_weight_pred_k', 'y_weight_pred_k', 'z_weight_pred_k', 'x_std_div_z_std', 'y_std_div_z_std', \n",
        "             'y_z_peak_len_mul_squares', 'x_peak_prom_stand_diff_y','x_peak_prom_sit_diff_y', \n",
        "             'x_peak_len_diff_y', 's2_peak_prom_stand_sit_diff','x_peak_len_diff_y_peak_len_50_200','x_y_peak_len_20_150_diff_50_110','s2_peak_len_50_110_20_300_diff',\n",
        "             's2_entropy', 'x_entropy', 'y_entropy','z_entropy', 's2_prom_div_height', 'x_prom_div_height', 'y_prom_div_height', 'z_prom_div_height', \n",
        "             's2_variation_peak_height', 'x_variation_peak_height', 'y_variation_peak_height', 'z_variation_peak_height', 'x_tvar_div_z_tvar', 'y_tvar_div_z_tvar', 'Kg', 'Target', 'Name']]  "
      ],
      "execution_count": 0,
      "outputs": []
    },
    {
      "cell_type": "code",
      "metadata": {
        "id": "lUAjH4NLa84n",
        "colab_type": "code",
        "outputId": "05eb392f-0699-49d5-d6d0-4c44b41cf93e",
        "colab": {
          "base_uri": "https://localhost:8080/",
          "height": 208
        }
      },
      "source": [
        "dict = {'Walking' :  0,  'Mixed walking' :1, 'Sitting':2, 'Standing':3, 'Jogging':4, 'Climbing down':5,                          \n",
        "          'Climbing up':6,  'Stairs up':7,  'Stairs down':8, 'Mixed walking  with little pauses':9, 'Mixed walking  includes stairs up':10, 'No activity':11}\n",
        "\n",
        "data[\"Target\"] = data.Target.map(dict)\n",
        "data[\"Target\"].value_counts()"
      ],
      "execution_count": 110,
      "outputs": [
        {
          "output_type": "execute_result",
          "data": {
            "text/plain": [
              "1     663\n",
              "0     629\n",
              "2     257\n",
              "3     231\n",
              "4     195\n",
              "5     132\n",
              "6     120\n",
              "7     105\n",
              "8      64\n",
              "11     12\n",
              "Name: Target, dtype: int64"
            ]
          },
          "metadata": {
            "tags": []
          },
          "execution_count": 110
        }
      ]
    },
    {
      "cell_type": "code",
      "metadata": {
        "id": "A7iakMBDakrJ",
        "colab_type": "code",
        "colab": {}
      },
      "source": [
        "data = data.drop([\"x_peak_prom_sit_diff_y\"], axis=1)"
      ],
      "execution_count": 0,
      "outputs": []
    },
    {
      "cell_type": "code",
      "metadata": {
        "id": "yq-1en78bsDA",
        "colab_type": "code",
        "colab": {}
      },
      "source": [
        "y = data[\"Target\"]\n",
        "x = data.drop([\"Target\", \"Name\"], axis=1)"
      ],
      "execution_count": 0,
      "outputs": []
    },
    {
      "cell_type": "markdown",
      "metadata": {
        "id": "_t0wh5oJc4UL",
        "colab_type": "text"
      },
      "source": [
        "# **Train Test split**"
      ]
    },
    {
      "cell_type": "code",
      "metadata": {
        "id": "X-KHHzHmbsF4",
        "colab_type": "code",
        "colab": {}
      },
      "source": [
        "unique_name=data['Name'].unique()\n",
        "np.random.seed(42)\n",
        "random_names_train = np.random.choice(a = unique_name, size = 6, replace = False)  \n",
        "train = pd.DataFrame()\n",
        "for name in random_names_train:\n",
        "  pre_train = data[data['Name'] == name] \n",
        "  train = train.append(pre_train)\n",
        "\n",
        "\n",
        "y_train=train[\"Target\"]\n",
        "x_train=train.drop([\"Target\", \"Name\"],axis=1)\n",
        "\n",
        "\n",
        "random_names_test = []\n",
        "for letter in unique_name:\n",
        "  if letter not in random_names_train:\n",
        "    random_names_test.append(letter)\n",
        "\n",
        "test = pd.DataFrame()\n",
        "for names in random_names_test:\n",
        "  pre_test = data[data['Name'] == names] \n",
        "  test = test.append(pre_test)\n",
        "\n",
        "\n",
        "y_test=test[\"Target\"]                       \n",
        "x_test=test.drop([\"Target\", \"Name\"], axis=1)"
      ],
      "execution_count": 0,
      "outputs": []
    },
    {
      "cell_type": "markdown",
      "metadata": {
        "id": "Mut6x8DBdAeG",
        "colab_type": "text"
      },
      "source": [
        "# **Scaling**"
      ]
    },
    {
      "cell_type": "code",
      "metadata": {
        "id": "xSEVqK59bsJa",
        "colab_type": "code",
        "colab": {}
      },
      "source": [
        "scaler = RobustScaler()\n",
        "x_train = scaler.fit_transform(x_train)\n",
        "x_test = scaler.transform(x_test)\n",
        "\n",
        "x_train = pd.DataFrame(x_train)\n",
        "x_test = pd.DataFrame(x_test)"
      ],
      "execution_count": 0,
      "outputs": []
    },
    {
      "cell_type": "code",
      "metadata": {
        "id": "yAPNwn_4b0G8",
        "colab_type": "code",
        "colab": {}
      },
      "source": [
        "scaler = RobustScaler()\n",
        "x_train = scaler.fit_transform(x_train)\n",
        "x_test = scaler.transform(x_test)\n",
        "\n",
        "x_train = pd.DataFrame(x_train)\n",
        "x_test = pd.DataFrame(x_test)"
      ],
      "execution_count": 0,
      "outputs": []
    },
    {
      "cell_type": "code",
      "metadata": {
        "id": "tkfLa5SYb0KF",
        "colab_type": "code",
        "colab": {}
      },
      "source": [
        "x_train.columns = [['s2_median', 'x_median', 'y_median', 'z_median', 's2_std', 's2_skew', 'x_skew', 'y_skew', 'z_skew', 's2_kurtosis', 'x_kurtosis', 'y_kurtosis', 'z_kurtosis', \n",
        "              's2_kstatvar', 'x_kstatvar', 'y_kstatvar', 'z_kstatvar', 's2_peak_len', 's2_peak_width', 'x_peak_width', 'y_peak_width', 'z_peak_width', 'x_y_corr', 'z_y_corr', 'x_z_corr',\n",
        "              's2_tvar', 's2_weight_pred_k', 'x_weight_pred_k', 'y_weight_pred_k', 'z_weight_pred_k', 'x_std_div_z_std', 'y_std_div_z_std', 'y_z_peak_len_mul_squares',\n",
        "              'x_peak_prom_stand_diff_y', 'x_peak_len_diff_y', 's2_peak_prom_stand_sit_diff', 'x_peak_len_diff_y_peak_len_50_200', 'x_y_peak_len_20_150_diff_50_110', \n",
        "              's2_peak_len_50_110_20_300_diff', 's2_entropy', 'x_entropy', 'y_entropy', 'z_entropy', 's2_prom_div_height', 'x_prom_div_height', 'y_prom_div_height', \n",
        "              'z_prom_div_height', 's2_variation_peak_height', 'x_variation_peak_height', 'y_variation_peak_height', 'z_variation_peak_height', 'x_tvar_div_z_tvar', 'y_tvar_div_z_tvar', 'Kg']]\n",
        "\n",
        "x_test.columns = [['s2_median', 'x_median', 'y_median', 'z_median', 's2_std', 's2_skew', 'x_skew', 'y_skew', 'z_skew', 's2_kurtosis', 'x_kurtosis', 'y_kurtosis', 'z_kurtosis', \n",
        "              's2_kstatvar', 'x_kstatvar', 'y_kstatvar', 'z_kstatvar', 's2_peak_len', 's2_peak_width', 'x_peak_width', 'y_peak_width', 'z_peak_width', 'x_y_corr', 'z_y_corr', 'x_z_corr',\n",
        "              's2_tvar', 's2_weight_pred_k', 'x_weight_pred_k', 'y_weight_pred_k', 'z_weight_pred_k', 'x_std_div_z_std', 'y_std_div_z_std', 'y_z_peak_len_mul_squares',\n",
        "              'x_peak_prom_stand_diff_y', 'x_peak_len_diff_y', 's2_peak_prom_stand_sit_diff', 'x_peak_len_diff_y_peak_len_50_200', 'x_y_peak_len_20_150_diff_50_110', \n",
        "              's2_peak_len_50_110_20_300_diff', 's2_entropy', 'x_entropy', 'y_entropy', 'z_entropy', 's2_prom_div_height', 'x_prom_div_height', 'y_prom_div_height', \n",
        "              'z_prom_div_height', 's2_variation_peak_height', 'x_variation_peak_height', 'y_variation_peak_height', 'z_variation_peak_height', 'x_tvar_div_z_tvar', 'y_tvar_div_z_tvar', 'Kg']]"
      ],
      "execution_count": 0,
      "outputs": []
    },
    {
      "cell_type": "code",
      "metadata": {
        "id": "xj_BmBE7b0Nd",
        "colab_type": "code",
        "colab": {}
      },
      "source": [
        "y_test_index = y_test.index\n",
        "x_test.index = y_test_index\n",
        "\n",
        "y_train_index = y_train.index\n",
        "x_train.index = y_train_index"
      ],
      "execution_count": 0,
      "outputs": []
    },
    {
      "cell_type": "markdown",
      "metadata": {
        "id": "2kPeFzQOb72e",
        "colab_type": "text"
      },
      "source": [
        "# **Models**"
      ]
    },
    {
      "cell_type": "markdown",
      "metadata": {
        "id": "McWtiAbmdQnc",
        "colab_type": "text"
      },
      "source": [
        "## **Logistic Regression**"
      ]
    },
    {
      "cell_type": "code",
      "metadata": {
        "id": "RmARBsmAakeQ",
        "colab_type": "code",
        "outputId": "27ba0c7a-4826-4599-8929-6e9ecac6534c",
        "colab": {
          "base_uri": "https://localhost:8080/",
          "height": 624
        }
      },
      "source": [
        "logit_m = LogisticRegression(random_state=0, solver='lbfgs', multi_class='multinomial').fit(x_train, y_train)\n",
        "\n",
        "logit_m_train = logit_m.predict(x_train)\n",
        "logit_m_test = logit_m.predict(x_test)\n",
        "\n",
        "logit_train_score = logit_m.score(x_train,y_train)*100\n",
        "logit_test_score = logit_m.score(x_test,y_test)*100\n",
        "\n",
        "print(\"Train:\",logit_tran_score)\n",
        "print(\"Test:\", logit_test_score)\n",
        "\n",
        "cr_train_log = classification_report(y_train, logit_m_train)\n",
        "cr_test_log = classification_report(y_test, logit_m_test) \n",
        "\n",
        "print(\"Train:\", cr_train_log)\n",
        "print(\"Test:\", cr_test_log)"
      ],
      "execution_count": 130,
      "outputs": [
        {
          "output_type": "stream",
          "text": [
            "Train: 87.01015965166908\n",
            "Test: 51.262135922330096\n",
            "Train:               precision    recall  f1-score   support\n",
            "\n",
            "           0       0.85      0.90      0.87       348\n",
            "           1       0.84      0.81      0.83       380\n",
            "           2       0.83      0.89      0.86       139\n",
            "           3       0.81      0.78      0.79       121\n",
            "           4       1.00      1.00      1.00       120\n",
            "           5       0.90      0.87      0.88        90\n",
            "           6       0.91      0.86      0.88        80\n",
            "           7       0.96      0.89      0.92        62\n",
            "           8       1.00      1.00      1.00        38\n",
            "\n",
            "    accuracy                           0.87      1378\n",
            "   macro avg       0.90      0.89      0.89      1378\n",
            "weighted avg       0.87      0.87      0.87      1378\n",
            "\n",
            "Test:               precision    recall  f1-score   support\n",
            "\n",
            "           0       0.48      0.68      0.56       281\n",
            "           1       0.43      0.40      0.42       283\n",
            "           2       0.55      0.35      0.43       118\n",
            "           3       0.46      0.51      0.48       110\n",
            "           4       0.87      0.97      0.92        75\n",
            "           5       0.47      0.21      0.30        42\n",
            "           6       0.00      0.00      0.00        40\n",
            "           7       0.76      0.79      0.77        43\n",
            "           8       0.59      0.38      0.47        26\n",
            "          11       0.00      0.00      0.00        12\n",
            "\n",
            "    accuracy                           0.51      1030\n",
            "   macro avg       0.46      0.43      0.43      1030\n",
            "weighted avg       0.49      0.51      0.49      1030\n",
            "\n"
          ],
          "name": "stdout"
        }
      ]
    },
    {
      "cell_type": "code",
      "metadata": {
        "id": "oFJueJQO_1rC",
        "colab_type": "code",
        "outputId": "e359f6f1-589b-4f6d-bf1b-38c256d096d9",
        "colab": {
          "base_uri": "https://localhost:8080/",
          "height": 156
        }
      },
      "source": [
        "param_logit_m={'class_weight':[None,'balanced'],\n",
        "            'C':np.linspace(0.0001,10,400),\n",
        "            'penalty': ['l1','l2', \"elasticnet\"]}\n",
        "\n",
        "gs_logit_m = GridSearchCV(estimator=logit_m,\n",
        "                        param_grid=param_logit_m,\n",
        "                        cv=5,verbose=1,n_jobs=-1).fit(x_train, y_train)"
      ],
      "execution_count": 131,
      "outputs": [
        {
          "output_type": "stream",
          "text": [
            "Fitting 5 folds for each of 2400 candidates, totalling 12000 fits\n"
          ],
          "name": "stdout"
        },
        {
          "output_type": "stream",
          "text": [
            "[Parallel(n_jobs=-1)]: Using backend LokyBackend with 2 concurrent workers.\n",
            "[Parallel(n_jobs=-1)]: Done 264 tasks      | elapsed:    9.7s\n",
            "[Parallel(n_jobs=-1)]: Done 1464 tasks      | elapsed:   54.6s\n",
            "[Parallel(n_jobs=-1)]: Done 3464 tasks      | elapsed:  2.2min\n",
            "[Parallel(n_jobs=-1)]: Done 6264 tasks      | elapsed:  3.9min\n",
            "[Parallel(n_jobs=-1)]: Done 9864 tasks      | elapsed:  6.1min\n",
            "[Parallel(n_jobs=-1)]: Done 12000 out of 12000 | elapsed:  7.5min finished\n"
          ],
          "name": "stderr"
        }
      ]
    },
    {
      "cell_type": "code",
      "metadata": {
        "id": "tbIsS0VeEEGY",
        "colab_type": "code",
        "outputId": "44590234-2294-4d15-ceb5-8c4a5822f6cd",
        "colab": {
          "base_uri": "https://localhost:8080/",
          "height": 34
        }
      },
      "source": [
        "gs_logit_m.best_params_"
      ],
      "execution_count": 0,
      "outputs": [
        {
          "output_type": "execute_result",
          "data": {
            "text/plain": [
              "{'C': 4.862206766917293, 'class_weight': None, 'penalty': 'l2'}"
            ]
          },
          "metadata": {
            "tags": []
          },
          "execution_count": 36
        }
      ]
    },
    {
      "cell_type": "code",
      "metadata": {
        "id": "7F7KHfQFCK2D",
        "colab_type": "code",
        "outputId": "2770f63a-53fe-44ef-ad25-daac0c96f617",
        "colab": {
          "base_uri": "https://localhost:8080/",
          "height": 624
        }
      },
      "source": [
        "logit2_m = LogisticRegression(C= 0.8, penalty=\"l2\", class_weight=None, random_state=0, solver='lbfgs', multi_class='multinomial').fit(x_train, y_train)\n",
        "\n",
        "logit_m_train2 = logit2_m.predict(x_train)\n",
        "logit_m_test2 = logit2_m.predict(x_test)\n",
        "\n",
        "logit_train_score2 = logit2_m.score(x_train,y_train)*100\n",
        "logit_test_score2 = logit2_m.score(x_test,y_test)*100\n",
        "\n",
        "print(\"Train for Tuned Logit:\",logit_train_score2)\n",
        "print(\"Test for Tuned Logit:\", logit_test_score2)\n",
        "\n",
        "cr_train_log2 = classification_report(y_train, logit_m_train2)\n",
        "cr_test_log2 = classification_report(y_test, logit_m_test2) \n",
        "\n",
        "print(\"Train:\", cr_train_log2)\n",
        "print(\"Test:\", cr_test_log2)"
      ],
      "execution_count": 132,
      "outputs": [
        {
          "output_type": "stream",
          "text": [
            "Train for Tuned Logit: 86.5021770682148\n",
            "Test for Tuned Logit: 51.165048543689316\n",
            "Train:               precision    recall  f1-score   support\n",
            "\n",
            "           0       0.84      0.91      0.87       348\n",
            "           1       0.84      0.79      0.81       380\n",
            "           2       0.83      0.89      0.86       139\n",
            "           3       0.80      0.78      0.79       121\n",
            "           4       0.99      1.00      1.00       120\n",
            "           5       0.90      0.87      0.88        90\n",
            "           6       0.88      0.86      0.87        80\n",
            "           7       0.96      0.89      0.92        62\n",
            "           8       1.00      1.00      1.00        38\n",
            "\n",
            "    accuracy                           0.87      1378\n",
            "   macro avg       0.89      0.89      0.89      1378\n",
            "weighted avg       0.87      0.87      0.86      1378\n",
            "\n",
            "Test:               precision    recall  f1-score   support\n",
            "\n",
            "           0       0.48      0.69      0.56       281\n",
            "           1       0.43      0.40      0.41       283\n",
            "           2       0.56      0.35      0.43       118\n",
            "           3       0.46      0.50      0.48       110\n",
            "           4       0.88      0.97      0.92        75\n",
            "           5       0.50      0.19      0.28        42\n",
            "           6       0.00      0.00      0.00        40\n",
            "           7       0.77      0.79      0.78        43\n",
            "           8       0.56      0.38      0.45        26\n",
            "          11       0.00      0.00      0.00        12\n",
            "\n",
            "    accuracy                           0.51      1030\n",
            "   macro avg       0.46      0.43      0.43      1030\n",
            "weighted avg       0.49      0.51      0.49      1030\n",
            "\n"
          ],
          "name": "stdout"
        }
      ]
    },
    {
      "cell_type": "markdown",
      "metadata": {
        "id": "AftjBMb9dUUz",
        "colab_type": "text"
      },
      "source": [
        "## **SVM: Before and after GridSeach**"
      ]
    },
    {
      "cell_type": "code",
      "metadata": {
        "id": "k8Ic9f1PdFBb",
        "colab_type": "code",
        "outputId": "713f997c-9fae-4743-96e1-4cde434c1b5c",
        "colab": {
          "base_uri": "https://localhost:8080/",
          "height": 624
        }
      },
      "source": [
        "from sklearn import svm\n",
        "\n",
        "svm_m = svm.SVC(decision_function_shape=\"ovo\").fit(x_train, y_train)\n",
        "\n",
        "svm_m_train_pred = svm_m.predict(x_train)\n",
        "svm_m_test_pred = svm_m.predict(x_test)\n",
        "\n",
        "svm_train_score = svm_m.score(x_train, y_train)*100 \n",
        "svm_test_score = svm_m.score(x_test, y_test)*100\n",
        "\n",
        "print(\"Train for SVM:\",svm_train_score)\n",
        "print(\"Test for SVM:\",svm_test_score)\n",
        "\n",
        "cr_train_svm = classification_report(y_train, svm_m_train_pred)\n",
        "cr_test_svm = classification_report(y_test, svm_m_test_pred) \n",
        "\n",
        "print(\"Train:\", cr_train_svm)\n",
        "print(\"Test:\", cr_test_svm)"
      ],
      "execution_count": 127,
      "outputs": [
        {
          "output_type": "stream",
          "text": [
            "Train for SVM: 71.91582002902757\n",
            "Test for SVM: 52.33009708737863\n",
            "Train:               precision    recall  f1-score   support\n",
            "\n",
            "           0       0.62      0.92      0.74       348\n",
            "           1       0.69      0.74      0.71       380\n",
            "           2       0.79      0.85      0.82       139\n",
            "           3       0.78      0.74      0.76       121\n",
            "           4       0.99      0.97      0.98       120\n",
            "           5       0.92      0.13      0.23        90\n",
            "           6       1.00      0.07      0.14        80\n",
            "           7       0.92      0.58      0.71        62\n",
            "           8       1.00      0.37      0.54        38\n",
            "\n",
            "    accuracy                           0.72      1378\n",
            "   macro avg       0.86      0.60      0.63      1378\n",
            "weighted avg       0.77      0.72      0.69      1378\n",
            "\n",
            "Test:               precision    recall  f1-score   support\n",
            "\n",
            "           0       0.51      0.73      0.60       281\n",
            "           1       0.40      0.47      0.43       283\n",
            "           2       0.73      0.53      0.61       118\n",
            "           3       0.48      0.56      0.52       110\n",
            "           4       0.94      0.79      0.86        75\n",
            "           5       0.00      0.00      0.00        42\n",
            "           6       0.00      0.00      0.00        40\n",
            "           7       0.94      0.37      0.53        43\n",
            "           8       1.00      0.12      0.21        26\n",
            "          11       0.00      0.00      0.00        12\n",
            "\n",
            "    accuracy                           0.52      1030\n",
            "   macro avg       0.50      0.36      0.38      1030\n",
            "weighted avg       0.52      0.52      0.50      1030\n",
            "\n"
          ],
          "name": "stdout"
        }
      ]
    },
    {
      "cell_type": "code",
      "metadata": {
        "id": "-d-_JGNeIY-5",
        "colab_type": "code",
        "outputId": "235906a9-c73d-40df-bf3b-c8dd6d5dd381",
        "colab": {
          "base_uri": "https://localhost:8080/",
          "height": 86
        }
      },
      "source": [
        "svm_grid_params = [{'kernel': ['rbf'], 'gamma': [1e-3, 1e-4],\n",
        "                     'C': [1, 10, 100, 1000]},\n",
        "                    {'kernel': ['linear'], 'C': [1, 10, 100, 1000]}]\n",
        "\n",
        "gs_svm = GridSearchCV(estimator=svm_m,\n",
        "                  param_grid=svm_grid_params, cv=3, n_jobs=-1, verbose=1).fit(x_train,y_train)\n",
        "\n",
        "gs_svm.best_params_"
      ],
      "execution_count": 128,
      "outputs": [
        {
          "output_type": "stream",
          "text": [
            "Fitting 3 folds for each of 12 candidates, totalling 36 fits\n"
          ],
          "name": "stdout"
        },
        {
          "output_type": "stream",
          "text": [
            "[Parallel(n_jobs=-1)]: Using backend LokyBackend with 2 concurrent workers.\n",
            "[Parallel(n_jobs=-1)]: Done  36 out of  36 | elapsed:  1.1min finished\n"
          ],
          "name": "stderr"
        },
        {
          "output_type": "execute_result",
          "data": {
            "text/plain": [
              "{'C': 10, 'kernel': 'linear'}"
            ]
          },
          "metadata": {
            "tags": []
          },
          "execution_count": 128
        }
      ]
    },
    {
      "cell_type": "code",
      "metadata": {
        "id": "LuwzL2MCM0NA",
        "colab_type": "code",
        "outputId": "d59e9d88-9b05-41d4-ffba-d82f2a9ea88a",
        "colab": {
          "base_uri": "https://localhost:8080/",
          "height": 624
        }
      },
      "source": [
        "from sklearn import svm\n",
        "\n",
        "svm_m2 = svm.SVC(C=0.8, kernel='linear', decision_function_shape=\"ovo\").fit(x_train, y_train)\n",
        "\n",
        "svm_m_train_pred2 = svm_m2.predict(x_train)\n",
        "svm_m_test_pred2 = svm_m2.predict(x_test)\n",
        "\n",
        "svm_train_score2 = svm_m2.score(x_train, y_train)*100 \n",
        "svm_test_score2 = svm_m2.score(x_test, y_test)*100\n",
        "\n",
        "print(\"Train for SVM Tuned SVM:\",svm_train_score2)\n",
        "print(\"Test for SVM Tuned SVM:\",svm_test_score2)\n",
        "\n",
        "cr_train_svm2 = classification_report(y_train, svm_m_train_pred2)\n",
        "cr_test_svm2 = classification_report(y_test, svm_m_test_pred2) \n",
        "\n",
        "print(\"Train:\", cr_train_svm2)\n",
        "print(\"Test:\", cr_test_svm2)"
      ],
      "execution_count": 129,
      "outputs": [
        {
          "output_type": "stream",
          "text": [
            "Train for SVM Tuned SVM: 90.34833091436865\n",
            "Test for SVM Tuned SVM: 52.71844660194175\n",
            "Train:               precision    recall  f1-score   support\n",
            "\n",
            "           0       0.88      0.92      0.90       348\n",
            "           1       0.86      0.86      0.86       380\n",
            "           2       0.90      0.92      0.91       139\n",
            "           3       0.91      0.82      0.86       121\n",
            "           4       1.00      1.00      1.00       120\n",
            "           5       0.94      0.91      0.93        90\n",
            "           6       0.95      0.93      0.94        80\n",
            "           7       1.00      0.94      0.97        62\n",
            "           8       1.00      1.00      1.00        38\n",
            "\n",
            "    accuracy                           0.90      1378\n",
            "   macro avg       0.94      0.92      0.93      1378\n",
            "weighted avg       0.90      0.90      0.90      1378\n",
            "\n",
            "Test:               precision    recall  f1-score   support\n",
            "\n",
            "           0       0.49      0.67      0.56       281\n",
            "           1       0.41      0.42      0.42       283\n",
            "           2       0.68      0.42      0.52       118\n",
            "           3       0.46      0.49      0.47       110\n",
            "           4       0.82      0.97      0.89        75\n",
            "           5       0.76      0.31      0.44        42\n",
            "           6       0.75      0.07      0.14        40\n",
            "           7       0.82      0.77      0.80        43\n",
            "           8       0.67      0.38      0.49        26\n",
            "          11       0.00      0.00      0.00        12\n",
            "\n",
            "    accuracy                           0.53      1030\n",
            "   macro avg       0.59      0.45      0.47      1030\n",
            "weighted avg       0.54      0.53      0.51      1030\n",
            "\n"
          ],
          "name": "stdout"
        }
      ]
    },
    {
      "cell_type": "markdown",
      "metadata": {
        "id": "U5RRR47JdXlD",
        "colab_type": "text"
      },
      "source": [
        "## **Random Forest: Before and after GridSearch**"
      ]
    },
    {
      "cell_type": "code",
      "metadata": {
        "id": "f1e1sPYhdLIk",
        "colab_type": "code",
        "outputId": "18abcad2-cb63-45dd-8c89-32245bde5a3f",
        "colab": {
          "base_uri": "https://localhost:8080/",
          "height": 624
        }
      },
      "source": [
        "rf_m = RandomForestClassifier(n_estimators=1000, criterion=\"entropy\", max_depth=10, random_state=42).fit(x_train, y_train)\n",
        "\n",
        "rf_m_train_pred = rf_m.predict(x_train)\n",
        "rf_m_test_pred = rf_m.predict(x_test)\n",
        "\n",
        "rf_train_score = rf_m.score(x_train, y_train)*100\n",
        "rf_test_score = rf_m.score(x_test, y_test)*100\n",
        "\n",
        "print(\"Train for Random Forest:\", rf_train_score)\n",
        "print(\"Test for Random Forest:\", rf_test_score)\n",
        "\n",
        "cr_train_rf = classification_report(y_train, rf_m_train_pred)\n",
        "cr_test_rf = classification_report(y_test, rf_m_test_pred)\n",
        "\n",
        "print(\"Train:\", cr_train_rf)\n",
        "print(\"Test:\", cr_test_rf)\n",
        "\n",
        "# Return the mean accuracy on the given test data and labels."
      ],
      "execution_count": 118,
      "outputs": [
        {
          "output_type": "stream",
          "text": [
            "Train for Random Forest: 99.63715529753266\n",
            "Test for Random Forest: 54.757281553398066\n",
            "Train:               precision    recall  f1-score   support\n",
            "\n",
            "           0       0.99      1.00      0.99       348\n",
            "           1       1.00      0.99      0.99       380\n",
            "           2       1.00      1.00      1.00       139\n",
            "           3       1.00      1.00      1.00       121\n",
            "           4       1.00      1.00      1.00       120\n",
            "           5       0.99      1.00      0.99        90\n",
            "           6       1.00      1.00      1.00        80\n",
            "           7       1.00      1.00      1.00        62\n",
            "           8       1.00      1.00      1.00        38\n",
            "\n",
            "    accuracy                           1.00      1378\n",
            "   macro avg       1.00      1.00      1.00      1378\n",
            "weighted avg       1.00      1.00      1.00      1378\n",
            "\n",
            "Test:               precision    recall  f1-score   support\n",
            "\n",
            "           0       0.54      0.70      0.61       281\n",
            "           1       0.40      0.48      0.43       283\n",
            "           2       0.76      0.47      0.58       118\n",
            "           3       0.49      0.49      0.49       110\n",
            "           4       0.84      1.00      0.91        75\n",
            "           5       0.00      0.00      0.00        42\n",
            "           6       1.00      0.05      0.10        40\n",
            "           7       0.94      0.74      0.83        43\n",
            "           8       1.00      0.50      0.67        26\n",
            "          11       0.00      0.00      0.00        12\n",
            "\n",
            "    accuracy                           0.55      1030\n",
            "   macro avg       0.60      0.44      0.46      1030\n",
            "weighted avg       0.56      0.55      0.53      1030\n",
            "\n"
          ],
          "name": "stdout"
        }
      ]
    },
    {
      "cell_type": "code",
      "metadata": {
        "id": "Kzyxh_8EyDjV",
        "colab_type": "code",
        "outputId": "1b28e1ab-d1e2-4320-b2c5-28d2610bae73",
        "colab": {
          "base_uri": "https://localhost:8080/",
          "height": 86
        }
      },
      "source": [
        "param_rf_m={\"max_depth\":range(1,20),\n",
        "           \"min_samples_leaf\":range(10,300,10),\n",
        "           \"class_weight\":[\"balanced\",None],  \n",
        "            \"criterion\":[\"entropy\",\"gini\"]      \n",
        "             }\n",
        "\n",
        "gs_rf_m = GridSearchCV(estimator=RandomForestClassifier(random_state=42),\n",
        "                   param_grid=param_rf_m, cv=3, n_jobs=-1).fit(x_train,y_train)\n",
        "\n",
        "gs_rf_m.best_params_"
      ],
      "execution_count": 119,
      "outputs": [
        {
          "output_type": "execute_result",
          "data": {
            "text/plain": [
              "{'class_weight': 'balanced',\n",
              " 'criterion': 'entropy',\n",
              " 'max_depth': 8,\n",
              " 'min_samples_leaf': 10}"
            ]
          },
          "metadata": {
            "tags": []
          },
          "execution_count": 119
        }
      ]
    },
    {
      "cell_type": "code",
      "metadata": {
        "id": "FdATbCISx2Sy",
        "colab_type": "code",
        "outputId": "fa7ff3a1-3199-42d5-d68b-c36d621a274f",
        "colab": {
          "base_uri": "https://localhost:8080/",
          "height": 624
        }
      },
      "source": [
        "rf2_m = RandomForestClassifier(class_weight='balanced', n_estimators=1000, criterion = \"entropy\", min_samples_leaf=10, max_depth=8, random_state=42).fit(x_train, y_train)\n",
        "\n",
        "rf_m_train_pred2 = rf2_m.predict(x_train)\n",
        "rf_m_test_pred2 = rf2_m.predict(x_test)\n",
        "\n",
        "rf_train_score2 = rf2_m.score(x_train, y_train)*100\n",
        "rf_test_score2 = rf2_m.score(x_test, y_test)*100\n",
        "\n",
        "print(\"Train for Tuned Random Forest:\", rf_train_score2)\n",
        "print(\"Test for Tuned Random Forest:\", rf_test_score2)\n",
        "\n",
        "cr_train_rf2 = classification_report(y_train, rf_m_train_pred2)\n",
        "cr_test_rf2 = classification_report(y_test, rf_m_test_pred2)\n",
        "\n",
        "print(\"Train:\", cr_train_rf2)\n",
        "print(\"Test:\", cr_test_rf2)"
      ],
      "execution_count": 121,
      "outputs": [
        {
          "output_type": "stream",
          "text": [
            "Train for Tuned Random Forest: 87.73584905660378\n",
            "Test for Tuned Random Forest: 55.92233009708738\n",
            "Train:               precision    recall  f1-score   support\n",
            "\n",
            "           0       0.88      0.97      0.92       348\n",
            "           1       0.99      0.63      0.77       380\n",
            "           2       0.92      0.95      0.94       139\n",
            "           3       0.75      0.94      0.84       121\n",
            "           4       0.98      1.00      0.99       120\n",
            "           5       0.77      0.98      0.86        90\n",
            "           6       0.83      0.99      0.90        80\n",
            "           7       0.72      0.98      0.83        62\n",
            "           8       0.97      1.00      0.99        38\n",
            "\n",
            "    accuracy                           0.88      1378\n",
            "   macro avg       0.87      0.94      0.89      1378\n",
            "weighted avg       0.90      0.88      0.87      1378\n",
            "\n",
            "Test:               precision    recall  f1-score   support\n",
            "\n",
            "           0       0.52      0.75      0.62       281\n",
            "           1       0.54      0.33      0.41       283\n",
            "           2       0.77      0.47      0.59       118\n",
            "           3       0.55      0.82      0.66       110\n",
            "           4       0.48      1.00      0.65        75\n",
            "           5       0.00      0.00      0.00        42\n",
            "           6       0.14      0.03      0.04        40\n",
            "           7       0.87      0.77      0.81        43\n",
            "           8       0.94      0.62      0.74        26\n",
            "          11       0.00      0.00      0.00        12\n",
            "\n",
            "    accuracy                           0.56      1030\n",
            "   macro avg       0.48      0.48      0.45      1030\n",
            "weighted avg       0.54      0.56      0.52      1030\n",
            "\n"
          ],
          "name": "stdout"
        }
      ]
    },
    {
      "cell_type": "code",
      "metadata": {
        "id": "Y86y3A9Wx-3i",
        "colab_type": "code",
        "outputId": "6641ddf5-d604-46b5-ab19-f1dcab192b90",
        "colab": {
          "base_uri": "https://localhost:8080/",
          "height": 1000
        }
      },
      "source": [
        "feature_importances_rf = pd.DataFrame(rf2_m.feature_importances_,index = x_train.columns,\n",
        "                                    columns=['importance']).sort_values('importance', ascending=False)\n",
        "feature_importances_rf"
      ],
      "execution_count": 122,
      "outputs": [
        {
          "output_type": "execute_result",
          "data": {
            "text/html": [
              "<div>\n",
              "<style scoped>\n",
              "    .dataframe tbody tr th:only-of-type {\n",
              "        vertical-align: middle;\n",
              "    }\n",
              "\n",
              "    .dataframe tbody tr th {\n",
              "        vertical-align: top;\n",
              "    }\n",
              "\n",
              "    .dataframe thead th {\n",
              "        text-align: right;\n",
              "    }\n",
              "</style>\n",
              "<table border=\"1\" class=\"dataframe\">\n",
              "  <thead>\n",
              "    <tr style=\"text-align: right;\">\n",
              "      <th></th>\n",
              "      <th>importance</th>\n",
              "    </tr>\n",
              "  </thead>\n",
              "  <tbody>\n",
              "    <tr>\n",
              "      <th>x_kstatvar</th>\n",
              "      <td>0.096918</td>\n",
              "    </tr>\n",
              "    <tr>\n",
              "      <th>s2_std</th>\n",
              "      <td>0.084188</td>\n",
              "    </tr>\n",
              "    <tr>\n",
              "      <th>s2_tvar</th>\n",
              "      <td>0.073973</td>\n",
              "    </tr>\n",
              "    <tr>\n",
              "      <th>x_skew</th>\n",
              "      <td>0.059907</td>\n",
              "    </tr>\n",
              "    <tr>\n",
              "      <th>s2_kstatvar</th>\n",
              "      <td>0.055739</td>\n",
              "    </tr>\n",
              "    <tr>\n",
              "      <th>y_kstatvar</th>\n",
              "      <td>0.054526</td>\n",
              "    </tr>\n",
              "    <tr>\n",
              "      <th>x_median</th>\n",
              "      <td>0.053677</td>\n",
              "    </tr>\n",
              "    <tr>\n",
              "      <th>z_kstatvar</th>\n",
              "      <td>0.048552</td>\n",
              "    </tr>\n",
              "    <tr>\n",
              "      <th>z_median</th>\n",
              "      <td>0.043547</td>\n",
              "    </tr>\n",
              "    <tr>\n",
              "      <th>x_kurtosis</th>\n",
              "      <td>0.039593</td>\n",
              "    </tr>\n",
              "    <tr>\n",
              "      <th>s2_kurtosis</th>\n",
              "      <td>0.037997</td>\n",
              "    </tr>\n",
              "    <tr>\n",
              "      <th>s2_skew</th>\n",
              "      <td>0.036570</td>\n",
              "    </tr>\n",
              "    <tr>\n",
              "      <th>x_peak_prom_stand_diff_y</th>\n",
              "      <td>0.033250</td>\n",
              "    </tr>\n",
              "    <tr>\n",
              "      <th>x_tvar_div_z_tvar</th>\n",
              "      <td>0.024635</td>\n",
              "    </tr>\n",
              "    <tr>\n",
              "      <th>x_std_div_z_std</th>\n",
              "      <td>0.023352</td>\n",
              "    </tr>\n",
              "    <tr>\n",
              "      <th>z_entropy</th>\n",
              "      <td>0.020720</td>\n",
              "    </tr>\n",
              "    <tr>\n",
              "      <th>s2_median</th>\n",
              "      <td>0.020541</td>\n",
              "    </tr>\n",
              "    <tr>\n",
              "      <th>x_y_corr</th>\n",
              "      <td>0.018958</td>\n",
              "    </tr>\n",
              "    <tr>\n",
              "      <th>x_z_corr</th>\n",
              "      <td>0.018678</td>\n",
              "    </tr>\n",
              "    <tr>\n",
              "      <th>y_kurtosis</th>\n",
              "      <td>0.011032</td>\n",
              "    </tr>\n",
              "    <tr>\n",
              "      <th>s2_peak_len_50_110_20_300_diff</th>\n",
              "      <td>0.010690</td>\n",
              "    </tr>\n",
              "    <tr>\n",
              "      <th>y_std_div_z_std</th>\n",
              "      <td>0.010427</td>\n",
              "    </tr>\n",
              "    <tr>\n",
              "      <th>y_median</th>\n",
              "      <td>0.010307</td>\n",
              "    </tr>\n",
              "    <tr>\n",
              "      <th>y_tvar_div_z_tvar</th>\n",
              "      <td>0.010033</td>\n",
              "    </tr>\n",
              "    <tr>\n",
              "      <th>x_y_peak_len_20_150_diff_50_110</th>\n",
              "      <td>0.008832</td>\n",
              "    </tr>\n",
              "    <tr>\n",
              "      <th>x_weight_pred_k</th>\n",
              "      <td>0.006332</td>\n",
              "    </tr>\n",
              "    <tr>\n",
              "      <th>z_y_corr</th>\n",
              "      <td>0.006273</td>\n",
              "    </tr>\n",
              "    <tr>\n",
              "      <th>z_kurtosis</th>\n",
              "      <td>0.006228</td>\n",
              "    </tr>\n",
              "    <tr>\n",
              "      <th>s2_prom_div_height</th>\n",
              "      <td>0.005224</td>\n",
              "    </tr>\n",
              "    <tr>\n",
              "      <th>x_prom_div_height</th>\n",
              "      <td>0.004629</td>\n",
              "    </tr>\n",
              "    <tr>\n",
              "      <th>x_entropy</th>\n",
              "      <td>0.004608</td>\n",
              "    </tr>\n",
              "    <tr>\n",
              "      <th>x_variation_peak_height</th>\n",
              "      <td>0.004372</td>\n",
              "    </tr>\n",
              "    <tr>\n",
              "      <th>y_z_peak_len_mul_squares</th>\n",
              "      <td>0.004351</td>\n",
              "    </tr>\n",
              "    <tr>\n",
              "      <th>y_skew</th>\n",
              "      <td>0.004022</td>\n",
              "    </tr>\n",
              "    <tr>\n",
              "      <th>z_skew</th>\n",
              "      <td>0.004009</td>\n",
              "    </tr>\n",
              "    <tr>\n",
              "      <th>s2_variation_peak_height</th>\n",
              "      <td>0.003643</td>\n",
              "    </tr>\n",
              "    <tr>\n",
              "      <th>y_variation_peak_height</th>\n",
              "      <td>0.003627</td>\n",
              "    </tr>\n",
              "    <tr>\n",
              "      <th>y_prom_div_height</th>\n",
              "      <td>0.002922</td>\n",
              "    </tr>\n",
              "    <tr>\n",
              "      <th>z_peak_width</th>\n",
              "      <td>0.002885</td>\n",
              "    </tr>\n",
              "    <tr>\n",
              "      <th>x_peak_width</th>\n",
              "      <td>0.002831</td>\n",
              "    </tr>\n",
              "    <tr>\n",
              "      <th>s2_weight_pred_k</th>\n",
              "      <td>0.002672</td>\n",
              "    </tr>\n",
              "    <tr>\n",
              "      <th>y_entropy</th>\n",
              "      <td>0.002670</td>\n",
              "    </tr>\n",
              "    <tr>\n",
              "      <th>s2_peak_width</th>\n",
              "      <td>0.002667</td>\n",
              "    </tr>\n",
              "    <tr>\n",
              "      <th>y_peak_width</th>\n",
              "      <td>0.002448</td>\n",
              "    </tr>\n",
              "    <tr>\n",
              "      <th>z_weight_pred_k</th>\n",
              "      <td>0.002448</td>\n",
              "    </tr>\n",
              "    <tr>\n",
              "      <th>s2_peak_len</th>\n",
              "      <td>0.002317</td>\n",
              "    </tr>\n",
              "    <tr>\n",
              "      <th>z_variation_peak_height</th>\n",
              "      <td>0.002256</td>\n",
              "    </tr>\n",
              "    <tr>\n",
              "      <th>y_weight_pred_k</th>\n",
              "      <td>0.002237</td>\n",
              "    </tr>\n",
              "    <tr>\n",
              "      <th>z_prom_div_height</th>\n",
              "      <td>0.002155</td>\n",
              "    </tr>\n",
              "    <tr>\n",
              "      <th>s2_entropy</th>\n",
              "      <td>0.002137</td>\n",
              "    </tr>\n",
              "    <tr>\n",
              "      <th>Kg</th>\n",
              "      <td>0.001553</td>\n",
              "    </tr>\n",
              "    <tr>\n",
              "      <th>x_peak_len_diff_y</th>\n",
              "      <td>0.000840</td>\n",
              "    </tr>\n",
              "    <tr>\n",
              "      <th>s2_peak_prom_stand_sit_diff</th>\n",
              "      <td>0.000559</td>\n",
              "    </tr>\n",
              "    <tr>\n",
              "      <th>x_peak_len_diff_y_peak_len_50_200</th>\n",
              "      <td>0.000445</td>\n",
              "    </tr>\n",
              "  </tbody>\n",
              "</table>\n",
              "</div>"
            ],
            "text/plain": [
              "                                   importance\n",
              "x_kstatvar                           0.096918\n",
              "s2_std                               0.084188\n",
              "s2_tvar                              0.073973\n",
              "x_skew                               0.059907\n",
              "s2_kstatvar                          0.055739\n",
              "y_kstatvar                           0.054526\n",
              "x_median                             0.053677\n",
              "z_kstatvar                           0.048552\n",
              "z_median                             0.043547\n",
              "x_kurtosis                           0.039593\n",
              "s2_kurtosis                          0.037997\n",
              "s2_skew                              0.036570\n",
              "x_peak_prom_stand_diff_y             0.033250\n",
              "x_tvar_div_z_tvar                    0.024635\n",
              "x_std_div_z_std                      0.023352\n",
              "z_entropy                            0.020720\n",
              "s2_median                            0.020541\n",
              "x_y_corr                             0.018958\n",
              "x_z_corr                             0.018678\n",
              "y_kurtosis                           0.011032\n",
              "s2_peak_len_50_110_20_300_diff       0.010690\n",
              "y_std_div_z_std                      0.010427\n",
              "y_median                             0.010307\n",
              "y_tvar_div_z_tvar                    0.010033\n",
              "x_y_peak_len_20_150_diff_50_110      0.008832\n",
              "x_weight_pred_k                      0.006332\n",
              "z_y_corr                             0.006273\n",
              "z_kurtosis                           0.006228\n",
              "s2_prom_div_height                   0.005224\n",
              "x_prom_div_height                    0.004629\n",
              "x_entropy                            0.004608\n",
              "x_variation_peak_height              0.004372\n",
              "y_z_peak_len_mul_squares             0.004351\n",
              "y_skew                               0.004022\n",
              "z_skew                               0.004009\n",
              "s2_variation_peak_height             0.003643\n",
              "y_variation_peak_height              0.003627\n",
              "y_prom_div_height                    0.002922\n",
              "z_peak_width                         0.002885\n",
              "x_peak_width                         0.002831\n",
              "s2_weight_pred_k                     0.002672\n",
              "y_entropy                            0.002670\n",
              "s2_peak_width                        0.002667\n",
              "y_peak_width                         0.002448\n",
              "z_weight_pred_k                      0.002448\n",
              "s2_peak_len                          0.002317\n",
              "z_variation_peak_height              0.002256\n",
              "y_weight_pred_k                      0.002237\n",
              "z_prom_div_height                    0.002155\n",
              "s2_entropy                           0.002137\n",
              "Kg                                   0.001553\n",
              "x_peak_len_diff_y                    0.000840\n",
              "s2_peak_prom_stand_sit_diff          0.000559\n",
              "x_peak_len_diff_y_peak_len_50_200    0.000445"
            ]
          },
          "metadata": {
            "tags": []
          },
          "execution_count": 122
        }
      ]
    },
    {
      "cell_type": "code",
      "metadata": {
        "id": "vp35RvxAUcXO",
        "colab_type": "code",
        "colab": {}
      },
      "source": [
        "x_train_d = x_train.drop([ 'x_y_corr', 'y_std_div_z_std',\t's2_median',\t'y_tvar_div_z_tvar',\t'z_y_corr', 'x_prom_div_height',\t'x_variation_peak_height',\t'z_kurtosis',\t's2_peak_width',\t'y_skew',\t\n",
        "                          's2_prom_div_height',\t'z_entropy',\t'y_weight_pred_k',\t'x_z_corr', 'y_z_peak_len_mul_squares',\t'x_peak_len_diff_y', 'x_weight_pred_k',\t's2_weight_pred_k',\t's2_peak_len',\t\n",
        "                          'z_prom_div_height',\t'y_variation_peak_height',\t'y_peak_width',\t's2_variation_peak_height',\t's2_peak_prom_stand_sit_diff','y_prom_div_height',\t'x_peak_width',\t\n",
        "                          'x_peak_len_diff_y_peak_len_50_200',\t'Kg',\t'z_peak_width',\t'z_variation_peak_height',\t'z_weight_pred_k',\t'y_entropy', 'x_entropy',\t's2_entropy', 'x_y_peak_len_20_150_diff_50_110', 'x_weight_pred_k'], axis=1)\n",
        "                         \n",
        "x_test_d = x_test.drop([ 'x_y_corr', 'y_std_div_z_std',\t's2_median',\t'y_tvar_div_z_tvar',\t'z_y_corr', 'x_prom_div_height',\t'x_variation_peak_height',\t'z_kurtosis',\t's2_peak_width',\t'y_skew',\t\n",
        "                          's2_prom_div_height',\t'z_entropy',\t'y_weight_pred_k',\t'x_z_corr', 'y_z_peak_len_mul_squares',\t'x_peak_len_diff_y', 'x_weight_pred_k',\t's2_weight_pred_k',\t's2_peak_len',\t\n",
        "                          'z_prom_div_height',\t'y_variation_peak_height',\t'y_peak_width',\t's2_variation_peak_height',\t's2_peak_prom_stand_sit_diff','y_prom_div_height',\t'x_peak_width',\t\n",
        "                          'x_peak_len_diff_y_peak_len_50_200',\t'Kg',\t'z_peak_width',\t'z_variation_peak_height',\t'z_weight_pred_k',\t'y_entropy', 'x_entropy',\t's2_entropy', 'x_y_peak_len_20_150_diff_50_110', 'x_weight_pred_k'], axis=1)"
      ],
      "execution_count": 0,
      "outputs": []
    },
    {
      "cell_type": "markdown",
      "metadata": {
        "id": "NQnNwWXoNQmj",
        "colab_type": "text"
      },
      "source": [
        "# **KNN: Before and after GridSearch**"
      ]
    },
    {
      "cell_type": "code",
      "metadata": {
        "id": "mBBEARp2NTpp",
        "colab_type": "code",
        "outputId": "6f88ce17-00a5-4a03-9bd0-75d8b96a2462",
        "colab": {
          "base_uri": "https://localhost:8080/",
          "height": 624
        }
      },
      "source": [
        "knn_m = KNeighborsClassifier(n_neighbors = 7).fit(x_train_d, y_train)\n",
        "\n",
        "knn_m_train_pred = knn_m.predict(x_train_d)\n",
        "knn_m_test_pred = knn_m.predict(x_test_d)\n",
        "\n",
        "knn_train_score = knn_m.score(x_train_d, y_train)*100\n",
        "knn_test_score = knn_m.score(x_test_d, y_test)*100\n",
        "\n",
        "print(\"Train for KNN:\", knn_train_score)\n",
        "print(\"Test for KNN:\", knn_test_score)\n",
        "\n",
        "cr_train_knn = classification_report(y_train, knn_m_train_pred)\n",
        "cr_test_knn = classification_report(y_test, knn_m_test_pred) \n",
        "\n",
        "print(\"Train:\", cr_train_knn)\n",
        "print(\"Test:\", cr_test_knn)"
      ],
      "execution_count": 124,
      "outputs": [
        {
          "output_type": "stream",
          "text": [
            "Train for KNN: 82.22060957910014\n",
            "Test for KNN: 54.1747572815534\n",
            "Train:               precision    recall  f1-score   support\n",
            "\n",
            "           0       0.83      0.94      0.88       348\n",
            "           1       0.75      0.74      0.75       380\n",
            "           2       0.79      0.80      0.79       139\n",
            "           3       0.77      0.58      0.66       121\n",
            "           4       1.00      0.98      0.99       120\n",
            "           5       0.85      0.91      0.88        90\n",
            "           6       0.87      0.84      0.85        80\n",
            "           7       0.81      0.71      0.76        62\n",
            "           8       0.97      0.84      0.90        38\n",
            "\n",
            "    accuracy                           0.82      1378\n",
            "   macro avg       0.85      0.82      0.83      1378\n",
            "weighted avg       0.82      0.82      0.82      1378\n",
            "\n",
            "Test:               precision    recall  f1-score   support\n",
            "\n",
            "           0       0.53      0.66      0.59       281\n",
            "           1       0.46      0.63      0.53       283\n",
            "           2       0.63      0.44      0.52       118\n",
            "           3       0.43      0.40      0.42       110\n",
            "           4       0.99      0.92      0.95        75\n",
            "           5       1.00      0.02      0.05        42\n",
            "           6       0.00      0.00      0.00        40\n",
            "           7       0.65      0.51      0.57        43\n",
            "           8       1.00      0.27      0.42        26\n",
            "          11       0.00      0.00      0.00        12\n",
            "\n",
            "    accuracy                           0.54      1030\n",
            "   macro avg       0.57      0.39      0.40      1030\n",
            "weighted avg       0.55      0.54      0.52      1030\n",
            "\n"
          ],
          "name": "stdout"
        }
      ]
    },
    {
      "cell_type": "code",
      "metadata": {
        "id": "vkbki55yRR35",
        "colab_type": "code",
        "outputId": "0faa9925-da20-405e-e94f-be4f1d2c8026",
        "colab": {
          "base_uri": "https://localhost:8080/",
          "height": 104
        }
      },
      "source": [
        "knn_grid_params = {\"n_neighbors\":range(1,20),\n",
        "          \"weights\":[\"uniform\",\"distance\"],\n",
        "          \"metric\":[\"euclidean\",\"manhattan\"]        \n",
        "            }\n",
        "gs_knn = GridSearchCV(estimator=knn_m,\n",
        "                  param_grid=knn_grid_params, cv=3, n_jobs=-1, verbose=1).fit(x_train,y_train)\n",
        "\n",
        "gs_knn.best_params_"
      ],
      "execution_count": 125,
      "outputs": [
        {
          "output_type": "stream",
          "text": [
            "Fitting 3 folds for each of 76 candidates, totalling 228 fits\n"
          ],
          "name": "stdout"
        },
        {
          "output_type": "stream",
          "text": [
            "[Parallel(n_jobs=-1)]: Using backend LokyBackend with 2 concurrent workers.\n",
            "[Parallel(n_jobs=-1)]: Done  88 tasks      | elapsed:    3.6s\n",
            "[Parallel(n_jobs=-1)]: Done 228 out of 228 | elapsed:    9.6s finished\n"
          ],
          "name": "stderr"
        },
        {
          "output_type": "execute_result",
          "data": {
            "text/plain": [
              "{'metric': 'manhattan', 'n_neighbors': 11, 'weights': 'distance'}"
            ]
          },
          "metadata": {
            "tags": []
          },
          "execution_count": 125
        }
      ]
    },
    {
      "cell_type": "code",
      "metadata": {
        "id": "LeSpPKLMRhuS",
        "colab_type": "code",
        "outputId": "de1ac70a-6038-4d94-dfbf-99bcf73b295c",
        "colab": {
          "base_uri": "https://localhost:8080/",
          "height": 624
        }
      },
      "source": [
        "knn_m2 = KNeighborsClassifier(n_neighbors = 11, metric=\"manhattan\", weights=\"distance\").fit(x_train_d, y_train)\n",
        "\n",
        "knn_m_train_pred2 = knn_m2.predict(x_train_d)\n",
        "knn_m_test_pred2 = knn_m2.predict(x_test_d)\n",
        "\n",
        "knn_train_score2 = knn_m2.score(x_train_d, y_train)*100\n",
        "knn_test_score2 = knn_m2.score(x_test_d, y_test)*100\n",
        "\n",
        "print(\"Train for Tuned KNN:\", knn_train_score2)\n",
        "print(\"Test for Tuned KNN:\", knn_test_score2)\n",
        "\n",
        "cr_train_knn2 = classification_report(y_train, knn_m_train_pred2)\n",
        "cr_test_knn2 = classification_report(y_test, knn_m_test_pred2) \n",
        "\n",
        "print(\"Train:\", cr_train_knn2)\n",
        "print(\"Test:\", cr_test_knn2)"
      ],
      "execution_count": 126,
      "outputs": [
        {
          "output_type": "stream",
          "text": [
            "Train for Tuned KNN: 100.0\n",
            "Test for Tuned KNN: 54.271844660194176\n",
            "Train:               precision    recall  f1-score   support\n",
            "\n",
            "           0       1.00      1.00      1.00       348\n",
            "           1       1.00      1.00      1.00       380\n",
            "           2       1.00      1.00      1.00       139\n",
            "           3       1.00      1.00      1.00       121\n",
            "           4       1.00      1.00      1.00       120\n",
            "           5       1.00      1.00      1.00        90\n",
            "           6       1.00      1.00      1.00        80\n",
            "           7       1.00      1.00      1.00        62\n",
            "           8       1.00      1.00      1.00        38\n",
            "\n",
            "    accuracy                           1.00      1378\n",
            "   macro avg       1.00      1.00      1.00      1378\n",
            "weighted avg       1.00      1.00      1.00      1378\n",
            "\n",
            "Test:               precision    recall  f1-score   support\n",
            "\n",
            "           0       0.51      0.64      0.57       281\n",
            "           1       0.47      0.56      0.51       283\n",
            "           2       0.66      0.50      0.57       118\n",
            "           3       0.48      0.51      0.50       110\n",
            "           4       0.83      0.83      0.83        75\n",
            "           5       1.00      0.02      0.05        42\n",
            "           6       0.17      0.03      0.04        40\n",
            "           7       0.82      0.72      0.77        43\n",
            "           8       1.00      0.35      0.51        26\n",
            "          11       0.00      0.00      0.00        12\n",
            "\n",
            "    accuracy                           0.54      1030\n",
            "   macro avg       0.59      0.42      0.43      1030\n",
            "weighted avg       0.56      0.54      0.52      1030\n",
            "\n"
          ],
          "name": "stdout"
        }
      ]
    }
  ]
}